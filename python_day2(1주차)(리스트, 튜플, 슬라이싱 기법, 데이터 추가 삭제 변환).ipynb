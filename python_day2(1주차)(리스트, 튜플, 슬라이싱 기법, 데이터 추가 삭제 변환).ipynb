{
 "cells": [
  {
   "cell_type": "markdown",
   "id": "48099d89",
   "metadata": {},
   "source": [
    "# 리스트"
   ]
  },
  {
   "cell_type": "markdown",
   "id": "1297dabf",
   "metadata": {},
   "source": [
    " - 여러개의 자료를 저장할 수 있는 구조"
   ]
  },
  {
   "cell_type": "code",
   "execution_count": 1,
   "id": "5cc4fb2b",
   "metadata": {},
   "outputs": [
    {
     "data": {
      "text/plain": [
       "[10, 20, 30]"
      ]
     },
     "execution_count": 1,
     "metadata": {},
     "output_type": "execute_result"
    }
   ],
   "source": [
    "x = 1\n",
    "a = [10, 20, 30]\n",
    "a"
   ]
  },
  {
   "cell_type": "code",
   "execution_count": 2,
   "id": "b15d86b1",
   "metadata": {},
   "outputs": [
    {
     "data": {
      "text/plain": [
       "['kim', 25, 180, 70, ' female', False, 4.1]"
      ]
     },
     "execution_count": 2,
     "metadata": {},
     "output_type": "execute_result"
    }
   ],
   "source": [
    "p  =['kim', 25, 180, 70, ' female', False, 4.1] \n",
    "p"
   ]
  },
  {
   "cell_type": "code",
   "execution_count": 3,
   "id": "96775b44",
   "metadata": {},
   "outputs": [
    {
     "name": "stdout",
     "output_type": "stream",
     "text": [
      "[]\n",
      "[]\n"
     ]
    }
   ],
   "source": [
    "a1 = []\n",
    "a2=list()\n",
    "print(a1)\n",
    "print(a2)"
   ]
  },
  {
   "cell_type": "code",
   "execution_count": 4,
   "id": "7fcf4d96",
   "metadata": {},
   "outputs": [
    {
     "data": {
      "text/plain": [
       "['kim', 25, 180, 70, ' female', False, 4.1, [100, 90, 100]]"
      ]
     },
     "execution_count": 4,
     "metadata": {},
     "output_type": "execute_result"
    }
   ],
   "source": [
    "p  =['kim', 25, 180, 70, ' female', False, 4.1,[100, 90 , 100]] \n",
    "p"
   ]
  },
  {
   "cell_type": "code",
   "execution_count": 5,
   "id": "242782ed",
   "metadata": {},
   "outputs": [
    {
     "data": {
      "text/plain": [
       "[100, 90, 100]"
      ]
     },
     "execution_count": 5,
     "metadata": {},
     "output_type": "execute_result"
    }
   ],
   "source": [
    "p[4]\n",
    "p[7]\n",
    "p[-1]"
   ]
  },
  {
   "cell_type": "code",
   "execution_count": 6,
   "id": "ffed4d3b",
   "metadata": {},
   "outputs": [
    {
     "data": {
      "text/plain": [
       "90"
      ]
     },
     "execution_count": 6,
     "metadata": {},
     "output_type": "execute_result"
    }
   ],
   "source": [
    "p[-1][1]"
   ]
  },
  {
   "cell_type": "code",
   "execution_count": 7,
   "id": "0e714987",
   "metadata": {},
   "outputs": [],
   "source": [
    "p  =['kim', 25, 180, 70, ' female', False, 4.1,[100, 90 , 100,['sesac', 3, \"AI\"]]] "
   ]
  },
  {
   "cell_type": "code",
   "execution_count": 8,
   "id": "71511123",
   "metadata": {},
   "outputs": [
    {
     "data": {
      "text/plain": [
       "'AI'"
      ]
     },
     "execution_count": 8,
     "metadata": {},
     "output_type": "execute_result"
    }
   ],
   "source": [
    "p[-1][-1][-1]"
   ]
  },
  {
   "cell_type": "code",
   "execution_count": 9,
   "id": "7784351e",
   "metadata": {},
   "outputs": [
    {
     "data": {
      "text/plain": [
       "[90, 100]"
      ]
     },
     "execution_count": 9,
     "metadata": {},
     "output_type": "execute_result"
    }
   ],
   "source": [
    "p[-1][1:3]"
   ]
  },
  {
   "cell_type": "code",
   "execution_count": 10,
   "id": "3e5faa09",
   "metadata": {},
   "outputs": [],
   "source": [
    "x = [1, 2]\n",
    "y = [3, 4]"
   ]
  },
  {
   "cell_type": "code",
   "execution_count": 11,
   "id": "49758f49",
   "metadata": {},
   "outputs": [
    {
     "data": {
      "text/plain": [
       "[1, 2, 3, 4]"
      ]
     },
     "execution_count": 11,
     "metadata": {},
     "output_type": "execute_result"
    }
   ],
   "source": [
    "x+y"
   ]
  },
  {
   "cell_type": "code",
   "execution_count": 12,
   "id": "3a0ffac2",
   "metadata": {},
   "outputs": [
    {
     "data": {
      "text/plain": [
       "'abcd'"
      ]
     },
     "execution_count": 12,
     "metadata": {},
     "output_type": "execute_result"
    }
   ],
   "source": [
    "\"ab\"+\"cd\""
   ]
  },
  {
   "cell_type": "code",
   "execution_count": 13,
   "id": "9e6ade9f",
   "metadata": {},
   "outputs": [
    {
     "data": {
      "text/plain": [
       "[1, 2, 1, 2, 1, 2, 1, 2, 1, 2]"
      ]
     },
     "execution_count": 13,
     "metadata": {},
     "output_type": "execute_result"
    }
   ],
   "source": [
    "x*5"
   ]
  },
  {
   "cell_type": "code",
   "execution_count": 14,
   "id": "e26ba2a5",
   "metadata": {},
   "outputs": [
    {
     "data": {
      "text/plain": [
       "10"
      ]
     },
     "execution_count": 14,
     "metadata": {},
     "output_type": "execute_result"
    }
   ],
   "source": [
    "len(x*5)"
   ]
  },
  {
   "cell_type": "code",
   "execution_count": 15,
   "id": "3e5bbbc1",
   "metadata": {},
   "outputs": [
    {
     "data": {
      "text/plain": [
       "[1, 2]"
      ]
     },
     "execution_count": 15,
     "metadata": {},
     "output_type": "execute_result"
    }
   ],
   "source": [
    "x"
   ]
  },
  {
   "cell_type": "code",
   "execution_count": 16,
   "id": "6f63db6b",
   "metadata": {},
   "outputs": [
    {
     "data": {
      "text/plain": [
       "['kim', 25, 180, 70, ' female', False, 4.1, [100, 90, 100, ['sesac', 3, 'AI']]]"
      ]
     },
     "execution_count": 16,
     "metadata": {},
     "output_type": "execute_result"
    }
   ],
   "source": [
    "p "
   ]
  },
  {
   "cell_type": "code",
   "execution_count": 17,
   "id": "884d1dd4",
   "metadata": {},
   "outputs": [
    {
     "data": {
      "text/plain": [
       "['kim', 25, 180, 70, ' female', False, 4.1, [100, 90, 100, ['sesac', 3, 'AI']]]"
      ]
     },
     "execution_count": 17,
     "metadata": {},
     "output_type": "execute_result"
    }
   ],
   "source": [
    "p"
   ]
  },
  {
   "cell_type": "markdown",
   "id": "8c0618d5",
   "metadata": {},
   "source": [
    "# 리스트 변경( 리스트 위치에 값 입력으로 치환) "
   ]
  },
  {
   "cell_type": "code",
   "execution_count": 18,
   "id": "a5ad4dc2",
   "metadata": {},
   "outputs": [],
   "source": [
    "p[1]=26"
   ]
  },
  {
   "cell_type": "code",
   "execution_count": 19,
   "id": "2a9d21bf",
   "metadata": {},
   "outputs": [
    {
     "data": {
      "text/plain": [
       "['kim', 26, 180, 70, ' female', False, 4.1, [100, 90, 100, ['sesac', 3, 'AI']]]"
      ]
     },
     "execution_count": 19,
     "metadata": {},
     "output_type": "execute_result"
    }
   ],
   "source": [
    "p"
   ]
  },
  {
   "cell_type": "markdown",
   "id": "1db9ef7e",
   "metadata": {},
   "source": [
    "# 리스트 요소삭제 (pop, remove, del)"
   ]
  },
  {
   "cell_type": "code",
   "execution_count": 20,
   "id": "9613afd7",
   "metadata": {},
   "outputs": [
    {
     "data": {
      "text/plain": [
       "['kim', 26, 180, 70, ' female', False, 4.1, [100, 90, 100, ['sesac', 3, 'AI']]]"
      ]
     },
     "execution_count": 20,
     "metadata": {},
     "output_type": "execute_result"
    }
   ],
   "source": [
    "p"
   ]
  },
  {
   "cell_type": "code",
   "execution_count": 21,
   "id": "79959763",
   "metadata": {},
   "outputs": [],
   "source": [
    "del p[3]"
   ]
  },
  {
   "cell_type": "code",
   "execution_count": 22,
   "id": "c4edf694",
   "metadata": {},
   "outputs": [
    {
     "data": {
      "text/plain": [
       "['kim', 26, 180, ' female', False, 4.1, [100, 90, 100, ['sesac', 3, 'AI']]]"
      ]
     },
     "execution_count": 22,
     "metadata": {},
     "output_type": "execute_result"
    }
   ],
   "source": [
    "p"
   ]
  },
  {
   "cell_type": "code",
   "execution_count": 23,
   "id": "de0b1d40",
   "metadata": {},
   "outputs": [],
   "source": [
    "del p[6][2]"
   ]
  },
  {
   "cell_type": "code",
   "execution_count": 24,
   "id": "2d64f754",
   "metadata": {},
   "outputs": [
    {
     "data": {
      "text/plain": [
       "['kim', 26, 180, ' female', False, 4.1, [100, 90, ['sesac', 3, 'AI']]]"
      ]
     },
     "execution_count": 24,
     "metadata": {},
     "output_type": "execute_result"
    }
   ],
   "source": [
    "p"
   ]
  },
  {
   "cell_type": "code",
   "execution_count": 25,
   "id": "91ef111d",
   "metadata": {},
   "outputs": [
    {
     "data": {
      "text/plain": [
       "['kim', 26, 180, ' female', False, 4.1, [100, 90, ['sesac', 3, 'AI']]]"
      ]
     },
     "execution_count": 25,
     "metadata": {},
     "output_type": "execute_result"
    }
   ],
   "source": [
    "p"
   ]
  },
  {
   "cell_type": "code",
   "execution_count": 26,
   "id": "cefd2edf",
   "metadata": {},
   "outputs": [
    {
     "data": {
      "text/plain": [
       "[100, 90, ['sesac', 3, 'AI']]"
      ]
     },
     "execution_count": 26,
     "metadata": {},
     "output_type": "execute_result"
    }
   ],
   "source": [
    "p[6]"
   ]
  },
  {
   "cell_type": "code",
   "execution_count": 27,
   "id": "89031718",
   "metadata": {},
   "outputs": [
    {
     "data": {
      "text/plain": [
       "['kim', 26, 180, ' female']"
      ]
     },
     "execution_count": 27,
     "metadata": {},
     "output_type": "execute_result"
    }
   ],
   "source": [
    "del p[4:]\n",
    "p"
   ]
  },
  {
   "cell_type": "markdown",
   "id": "86bcfac4",
   "metadata": {},
   "source": [
    "# 리스트 범위  Range(지정한 숫자 앞까지 생성)"
   ]
  },
  {
   "cell_type": "code",
   "execution_count": 28,
   "id": "d252355a",
   "metadata": {},
   "outputs": [
    {
     "data": {
      "text/plain": [
       "range(0, 5)"
      ]
     },
     "execution_count": 28,
     "metadata": {},
     "output_type": "execute_result"
    }
   ],
   "source": [
    "range(5)          # 0부터 시작하여 4까지 범위까지 5는 제외 "
   ]
  },
  {
   "cell_type": "code",
   "execution_count": 29,
   "id": "e0861133",
   "metadata": {},
   "outputs": [
    {
     "data": {
      "text/plain": [
       "[0, 1, 2, 3, 4]"
      ]
     },
     "execution_count": 29,
     "metadata": {},
     "output_type": "execute_result"
    }
   ],
   "source": [
    "list(range(5))"
   ]
  },
  {
   "cell_type": "code",
   "execution_count": 30,
   "id": "fa48ae87",
   "metadata": {},
   "outputs": [
    {
     "data": {
      "text/plain": [
       "[1, 2, 3, 4]"
      ]
     },
     "execution_count": 30,
     "metadata": {},
     "output_type": "execute_result"
    }
   ],
   "source": [
    "list(range(1,5))"
   ]
  },
  {
   "cell_type": "code",
   "execution_count": 31,
   "id": "76c51215",
   "metadata": {},
   "outputs": [
    {
     "data": {
      "text/plain": [
       "[1, 3]"
      ]
     },
     "execution_count": 31,
     "metadata": {},
     "output_type": "execute_result"
    }
   ],
   "source": [
    "list(range(1,5,2))"
   ]
  },
  {
   "cell_type": "code",
   "execution_count": 32,
   "id": "c4381d38",
   "metadata": {},
   "outputs": [
    {
     "data": {
      "text/plain": [
       "[-10, -8, -6, -4, -2, 0, 2, 4]"
      ]
     },
     "execution_count": 32,
     "metadata": {},
     "output_type": "execute_result"
    }
   ],
   "source": [
    "list(range(-10,5,2))"
   ]
  },
  {
   "cell_type": "code",
   "execution_count": 33,
   "id": "cddfa935",
   "metadata": {},
   "outputs": [
    {
     "data": {
      "text/plain": [
       "[10, 8, 6, 4, 2, 0, -2, -4]"
      ]
     },
     "execution_count": 33,
     "metadata": {},
     "output_type": "execute_result"
    }
   ],
   "source": [
    "list(range(10,-5,-2))"
   ]
  },
  {
   "cell_type": "code",
   "execution_count": 34,
   "id": "17438dcf",
   "metadata": {},
   "outputs": [
    {
     "data": {
      "text/plain": [
       "[]"
      ]
     },
     "execution_count": 34,
     "metadata": {},
     "output_type": "execute_result"
    }
   ],
   "source": [
    "list(range(-5,10,-2))"
   ]
  },
  {
   "cell_type": "markdown",
   "id": "dbf74471",
   "metadata": {},
   "source": [
    "# 리스트에 자료 추가 방식(append, extend, insert) "
   ]
  },
  {
   "cell_type": "markdown",
   "id": "5eaa1db5",
   "metadata": {},
   "source": [
    "* append : 데이터를 하나만 추가\n",
    "          - 가장 마지막 위치에 데이터 추가)\n",
    "* extend : 기존 리스트 확장\n",
    "* insert : 특정 위치에 데이터 추가\n",
    "           - 특정 위치에 데이터를 추가할 수 있다)"
   ]
  },
  {
   "cell_type": "code",
   "execution_count": 35,
   "id": "afd65bb4",
   "metadata": {},
   "outputs": [
    {
     "data": {
      "text/plain": [
       "[10, 30, 50, 70, 90]"
      ]
     },
     "execution_count": 35,
     "metadata": {},
     "output_type": "execute_result"
    }
   ],
   "source": [
    "x= list(range(10,100,20))\n",
    "x"
   ]
  },
  {
   "cell_type": "markdown",
   "id": "48926587",
   "metadata": {},
   "source": [
    "# append  예시"
   ]
  },
  {
   "cell_type": "code",
   "execution_count": 36,
   "id": "cfbe4820",
   "metadata": {},
   "outputs": [
    {
     "data": {
      "text/plain": [
       "[10, 30, 50, 70, 90, 100]"
      ]
     },
     "execution_count": 36,
     "metadata": {},
     "output_type": "execute_result"
    }
   ],
   "source": [
    "x.append(100)\n",
    "x"
   ]
  },
  {
   "cell_type": "markdown",
   "id": "4bfc83de",
   "metadata": {},
   "source": [
    "x.append(200,300)"
   ]
  },
  {
   "cell_type": "markdown",
   "id": "ef33170f",
   "metadata": {},
   "source": [
    "인수란 해당 함수에 전달되는 것 : argument 오류시 이해하기\n",
    "\n"
   ]
  },
  {
   "cell_type": "code",
   "execution_count": 37,
   "id": "cffc9e70",
   "metadata": {},
   "outputs": [
    {
     "data": {
      "text/plain": [
       "[10, 30, 50, 70, 90, 100, 200]"
      ]
     },
     "execution_count": 37,
     "metadata": {},
     "output_type": "execute_result"
    }
   ],
   "source": [
    "x.append(200)\n",
    "x"
   ]
  },
  {
   "cell_type": "code",
   "execution_count": 38,
   "id": "9924a21b",
   "metadata": {},
   "outputs": [
    {
     "data": {
      "text/plain": [
       "[10, 30, 50, 70, 90, 100, 200, [300, 400]]"
      ]
     },
     "execution_count": 38,
     "metadata": {},
     "output_type": "execute_result"
    }
   ],
   "source": [
    "x.append([300,400])\n",
    "x"
   ]
  },
  {
   "cell_type": "code",
   "execution_count": 39,
   "id": "f39df354",
   "metadata": {},
   "outputs": [
    {
     "data": {
      "text/plain": [
       "[300, 400]"
      ]
     },
     "execution_count": 39,
     "metadata": {},
     "output_type": "execute_result"
    }
   ],
   "source": [
    "x[-1]"
   ]
  },
  {
   "cell_type": "code",
   "execution_count": 40,
   "id": "21bd8f39",
   "metadata": {},
   "outputs": [
    {
     "data": {
      "text/plain": [
       "[10, 30, 50, 70, 90, 100, 200]"
      ]
     },
     "execution_count": 40,
     "metadata": {},
     "output_type": "execute_result"
    }
   ],
   "source": [
    "del x[-1]\n",
    "x"
   ]
  },
  {
   "cell_type": "code",
   "execution_count": 41,
   "id": "449f1bec",
   "metadata": {},
   "outputs": [
    {
     "data": {
      "text/plain": [
       "[10, 30, 50, 70, 90, 100, 200]"
      ]
     },
     "execution_count": 41,
     "metadata": {},
     "output_type": "execute_result"
    }
   ],
   "source": [
    "x"
   ]
  },
  {
   "cell_type": "markdown",
   "id": "538d4e75",
   "metadata": {},
   "source": [
    " # 리스트에 여러개의 요소값을 추가할 경우  extend 사용"
   ]
  },
  {
   "cell_type": "code",
   "execution_count": 42,
   "id": "c6b45f54",
   "metadata": {},
   "outputs": [
    {
     "data": {
      "text/plain": [
       "[10, 30, 50, 70, 90, 100, 200, 300, 400]"
      ]
     },
     "execution_count": 42,
     "metadata": {},
     "output_type": "execute_result"
    }
   ],
   "source": [
    "x.extend([300,400])\n",
    "x"
   ]
  },
  {
   "cell_type": "markdown",
   "id": "6a5aacb8",
   "metadata": {},
   "source": [
    "# 내가 원하는 특정위치에 요소값 추가하는 경우 insert"
   ]
  },
  {
   "cell_type": "code",
   "execution_count": 43,
   "id": "3ce45b64",
   "metadata": {},
   "outputs": [
    {
     "data": {
      "text/plain": [
       "[10, 30, 50, 70, 90, 100, 200, 300, 400]"
      ]
     },
     "execution_count": 43,
     "metadata": {},
     "output_type": "execute_result"
    }
   ],
   "source": [
    "x"
   ]
  },
  {
   "cell_type": "code",
   "execution_count": 44,
   "id": "4e77169f",
   "metadata": {},
   "outputs": [
    {
     "data": {
      "text/plain": [
       "[10, 30, 50, 70, 80, 90, 100, 200, 300, 400]"
      ]
     },
     "execution_count": 44,
     "metadata": {},
     "output_type": "execute_result"
    }
   ],
   "source": [
    "x.insert(4,80)\n",
    "x"
   ]
  },
  {
   "cell_type": "code",
   "execution_count": 45,
   "id": "c3f69591",
   "metadata": {},
   "outputs": [
    {
     "data": {
      "text/plain": [
       "[0, 10, 30, 50, 70, 80, 90, 100, 200, 300, 400]"
      ]
     },
     "execution_count": 45,
     "metadata": {},
     "output_type": "execute_result"
    }
   ],
   "source": [
    "x.insert(0,0)\n",
    "x"
   ]
  },
  {
   "cell_type": "code",
   "execution_count": 46,
   "id": "48fdd041",
   "metadata": {},
   "outputs": [
    {
     "data": {
      "text/plain": [
       "11"
      ]
     },
     "execution_count": 46,
     "metadata": {},
     "output_type": "execute_result"
    }
   ],
   "source": [
    "len(x)"
   ]
  },
  {
   "cell_type": "code",
   "execution_count": 47,
   "id": "db4db6bb",
   "metadata": {},
   "outputs": [
    {
     "data": {
      "text/plain": [
       "[0, 10, 30, 50, 70, 80, 90, 100, 200, 300, 400, 500]"
      ]
     },
     "execution_count": 47,
     "metadata": {},
     "output_type": "execute_result"
    }
   ],
   "source": [
    "len(x)\n",
    "x.insert(len(x),500)\n",
    "x"
   ]
  },
  {
   "cell_type": "code",
   "execution_count": 48,
   "id": "37bcd6ef",
   "metadata": {},
   "outputs": [
    {
     "data": {
      "text/plain": [
       "[0, 10, 30, 50, 55, 65, 70, 80, 90, 100, 200, 300, 400, 500]"
      ]
     },
     "execution_count": 48,
     "metadata": {},
     "output_type": "execute_result"
    }
   ],
   "source": [
    "x[4:4]=[55,65]                #덮어씌우지않고 추가하는 방법\n",
    "x"
   ]
  },
  {
   "cell_type": "code",
   "execution_count": 49,
   "id": "0585c4b4",
   "metadata": {},
   "outputs": [
    {
     "data": {
      "text/plain": [
       "[500, 400, 300, 200, 100, 90, 80, 70, 65, 55, 50, 30, 10, 0]"
      ]
     },
     "execution_count": 49,
     "metadata": {},
     "output_type": "execute_result"
    }
   ],
   "source": [
    "x.reverse()            #역순서\n",
    "x"
   ]
  },
  {
   "cell_type": "markdown",
   "id": "59ba646d",
   "metadata": {},
   "source": [
    "# 리스트 특정위치 자료 삭제법"
   ]
  },
  {
   "cell_type": "markdown",
   "id": "e6ac9d06",
   "metadata": {},
   "source": [
    " # pop사용법: 마지막 위치에 저장된 요소 삭제"
   ]
  },
  {
   "cell_type": "code",
   "execution_count": 50,
   "id": "56ac3437",
   "metadata": {},
   "outputs": [
    {
     "data": {
      "text/plain": [
       "[500, 400, 300, 200, 100, 90, 80, 70, 65, 55, 50, 30, 10]"
      ]
     },
     "execution_count": 50,
     "metadata": {},
     "output_type": "execute_result"
    }
   ],
   "source": [
    "x.pop()\n",
    "x"
   ]
  },
  {
   "cell_type": "markdown",
   "id": "14d7350c",
   "metadata": {},
   "source": [
    "위에 처럼 마지막에 있는 요소 0이 삭제가 되었다"
   ]
  },
  {
   "cell_type": "markdown",
   "id": "3eebad8b",
   "metadata": {},
   "source": [
    "# 특정 위치에 자료 삭제법\n"
   ]
  },
  {
   "cell_type": "code",
   "execution_count": 51,
   "id": "10fffbb6",
   "metadata": {},
   "outputs": [
    {
     "data": {
      "text/plain": [
       "55"
      ]
     },
     "execution_count": 51,
     "metadata": {},
     "output_type": "execute_result"
    }
   ],
   "source": [
    "x.pop(9)"
   ]
  },
  {
   "cell_type": "code",
   "execution_count": 52,
   "id": "7009e91c",
   "metadata": {},
   "outputs": [
    {
     "data": {
      "text/plain": [
       "[500, 400, 300, 200, 100, 90, 80, 70, 65, 50, 30, 10]"
      ]
     },
     "execution_count": 52,
     "metadata": {},
     "output_type": "execute_result"
    }
   ],
   "source": [
    "x"
   ]
  },
  {
   "cell_type": "markdown",
   "id": "d46042ad",
   "metadata": {},
   "source": [
    "# pop과 del의 공통점은 데이터 삭제와 특정위치의 요소 삭제라는게 공통점이다"
   ]
  },
  {
   "cell_type": "markdown",
   "id": "aa513b56",
   "metadata": {},
   "source": [
    " # remove함수 사용, del, pop과는 다르다, "
   ]
  },
  {
   "cell_type": "code",
   "execution_count": 53,
   "id": "018fe410",
   "metadata": {},
   "outputs": [
    {
     "data": {
      "text/plain": [
       "[500, 400, 300, 200, 100, 90, 80, 70, 65, 30, 10]"
      ]
     },
     "execution_count": 53,
     "metadata": {},
     "output_type": "execute_result"
    }
   ],
   "source": [
    "x.remove(50)\n",
    "x"
   ]
  },
  {
   "cell_type": "markdown",
   "id": "818e9ea9",
   "metadata": {},
   "source": [
    "  extend함수\n",
    " "
   ]
  },
  {
   "cell_type": "code",
   "execution_count": 54,
   "id": "5a762d72",
   "metadata": {},
   "outputs": [
    {
     "data": {
      "text/plain": [
       "[500, 400, 300, 200, 100, 90, 80, 70, 65, 30, 10, 5, 1]"
      ]
     },
     "execution_count": 54,
     "metadata": {},
     "output_type": "execute_result"
    }
   ],
   "source": [
    "x.extend([5,1])\n",
    "x"
   ]
  },
  {
   "cell_type": "code",
   "execution_count": 55,
   "id": "17f848ca",
   "metadata": {},
   "outputs": [
    {
     "data": {
      "text/plain": [
       "[500, 400, 300, 200, 100, 90, 80, 70, 65, 30, 10, 5, 1, 0, -10]"
      ]
     },
     "execution_count": 55,
     "metadata": {},
     "output_type": "execute_result"
    }
   ],
   "source": [
    "x+=[0,-10]                 \n",
    "x"
   ]
  },
  {
   "cell_type": "markdown",
   "id": "a945de56",
   "metadata": {},
   "source": [
    "위는 x = x + [0,-10]과 같은 뜻"
   ]
  },
  {
   "cell_type": "markdown",
   "id": "545bad3c",
   "metadata": {},
   "source": [
    "# 리스트 요소 정렬 sort 함수: 리스트 함수 오름차순으로 정렬"
   ]
  },
  {
   "cell_type": "markdown",
   "id": "f4f2ac4f",
   "metadata": {},
   "source": [
    "sort() : 오름차순 ascending sort\n",
    "    "
   ]
  },
  {
   "cell_type": "code",
   "execution_count": 56,
   "id": "e6a4680c",
   "metadata": {},
   "outputs": [
    {
     "data": {
      "text/plain": [
       "[1, 2, 3, 4, 5]"
      ]
     },
     "execution_count": 56,
     "metadata": {},
     "output_type": "execute_result"
    }
   ],
   "source": [
    "a = [5, 1, 2, 3, 4]\n",
    "a.sort()\n",
    "a"
   ]
  },
  {
   "cell_type": "code",
   "execution_count": 57,
   "id": "214ddccc",
   "metadata": {},
   "outputs": [
    {
     "data": {
      "text/plain": [
       "[5, 4, 3, 2, 1]"
      ]
     },
     "execution_count": 57,
     "metadata": {},
     "output_type": "execute_result"
    }
   ],
   "source": [
    "a.sort(reverse=True)\n",
    "a"
   ]
  },
  {
   "cell_type": "code",
   "execution_count": 58,
   "id": "1973c275",
   "metadata": {},
   "outputs": [
    {
     "data": {
      "text/plain": [
       "[1, 2, 3, 4, 5]"
      ]
     },
     "execution_count": 58,
     "metadata": {},
     "output_type": "execute_result"
    }
   ],
   "source": [
    "a.sort(reverse=False)\n",
    "a"
   ]
  },
  {
   "cell_type": "code",
   "execution_count": 59,
   "id": "f9f1261c",
   "metadata": {},
   "outputs": [
    {
     "data": {
      "text/plain": [
       "[10, 20, 30, 40, 50]"
      ]
     },
     "execution_count": 59,
     "metadata": {},
     "output_type": "execute_result"
    }
   ],
   "source": [
    "a2 = [50,30,20,10,40]                  \n",
    "sorted(a2)"
   ]
  },
  {
   "cell_type": "code",
   "execution_count": 60,
   "id": "f4f2fbbd",
   "metadata": {},
   "outputs": [
    {
     "data": {
      "text/plain": [
       "[50, 30, 20, 10, 40]"
      ]
     },
     "execution_count": 60,
     "metadata": {},
     "output_type": "execute_result"
    }
   ],
   "source": [
    "a2"
   ]
  },
  {
   "cell_type": "markdown",
   "id": "e8f350e6",
   "metadata": {},
   "source": [
    "sort는 정렬한 상태가 그대로 유지\n",
    "그러나 sorted는 임시로 새로운 리스트가 하나 만들어 지는것"
   ]
  },
  {
   "cell_type": "code",
   "execution_count": 61,
   "id": "84bc5e75",
   "metadata": {},
   "outputs": [
    {
     "data": {
      "text/plain": [
       "[10, 20, 30, 40, 50]"
      ]
     },
     "execution_count": 61,
     "metadata": {},
     "output_type": "execute_result"
    }
   ],
   "source": [
    "a2 = [50,30,20,10,40]\n",
    "a3=sorted(a2)\n",
    "a3"
   ]
  },
  {
   "cell_type": "code",
   "execution_count": 62,
   "id": "21fe531b",
   "metadata": {},
   "outputs": [
    {
     "data": {
      "text/plain": [
       "[500, 400, 300, 200, 100, 90, 80, 70, 65, 30, 10, 5, 1, 0, -10]"
      ]
     },
     "execution_count": 62,
     "metadata": {},
     "output_type": "execute_result"
    }
   ],
   "source": [
    "x"
   ]
  },
  {
   "cell_type": "markdown",
   "id": "db3aaec5",
   "metadata": {},
   "source": [
    "# del x[:]  리스트 요소 전체 삭제"
   ]
  },
  {
   "cell_type": "code",
   "execution_count": 63,
   "id": "8853ca6b",
   "metadata": {},
   "outputs": [
    {
     "data": {
      "text/plain": [
       "[]"
      ]
     },
     "execution_count": 63,
     "metadata": {},
     "output_type": "execute_result"
    }
   ],
   "source": [
    "x.clear()\n",
    "x"
   ]
  },
  {
   "cell_type": "code",
   "execution_count": 64,
   "id": "5c208b35",
   "metadata": {},
   "outputs": [
    {
     "data": {
      "text/plain": [
       "0"
      ]
     },
     "execution_count": 64,
     "metadata": {},
     "output_type": "execute_result"
    }
   ],
   "source": [
    "len(x)"
   ]
  },
  {
   "cell_type": "code",
   "execution_count": 65,
   "id": "798d3afb",
   "metadata": {},
   "outputs": [
    {
     "data": {
      "text/plain": [
       "[10, 12, 14, 16, 18]"
      ]
     },
     "execution_count": 65,
     "metadata": {},
     "output_type": "execute_result"
    }
   ],
   "source": [
    "a=list(range(10,20,2))\n",
    "a"
   ]
  },
  {
   "cell_type": "code",
   "execution_count": 66,
   "id": "31fa2e53",
   "metadata": {},
   "outputs": [],
   "source": [
    "b = a         # 오른쪽값을 왼쪽 변수에 할당을 하라는 뜻 \n",
    "              # k 리스트를 서로 공유 그래서 아래와 같이 결과값이 바뀌는 경우가 발생\n",
    "              # =를 사용해서 서로 공유가 되는 경우가 발생하게 된다 따로 분리해서 사용하는 경우도 있다\n",
    "             # 아래에  H를 인용하기"
   ]
  },
  {
   "cell_type": "code",
   "execution_count": 67,
   "id": "79e7bfdf",
   "metadata": {},
   "outputs": [
    {
     "data": {
      "text/plain": [
       "14"
      ]
     },
     "execution_count": 67,
     "metadata": {},
     "output_type": "execute_result"
    }
   ],
   "source": [
    "b[2]"
   ]
  },
  {
   "cell_type": "code",
   "execution_count": 68,
   "id": "1e9d790e",
   "metadata": {},
   "outputs": [
    {
     "data": {
      "text/plain": [
       "[10, 12, 20, 16, 18]"
      ]
     },
     "execution_count": 68,
     "metadata": {},
     "output_type": "execute_result"
    }
   ],
   "source": [
    "b[2]=20\n",
    "b"
   ]
  },
  {
   "cell_type": "code",
   "execution_count": 69,
   "id": "3f85de24",
   "metadata": {},
   "outputs": [
    {
     "data": {
      "text/plain": [
       "[10, 12, 20, 16, 18]"
      ]
     },
     "execution_count": 69,
     "metadata": {},
     "output_type": "execute_result"
    }
   ],
   "source": [
    "a                         #a를 변경하지 않았는데 b랑 같이 같이 나온경우 해석은 위에  k해석"
   ]
  },
  {
   "cell_type": "code",
   "execution_count": 70,
   "id": "629d77ab",
   "metadata": {},
   "outputs": [
    {
     "data": {
      "text/plain": [
       "[10, 12, 14, 16, 18]"
      ]
     },
     "execution_count": 70,
     "metadata": {},
     "output_type": "execute_result"
    }
   ],
   "source": [
    "a2 = list(range(10,20,2))\n",
    "a2"
   ]
  },
  {
   "cell_type": "code",
   "execution_count": 71,
   "id": "8a9e6c9d",
   "metadata": {},
   "outputs": [],
   "source": [
    "b2=a2"
   ]
  },
  {
   "cell_type": "code",
   "execution_count": 72,
   "id": "5836a596",
   "metadata": {},
   "outputs": [],
   "source": [
    "b2=a2.copy()                  # H  copy를 통해서 두 인수가 바뀌지 않았다."
   ]
  },
  {
   "cell_type": "code",
   "execution_count": 73,
   "id": "eb300ad8",
   "metadata": {},
   "outputs": [
    {
     "data": {
      "text/plain": [
       "[10, 12, 14, 16, 18]"
      ]
     },
     "execution_count": 73,
     "metadata": {},
     "output_type": "execute_result"
    }
   ],
   "source": [
    "b2"
   ]
  },
  {
   "cell_type": "code",
   "execution_count": 74,
   "id": "c8e4e024",
   "metadata": {},
   "outputs": [
    {
     "data": {
      "text/plain": [
       "[10, 12, 20, 16, 18]"
      ]
     },
     "execution_count": 74,
     "metadata": {},
     "output_type": "execute_result"
    }
   ],
   "source": [
    "a2[2]=20\n",
    "a2"
   ]
  },
  {
   "cell_type": "code",
   "execution_count": 75,
   "id": "d96d7cd7",
   "metadata": {},
   "outputs": [
    {
     "data": {
      "text/plain": [
       "[10, 12, 14, 16, 18]"
      ]
     },
     "execution_count": 75,
     "metadata": {},
     "output_type": "execute_result"
    }
   ],
   "source": [
    "b2"
   ]
  },
  {
   "cell_type": "code",
   "execution_count": 76,
   "id": "41de115b",
   "metadata": {},
   "outputs": [
    {
     "data": {
      "text/plain": [
       "True"
      ]
     },
     "execution_count": 76,
     "metadata": {},
     "output_type": "execute_result"
    }
   ],
   "source": [
    " a is b"
   ]
  },
  {
   "cell_type": "code",
   "execution_count": 77,
   "id": "46605108",
   "metadata": {},
   "outputs": [
    {
     "data": {
      "text/plain": [
       "False"
      ]
     },
     "execution_count": 77,
     "metadata": {},
     "output_type": "execute_result"
    }
   ],
   "source": [
    "a2 is b2"
   ]
  },
  {
   "cell_type": "markdown",
   "id": "99d90ca0",
   "metadata": {},
   "source": [
    "# is는 두 변수가 같은 값을 공유하고 있는지 확인하는 방법"
   ]
  },
  {
   "cell_type": "markdown",
   "id": "a47817ab",
   "metadata": {},
   "source": [
    "# 튜플 (테이터 변경, 수정, 삭제가 안된다, 데이터 읽기만 가능)\n",
    "            - 그 외엔 리스트랑 비슷하다\n",
    "            - 튜플은 잘 안쓰고 리스트를 많이 사용\n",
    "            - 사용하는 경우는 원본 훼손을 하지말아여하거나 사본등등 만드는 것처럼 데이터 요소값에 변화가 생기면 안되는 경우"
   ]
  },
  {
   "cell_type": "code",
   "execution_count": 78,
   "id": "d2bbe976",
   "metadata": {},
   "outputs": [],
   "source": [
    "a = (1, 2, 3)                  #  튜플 예시"
   ]
  },
  {
   "cell_type": "code",
   "execution_count": 79,
   "id": "aa494a51",
   "metadata": {},
   "outputs": [],
   "source": [
    "a2 = (\"kim\",10,20)              #문자 숫자 혼합사용가능"
   ]
  },
  {
   "cell_type": "code",
   "execution_count": 82,
   "id": "727da3d0",
   "metadata": {},
   "outputs": [
    {
     "data": {
      "text/plain": [
       "10"
      ]
     },
     "execution_count": 82,
     "metadata": {},
     "output_type": "execute_result"
    }
   ],
   "source": [
    "a3 = (10)                        #요소가 하나인 경우는 값으로 생각하면된다 튜플이 아니다\n",
    "a3                              # ,(콤마)가 없기 떄문에 튜플이 아니다                      "
   ]
  },
  {
   "cell_type": "code",
   "execution_count": 83,
   "id": "916c34b8",
   "metadata": {},
   "outputs": [
    {
     "data": {
      "text/plain": [
       "(10,)"
      ]
     },
     "execution_count": 83,
     "metadata": {},
     "output_type": "execute_result"
    }
   ],
   "source": [
    "a4 = (10,)                     #데이터 요소가 하나가 구성되어있는 걸로 구성할 경우 ,(콤마)를 붙여서 튜플로 만들어야한다\n",
    "a4                              #()괄호안에 ,(콤마)가 있기 떄문에 튜플로 인식한다"
   ]
  },
  {
   "cell_type": "code",
   "execution_count": 85,
   "id": "e5543e9e",
   "metadata": {},
   "outputs": [
    {
     "data": {
      "text/plain": [
       "('kim', 10, 20)"
      ]
     },
     "execution_count": 85,
     "metadata": {},
     "output_type": "execute_result"
    }
   ],
   "source": [
    "a2"
   ]
  },
  {
   "cell_type": "markdown",
   "id": "f8177e76",
   "metadata": {},
   "source": [
    "- del a2[1]                    # 변경 삭제 수정이 안된다\n",
    "- a[1] = 100                   "
   ]
  },
  {
   "cell_type": "code",
   "execution_count": 89,
   "id": "6a132e4c",
   "metadata": {},
   "outputs": [
    {
     "data": {
      "text/plain": [
       "(0, 1, 2, 3, 4)"
      ]
     },
     "execution_count": 89,
     "metadata": {},
     "output_type": "execute_result"
    }
   ],
   "source": [
    "t = tuple(range(5))\n",
    "t"
   ]
  },
  {
   "cell_type": "code",
   "execution_count": 91,
   "id": "4eeab39b",
   "metadata": {},
   "outputs": [
    {
     "data": {
      "text/plain": [
       "[0, 1, 2, 3, 4]"
      ]
     },
     "execution_count": 91,
     "metadata": {},
     "output_type": "execute_result"
    }
   ],
   "source": [
    "list(t)                       # 튜플을 리스트로 변환하는 경우 리스트 함수를 사용"
   ]
  },
  {
   "cell_type": "code",
   "execution_count": 94,
   "id": "c928f18f",
   "metadata": {},
   "outputs": [
    {
     "data": {
      "text/plain": [
       "(0, 1, 2, 3, 4)"
      ]
     },
     "execution_count": 94,
     "metadata": {},
     "output_type": "execute_result"
    }
   ],
   "source": [
    "tuple(list(t))               # 리스트를 튜플로 변환하는 경우 튜플 함수 사용"
   ]
  },
  {
   "cell_type": "code",
   "execution_count": 106,
   "id": "68405c4f",
   "metadata": {},
   "outputs": [],
   "source": [
    "x,y,z=1,2,3\n",
    "x,y,z=[1,2,3]\n",
    "x,y,z=(1,2,3)"
   ]
  },
  {
   "cell_type": "code",
   "execution_count": 107,
   "id": "d9090489",
   "metadata": {},
   "outputs": [],
   "source": [
    "x=[1,2,3]"
   ]
  },
  {
   "cell_type": "code",
   "execution_count": 108,
   "id": "5278a048",
   "metadata": {},
   "outputs": [],
   "source": [
    "x1,x2,x3=x"
   ]
  },
  {
   "cell_type": "code",
   "execution_count": 109,
   "id": "a982a4e7",
   "metadata": {},
   "outputs": [
    {
     "data": {
      "text/plain": [
       "1"
      ]
     },
     "execution_count": 109,
     "metadata": {},
     "output_type": "execute_result"
    }
   ],
   "source": [
    "x1"
   ]
  },
  {
   "cell_type": "code",
   "execution_count": 110,
   "id": "d824f8d2",
   "metadata": {},
   "outputs": [
    {
     "data": {
      "text/plain": [
       "2"
      ]
     },
     "execution_count": 110,
     "metadata": {},
     "output_type": "execute_result"
    }
   ],
   "source": [
    "x2"
   ]
  },
  {
   "cell_type": "code",
   "execution_count": 111,
   "id": "5e932066",
   "metadata": {},
   "outputs": [
    {
     "data": {
      "text/plain": [
       "3"
      ]
     },
     "execution_count": 111,
     "metadata": {},
     "output_type": "execute_result"
    }
   ],
   "source": [
    "x3"
   ]
  },
  {
   "cell_type": "code",
   "execution_count": 119,
   "id": "f925acbb",
   "metadata": {},
   "outputs": [
    {
     "name": "stdout",
     "output_type": "stream",
     "text": [
      "10 20\n"
     ]
    },
    {
     "data": {
      "text/plain": [
       "['10', '20']"
      ]
     },
     "execution_count": 119,
     "metadata": {},
     "output_type": "execute_result"
    }
   ],
   "source": [
    "input().split()                #분리된 결과가 리스트에 저장이 되어서 리스트값으로 출력됨"
   ]
  },
  {
   "cell_type": "code",
   "execution_count": 120,
   "id": "2eac2509",
   "metadata": {},
   "outputs": [
    {
     "name": "stdout",
     "output_type": "stream",
     "text": [
      "10 20\n"
     ]
    }
   ],
   "source": [
    "a1,a2=input().split()   "
   ]
  },
  {
   "cell_type": "code",
   "execution_count": 121,
   "id": "2faea4b3",
   "metadata": {},
   "outputs": [
    {
     "data": {
      "text/plain": [
       "'10'"
      ]
     },
     "execution_count": 121,
     "metadata": {},
     "output_type": "execute_result"
    }
   ],
   "source": [
    "a1"
   ]
  },
  {
   "cell_type": "code",
   "execution_count": 122,
   "id": "c0058ed0",
   "metadata": {},
   "outputs": [
    {
     "data": {
      "text/plain": [
       "'20'"
      ]
     },
     "execution_count": 122,
     "metadata": {},
     "output_type": "execute_result"
    }
   ],
   "source": [
    "a2"
   ]
  },
  {
   "cell_type": "markdown",
   "id": "19c3fbc5",
   "metadata": {},
   "source": [
    "# 10과 20을 문자열로 분리시켜서 출력 문자는 산술연산이 안됨, split은 문자열 분리 함수"
   ]
  },
  {
   "cell_type": "code",
   "execution_count": 129,
   "id": "2b938aa6",
   "metadata": {},
   "outputs": [
    {
     "data": {
      "text/plain": [
       "11"
      ]
     },
     "execution_count": 129,
     "metadata": {},
     "output_type": "execute_result"
    }
   ],
   "source": [
    "# a1+1             #int로 바꿔서 실행시켜야된다 a1+1은 a1이 문자열이라 실행이 안됨\n",
    "int(a1)+1"
   ]
  },
  {
   "cell_type": "code",
   "execution_count": 130,
   "id": "460c680d",
   "metadata": {},
   "outputs": [
    {
     "data": {
      "text/plain": [
       "'20'"
      ]
     },
     "execution_count": 130,
     "metadata": {},
     "output_type": "execute_result"
    }
   ],
   "source": [
    "a2"
   ]
  },
  {
   "cell_type": "markdown",
   "id": "a05e31fb",
   "metadata": {},
   "source": [
    "# in 연산자 많이 쓰이므로 꼭 복습하기......결과는 TRUE OR FALSE로 나옴"
   ]
  },
  {
   "cell_type": "code",
   "execution_count": 135,
   "id": "8270993f",
   "metadata": {},
   "outputs": [
    {
     "name": "stdout",
     "output_type": "stream",
     "text": [
      "True\n",
      "False\n",
      "True\n"
     ]
    }
   ],
   "source": [
    "print(10 in [10,20,30])\n",
    "print(10 not in [10,20,30])\n",
    "print(100 not in[10,20,30])"
   ]
  },
  {
   "cell_type": "code",
   "execution_count": 137,
   "id": "cc595d6b",
   "metadata": {},
   "outputs": [
    {
     "name": "stdout",
     "output_type": "stream",
     "text": [
      "True\n"
     ]
    }
   ],
   "source": [
    "print(10 in (10,20,30))"
   ]
  },
  {
   "cell_type": "code",
   "execution_count": 139,
   "id": "6c9f822b",
   "metadata": {},
   "outputs": [
    {
     "data": {
      "text/plain": [
       "True"
      ]
     },
     "execution_count": 139,
     "metadata": {},
     "output_type": "execute_result"
    }
   ],
   "source": [
    "10 in range(10,40,10)"
   ]
  },
  {
   "cell_type": "code",
   "execution_count": 144,
   "id": "19934336",
   "metadata": {},
   "outputs": [
    {
     "data": {
      "text/plain": [
       "False"
      ]
     },
     "execution_count": 144,
     "metadata": {},
     "output_type": "execute_result"
    }
   ],
   "source": [
    "\"a\" in \"hi hello\""
   ]
  },
  {
   "cell_type": "code",
   "execution_count": 145,
   "id": "07b1b6d8",
   "metadata": {},
   "outputs": [
    {
     "data": {
      "text/plain": [
       "True"
      ]
     },
     "execution_count": 145,
     "metadata": {},
     "output_type": "execute_result"
    }
   ],
   "source": [
    "\"hi\" in 'hi hello'"
   ]
  },
  {
   "cell_type": "code",
   "execution_count": 156,
   "id": "b1e66835",
   "metadata": {},
   "outputs": [
    {
     "data": {
      "text/plain": [
       "[0, 1, 2, 3, 4, 5, 6, 7, 8, 9]"
      ]
     },
     "execution_count": 156,
     "metadata": {},
     "output_type": "execute_result"
    }
   ],
   "source": [
    "#range(0,5) + range(5,10)               # 현재 시점에서는 안되지만 리스트 구조로 변환하면됨\n",
    "#range(5,10)\n",
    "list(range(0,5))+list(range(5,10))"
   ]
  },
  {
   "cell_type": "code",
   "execution_count": 168,
   "id": "2a713022",
   "metadata": {},
   "outputs": [
    {
     "data": {
      "text/plain": [
       "'hi1.5'"
      ]
     },
     "execution_count": 168,
     "metadata": {},
     "output_type": "execute_result"
    }
   ],
   "source": [
    "\"hi\"+\"hello\"\n",
    "\"hi\"+str(1)               # str로 문자열로 바꿔서 정수, 실수등등 다 문자로 변환해서 실행이 가능하다\n",
    "\"hi\"+str(1.5)"
   ]
  },
  {
   "cell_type": "code",
   "execution_count": 176,
   "id": "f11bb054",
   "metadata": {},
   "outputs": [
    {
     "data": {
      "text/plain": [
       "5"
      ]
     },
     "execution_count": 176,
     "metadata": {},
     "output_type": "execute_result"
    }
   ],
   "source": [
    "len(\"hello\")"
   ]
  },
  {
   "cell_type": "code",
   "execution_count": 179,
   "id": "0b49eb5e",
   "metadata": {},
   "outputs": [
    {
     "data": {
      "text/plain": [
       "5"
      ]
     },
     "execution_count": 179,
     "metadata": {},
     "output_type": "execute_result"
    }
   ],
   "source": [
    "len(\"안녕하세요\")"
   ]
  },
  {
   "cell_type": "markdown",
   "id": "d20071a1",
   "metadata": {},
   "source": [
    "# 바이트 수 확인하는 방법"
   ]
  },
  {
   "cell_type": "code",
   "execution_count": 195,
   "id": "b4a6c1d2",
   "metadata": {},
   "outputs": [
    {
     "data": {
      "text/plain": [
       "15"
      ]
     },
     "execution_count": 195,
     "metadata": {},
     "output_type": "execute_result"
    }
   ],
   "source": [
    "len('hello'.encode(\"utf-8\"))\n",
    "len('안녕하세요'.encode(\"utf-8\"))                            # 몇 바이트인지 계산한것, 바이트 수 확인하는것"
   ]
  },
  {
   "cell_type": "code",
   "execution_count": 207,
   "id": "3754b910",
   "metadata": {},
   "outputs": [
    {
     "data": {
      "text/plain": [
       "[1, 3, 5, 7, 9]"
      ]
     },
     "execution_count": 207,
     "metadata": {},
     "output_type": "execute_result"
    }
   ],
   "source": [
    "x=list(range(1,10,2))\n",
    "x"
   ]
  },
  {
   "cell_type": "code",
   "execution_count": 208,
   "id": "0ce5a6d9",
   "metadata": {},
   "outputs": [
    {
     "data": {
      "text/plain": [
       "[3, 5]"
      ]
     },
     "execution_count": 208,
     "metadata": {},
     "output_type": "execute_result"
    }
   ],
   "source": [
    "x[1:3]"
   ]
  },
  {
   "cell_type": "code",
   "execution_count": 206,
   "id": "a8c9eaef",
   "metadata": {},
   "outputs": [
    {
     "data": {
      "text/plain": [
       "[1, 'a', 'b', 7, 9]"
      ]
     },
     "execution_count": 206,
     "metadata": {},
     "output_type": "execute_result"
    }
   ],
   "source": [
    "x[1:3]=[\"a\",\"b\"]                       # 슬라이싱방법으로 1:3에 a,b를 추가 \n",
    "x"
   ]
  },
  {
   "cell_type": "code",
   "execution_count": 210,
   "id": "d6f135bf",
   "metadata": {},
   "outputs": [
    {
     "data": {
      "text/plain": [
       "[1, 'i', 5, 'j', 9]"
      ]
     },
     "execution_count": 210,
     "metadata": {},
     "output_type": "execute_result"
    }
   ],
   "source": [
    "x[1:5:2]=[\"i\",\"j\"]                  # 1,3번에 i,j를 추가\n",
    "x"
   ]
  },
  {
   "cell_type": "code",
   "execution_count": null,
   "id": "502cc243",
   "metadata": {},
   "outputs": [],
   "source": []
  }
 ],
 "metadata": {
  "kernelspec": {
   "display_name": "Python 3 (ipykernel)",
   "language": "python",
   "name": "python3"
  },
  "language_info": {
   "codemirror_mode": {
    "name": "ipython",
    "version": 3
   },
   "file_extension": ".py",
   "mimetype": "text/x-python",
   "name": "python",
   "nbconvert_exporter": "python",
   "pygments_lexer": "ipython3",
   "version": "3.11.4"
  }
 },
 "nbformat": 4,
 "nbformat_minor": 5
}
