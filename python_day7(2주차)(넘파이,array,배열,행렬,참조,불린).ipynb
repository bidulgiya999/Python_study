{
 "cells": [
  {
   "cell_type": "markdown",
   "id": "cbc73bf9",
   "metadata": {},
   "source": [
    "# 넘파이 ( 패키지 이름수치연산)(선형대수)"
   ]
  },
  {
   "cell_type": "markdown",
   "id": "d9b39b69",
   "metadata": {},
   "source": [
    "## 리스트랑 넘파이랑 요소 곱셉 덧셈 뺄셈 등등 결과값 다르게 나오므로 이해잘하기"
   ]
  },
  {
   "cell_type": "markdown",
   "id": "0a53e083",
   "metadata": {},
   "source": [
    "***구조*** \n",
    " - arr==2\n",
    " - arr이라는 배열안에 저장되는 값"
   ]
  },
  {
   "cell_type": "markdown",
   "id": "e5971e22",
   "metadata": {},
   "source": [
    "## 넘파이 : 배열 프로그래밍을 공부한다\n",
    " - 배열 프로그래밍 : 대규모 데이터를 빠르게 연산\n",
    " - 파이썬 리스트 : 속도 느림, 메모리 많이 차지\n",
    " - 넘파이(수치연산)(선형대수)(패키지) 배열 : 속고 빠름, 메모리 적게 차지, ***배열 요소 타입이 모두 동일***\n",
    " - 넘파이(수치연산)(선형대수)(패키지) 배열은 원소의 개수가 변경 안된다는 점이 리스트 배열과의 차이이다\n",
    " - 파이썬에서 배열을 사용하고 싶다면 넘파이를 이용해야한다\n",
    "판다스\n",
    "맷플랏립,플랏리,태블로,씨본"
   ]
  },
  {
   "cell_type": "code",
   "execution_count": 1,
   "id": "e7076958",
   "metadata": {},
   "outputs": [],
   "source": [
    "import numpy as np"
   ]
  },
  {
   "cell_type": "markdown",
   "id": "4fa62cd0",
   "metadata": {},
   "source": [
    "아래 코드를 통해 리스트로부터 넘파이 배열이 만들어진다는것을 알수 있다"
   ]
  },
  {
   "cell_type": "code",
   "execution_count": 2,
   "id": "de959d0a",
   "metadata": {},
   "outputs": [
    {
     "data": {
      "text/plain": [
       "array([1.1, 2. , 3. ])"
      ]
     },
     "execution_count": 2,
     "metadata": {},
     "output_type": "execute_result"
    }
   ],
   "source": [
    "ar=np.array([1.1,2,3])\n",
    "ar"
   ]
  },
  {
   "cell_type": "markdown",
   "id": "7c936ed6",
   "metadata": {},
   "source": [
    "위에 출력값은 [1,2,3]에서 1을 1.1로 바꿔주니 ***배열 요소 타입 모두 동일*** 조건으로 인해 결과값도 float값으로 출력됨"
   ]
  },
  {
   "cell_type": "code",
   "execution_count": 3,
   "id": "51cd6b75",
   "metadata": {},
   "outputs": [
    {
     "data": {
      "text/plain": [
       "numpy.ndarray"
      ]
     },
     "execution_count": 3,
     "metadata": {},
     "output_type": "execute_result"
    }
   ],
   "source": [
    "type(ar)"
   ]
  },
  {
   "cell_type": "code",
   "execution_count": 4,
   "id": "12f13646",
   "metadata": {},
   "outputs": [],
   "source": [
    "myarr=np.arange(100000)     #0부터 99999까지\n",
    "mylist=list(np.arange(100000))"
   ]
  },
  {
   "cell_type": "markdown",
   "id": "b01ed91a",
   "metadata": {},
   "source": [
    "# ##아래는 배열을 리스트로 바꿔주는 과정"
   ]
  },
  {
   "cell_type": "code",
   "execution_count": 5,
   "id": "585e8bf8",
   "metadata": {},
   "outputs": [
    {
     "data": {
      "text/plain": [
       "array([0, 1, 2, 3, 4, 5, 6, 7, 8, 9])"
      ]
     },
     "execution_count": 5,
     "metadata": {},
     "output_type": "execute_result"
    }
   ],
   "source": [
    "np.arange(10)"
   ]
  },
  {
   "cell_type": "code",
   "execution_count": 6,
   "id": "3696f2f0",
   "metadata": {},
   "outputs": [
    {
     "data": {
      "text/plain": [
       "[0, 1, 2, 3, 4, 5, 6, 7, 8, 9]"
      ]
     },
     "execution_count": 6,
     "metadata": {},
     "output_type": "execute_result"
    }
   ],
   "source": [
    "list(np.arange(10))"
   ]
  },
  {
   "cell_type": "code",
   "execution_count": 7,
   "id": "159cbf0f",
   "metadata": {},
   "outputs": [
    {
     "data": {
      "text/plain": [
       "array([    0,     1,     2, ..., 99997, 99998, 99999])"
      ]
     },
     "execution_count": 7,
     "metadata": {},
     "output_type": "execute_result"
    }
   ],
   "source": [
    "myarr=np.arange(100000)    \n",
    "mylist=list(np.arange(100000))\n",
    "list(np.arange(10))\n",
    "myarr   # 값 출력됨\n",
    "#mylist # 값 출력됨"
   ]
  },
  {
   "cell_type": "markdown",
   "id": "8ad4015c",
   "metadata": {},
   "source": [
    "# 매직 명령어\n",
    " -  보통 %timeit 형태로 쓰임"
   ]
  },
  {
   "cell_type": "code",
   "execution_count": 8,
   "id": "7a42662e",
   "metadata": {},
   "outputs": [
    {
     "name": "stdout",
     "output_type": "stream",
     "text": [
      "51 µs ± 602 ns per loop (mean ± std. dev. of 7 runs, 10,000 loops each)\n",
      "4.78 ms ± 141 µs per loop (mean ± std. dev. of 7 runs, 100 loops each)\n"
     ]
    }
   ],
   "source": [
    "%timeit myarr2=myarr*2\n",
    "%timeit mylist2=[x*2 for x in mylist]"
   ]
  },
  {
   "cell_type": "code",
   "execution_count": 9,
   "id": "38139ef1",
   "metadata": {},
   "outputs": [],
   "source": [
    "myarr=np.arange(100000)    \n",
    "mylist=list(np.arange(100000))"
   ]
  },
  {
   "cell_type": "code",
   "execution_count": 10,
   "id": "a6c7ae67",
   "metadata": {},
   "outputs": [
    {
     "data": {
      "text/plain": [
       "array([    0,     1,     2, ..., 99997, 99998, 99999])"
      ]
     },
     "execution_count": 10,
     "metadata": {},
     "output_type": "execute_result"
    }
   ],
   "source": [
    "myarr"
   ]
  },
  {
   "cell_type": "code",
   "execution_count": 11,
   "id": "bb01dc0d",
   "metadata": {},
   "outputs": [],
   "source": [
    "myarr3=myarr*2"
   ]
  },
  {
   "cell_type": "code",
   "execution_count": 12,
   "id": "67d7aa8e",
   "metadata": {},
   "outputs": [],
   "source": [
    "mylist3=[x*2 for x in mylist]"
   ]
  },
  {
   "cell_type": "code",
   "execution_count": 13,
   "id": "87be2a39",
   "metadata": {},
   "outputs": [
    {
     "data": {
      "text/plain": [
       "array([     0,      2,      4, ..., 199994, 199996, 199998])"
      ]
     },
     "execution_count": 13,
     "metadata": {},
     "output_type": "execute_result"
    }
   ],
   "source": [
    "myarr3"
   ]
  },
  {
   "cell_type": "code",
   "execution_count": 14,
   "id": "c2db9d1a",
   "metadata": {},
   "outputs": [
    {
     "data": {
      "text/plain": [
       "array([[ 1. ,  0. ,  1.2],\n",
       "       [ 0. , -3. ,  6. ]])"
      ]
     },
     "execution_count": 14,
     "metadata": {},
     "output_type": "execute_result"
    }
   ],
   "source": [
    "data = np.array([[1,-0,1.2],[0,-3,6]])\n",
    "data"
   ]
  },
  {
   "cell_type": "code",
   "execution_count": 15,
   "id": "c2da6b13",
   "metadata": {},
   "outputs": [
    {
     "data": {
      "text/plain": [
       "array([[ 2. ,  0. ,  2.4],\n",
       "       [ 0. , -6. , 12. ]])"
      ]
     },
     "execution_count": 15,
     "metadata": {},
     "output_type": "execute_result"
    }
   ],
   "source": [
    "data*2"
   ]
  },
  {
   "cell_type": "code",
   "execution_count": 16,
   "id": "4aebd8d1",
   "metadata": {},
   "outputs": [
    {
     "data": {
      "text/plain": [
       "array([[ 2. ,  0. ,  2.4],\n",
       "       [ 0. , -6. , 12. ]])"
      ]
     },
     "execution_count": 16,
     "metadata": {},
     "output_type": "execute_result"
    }
   ],
   "source": [
    "data+data"
   ]
  },
  {
   "cell_type": "code",
   "execution_count": 17,
   "id": "8224f71c",
   "metadata": {},
   "outputs": [
    {
     "data": {
      "text/plain": [
       "[array([2. , 0. , 2.4]), array([ 0., -6., 12.])]"
      ]
     },
     "execution_count": 17,
     "metadata": {},
     "output_type": "execute_result"
    }
   ],
   "source": [
    "list(data+data)"
   ]
  },
  {
   "cell_type": "markdown",
   "id": "8b9bd3ae",
   "metadata": {},
   "source": [
    "# array를 리스트로 변환"
   ]
  },
  {
   "cell_type": "markdown",
   "id": "e7ef5b52",
   "metadata": {},
   "source": [
    "## 아래는 넘파이 계산 결과값 방식"
   ]
  },
  {
   "cell_type": "code",
   "execution_count": 18,
   "id": "4c0ad62d",
   "metadata": {},
   "outputs": [
    {
     "data": {
      "text/plain": [
       "dtype('int32')"
      ]
     },
     "execution_count": 18,
     "metadata": {},
     "output_type": "execute_result"
    }
   ],
   "source": [
    "arr=np.array([1,2,3])\n",
    "arr.ndim\n",
    "arr.dtype "
   ]
  },
  {
   "cell_type": "code",
   "execution_count": 19,
   "id": "953d67a3",
   "metadata": {},
   "outputs": [
    {
     "data": {
      "text/plain": [
       "array([1, 2, 3])"
      ]
     },
     "execution_count": 19,
     "metadata": {},
     "output_type": "execute_result"
    }
   ],
   "source": [
    "arr"
   ]
  },
  {
   "cell_type": "code",
   "execution_count": 20,
   "id": "424a757a",
   "metadata": {},
   "outputs": [
    {
     "data": {
      "text/plain": [
       "array([3, 6, 9])"
      ]
     },
     "execution_count": 20,
     "metadata": {},
     "output_type": "execute_result"
    }
   ],
   "source": [
    "arr*3"
   ]
  },
  {
   "cell_type": "code",
   "execution_count": 21,
   "id": "f1b7eb8c",
   "metadata": {},
   "outputs": [
    {
     "data": {
      "text/plain": [
       "array([ 4,  7, 10])"
      ]
     },
     "execution_count": 21,
     "metadata": {},
     "output_type": "execute_result"
    }
   ],
   "source": [
    "arr*3+1"
   ]
  },
  {
   "cell_type": "code",
   "execution_count": 22,
   "id": "4fee59e5",
   "metadata": {},
   "outputs": [
    {
     "data": {
      "text/plain": [
       "array([ 4,  8, 12])"
      ]
     },
     "execution_count": 22,
     "metadata": {},
     "output_type": "execute_result"
    }
   ],
   "source": [
    "arr*(3+1)"
   ]
  },
  {
   "cell_type": "markdown",
   "id": "b85b538f",
   "metadata": {},
   "source": [
    "## 아래는 리스트 계산 결과값 방식"
   ]
  },
  {
   "cell_type": "code",
   "execution_count": 23,
   "id": "4f0b25c4",
   "metadata": {},
   "outputs": [
    {
     "data": {
      "text/plain": [
       "[1, 2, 3, 1, 2, 3, 1, 2, 3]"
      ]
     },
     "execution_count": 23,
     "metadata": {},
     "output_type": "execute_result"
    }
   ],
   "source": [
    "[1,2,3]*3"
   ]
  },
  {
   "cell_type": "markdown",
   "id": "e3b10376",
   "metadata": {},
   "source": [
    " - 리스트와 넘파이는 서로 계산 방식이 틀리다"
   ]
  },
  {
   "cell_type": "markdown",
   "id": "12684a18",
   "metadata": {},
   "source": [
    "## 여기서 부터 다시 넘파이에서 계산 방식"
   ]
  },
  {
   "cell_type": "markdown",
   "id": "11b2b1cc",
   "metadata": {},
   "source": [
    "- 아래는 각각 요소들이 조건에 각각 만족하는지에 대한 결과값"
   ]
  },
  {
   "cell_type": "code",
   "execution_count": 24,
   "id": "c5d1bd23",
   "metadata": {},
   "outputs": [
    {
     "data": {
      "text/plain": [
       "array([False,  True, False])"
      ]
     },
     "execution_count": 24,
     "metadata": {},
     "output_type": "execute_result"
    }
   ],
   "source": [
    "arr==2"
   ]
  },
  {
   "cell_type": "code",
   "execution_count": 25,
   "id": "8b991308",
   "metadata": {},
   "outputs": [
    {
     "data": {
      "text/plain": [
       "array([False, False,  True])"
      ]
     },
     "execution_count": 25,
     "metadata": {},
     "output_type": "execute_result"
    }
   ],
   "source": [
    "arr>2"
   ]
  },
  {
   "cell_type": "code",
   "execution_count": 26,
   "id": "5a6b060b",
   "metadata": {},
   "outputs": [
    {
     "data": {
      "text/plain": [
       "array([False,  True,  True])"
      ]
     },
     "execution_count": 26,
     "metadata": {},
     "output_type": "execute_result"
    }
   ],
   "source": [
    "(arr==2)|(arr>2)"
   ]
  },
  {
   "cell_type": "code",
   "execution_count": 27,
   "id": "1d16660a",
   "metadata": {},
   "outputs": [
    {
     "data": {
      "text/plain": [
       "dtype('int32')"
      ]
     },
     "execution_count": 27,
     "metadata": {},
     "output_type": "execute_result"
    }
   ],
   "source": [
    "arr.dtype"
   ]
  },
  {
   "cell_type": "code",
   "execution_count": 28,
   "id": "87597e95",
   "metadata": {},
   "outputs": [
    {
     "data": {
      "text/plain": [
       "numpy.ndarray"
      ]
     },
     "execution_count": 28,
     "metadata": {},
     "output_type": "execute_result"
    }
   ],
   "source": [
    "type(arr)"
   ]
  },
  {
   "cell_type": "markdown",
   "id": "26787e65",
   "metadata": {},
   "source": [
    "## 모든 것을 0으로 출력 : zeros"
   ]
  },
  {
   "cell_type": "code",
   "execution_count": 29,
   "id": "43330f28",
   "metadata": {},
   "outputs": [
    {
     "data": {
      "text/plain": [
       "array([0., 0., 0., 0., 0., 0., 0., 0., 0., 0.])"
      ]
     },
     "execution_count": 29,
     "metadata": {},
     "output_type": "execute_result"
    }
   ],
   "source": [
    "np.zeros(10)"
   ]
  },
  {
   "cell_type": "code",
   "execution_count": 30,
   "id": "857e8ed0",
   "metadata": {},
   "outputs": [
    {
     "data": {
      "text/plain": [
       "array([[0., 0.],\n",
       "       [0., 0.],\n",
       "       [0., 0.]])"
      ]
     },
     "execution_count": 30,
     "metadata": {},
     "output_type": "execute_result"
    }
   ],
   "source": [
    "np.zeros((3,2))"
   ]
  },
  {
   "cell_type": "markdown",
   "id": "b8cf81d5",
   "metadata": {},
   "source": [
    "## 모든 것을 1로 출력 : ones"
   ]
  },
  {
   "cell_type": "code",
   "execution_count": 31,
   "id": "ebacfb06",
   "metadata": {},
   "outputs": [
    {
     "data": {
      "text/plain": [
       "array([1., 1., 1., 1., 1., 1., 1., 1., 1., 1.])"
      ]
     },
     "execution_count": 31,
     "metadata": {},
     "output_type": "execute_result"
    }
   ],
   "source": [
    "np.ones(10)"
   ]
  },
  {
   "cell_type": "code",
   "execution_count": 32,
   "id": "e366df29",
   "metadata": {},
   "outputs": [
    {
     "data": {
      "text/plain": [
       "array([[1., 1.],\n",
       "       [1., 1.],\n",
       "       [1., 1.]])"
      ]
     },
     "execution_count": 32,
     "metadata": {},
     "output_type": "execute_result"
    }
   ],
   "source": [
    "np.ones((3,2))"
   ]
  },
  {
   "cell_type": "code",
   "execution_count": 33,
   "id": "f484b815",
   "metadata": {},
   "outputs": [
    {
     "data": {
      "text/plain": [
       "array([2., 2., 2., 2., 2., 2., 2., 2., 2., 2.])"
      ]
     },
     "execution_count": 33,
     "metadata": {},
     "output_type": "execute_result"
    }
   ],
   "source": [
    "np.ones(10)*2"
   ]
  },
  {
   "cell_type": "markdown",
   "id": "1e28b3b7",
   "metadata": {},
   "source": [
    "## 0과 1로 초기화해야 하는 경우가 빈번해서 zeros와 ones가 존재함"
   ]
  },
  {
   "cell_type": "code",
   "execution_count": 34,
   "id": "88e28294",
   "metadata": {},
   "outputs": [
    {
     "data": {
      "text/plain": [
       "array([1, 2, 3])"
      ]
     },
     "execution_count": 34,
     "metadata": {},
     "output_type": "execute_result"
    }
   ],
   "source": [
    "arr"
   ]
  },
  {
   "cell_type": "code",
   "execution_count": 35,
   "id": "b9790ebb",
   "metadata": {},
   "outputs": [
    {
     "data": {
      "text/plain": [
       "array([1., 1., 1.])"
      ]
     },
     "execution_count": 35,
     "metadata": {},
     "output_type": "execute_result"
    }
   ],
   "source": [
    "arr2=np.ones(3)\n",
    "arr2"
   ]
  },
  {
   "cell_type": "code",
   "execution_count": 36,
   "id": "a76c0e6c",
   "metadata": {},
   "outputs": [
    {
     "data": {
      "text/plain": [
       "array([2., 3., 4.])"
      ]
     },
     "execution_count": 36,
     "metadata": {},
     "output_type": "execute_result"
    }
   ],
   "source": [
    "arr+arr2      # 요소끼리 더한 값이 출력"
   ]
  },
  {
   "cell_type": "code",
   "execution_count": 37,
   "id": "efc87cb2",
   "metadata": {},
   "outputs": [
    {
     "data": {
      "text/plain": [
       "array([1., 2., 3.])"
      ]
     },
     "execution_count": 37,
     "metadata": {},
     "output_type": "execute_result"
    }
   ],
   "source": [
    "arr*arr2"
   ]
  },
  {
   "cell_type": "markdown",
   "id": "472bbd21",
   "metadata": {},
   "source": [
    "## 타입 변환 : astype"
   ]
  },
  {
   "cell_type": "code",
   "execution_count": 38,
   "id": "463ce001",
   "metadata": {},
   "outputs": [
    {
     "data": {
      "text/plain": [
       "dtype('float64')"
      ]
     },
     "execution_count": 38,
     "metadata": {},
     "output_type": "execute_result"
    }
   ],
   "source": [
    "arr1=arr.astype(np.float64)\n",
    "arr1\n",
    "arr1.dtype"
   ]
  },
  {
   "cell_type": "code",
   "execution_count": 39,
   "id": "cb4c2511",
   "metadata": {},
   "outputs": [
    {
     "data": {
      "text/plain": [
       "array([1, 2, 3])"
      ]
     },
     "execution_count": 39,
     "metadata": {},
     "output_type": "execute_result"
    }
   ],
   "source": [
    "arr2=arr1.astype(np.int32)\n",
    "arr2"
   ]
  },
  {
   "cell_type": "code",
   "execution_count": 40,
   "id": "e003c174",
   "metadata": {},
   "outputs": [
    {
     "data": {
      "text/plain": [
       "array([1., 2., 3.])"
      ]
     },
     "execution_count": 40,
     "metadata": {},
     "output_type": "execute_result"
    }
   ],
   "source": [
    "arr1.astype(float)"
   ]
  },
  {
   "cell_type": "markdown",
   "id": "0afa2670",
   "metadata": {},
   "source": [
    "## 특정값을 다른 값으로 변환\n",
    " - 리스트 처럼 범위나 특정 범위 값을 지정해서 변환가능\n",
    " - 꼭 무조건 범위를 지정해서 변환을 해야된다 그렇지 않으면 요소값이 없어진다"
   ]
  },
  {
   "cell_type": "code",
   "execution_count": 41,
   "id": "1168b621",
   "metadata": {},
   "outputs": [
    {
     "data": {
      "text/plain": [
       "array([0, 1, 2, 3, 4, 5, 6, 7, 8, 9])"
      ]
     },
     "execution_count": 41,
     "metadata": {},
     "output_type": "execute_result"
    }
   ],
   "source": [
    "arr=np.arange(10)\n",
    "arr"
   ]
  },
  {
   "cell_type": "code",
   "execution_count": 42,
   "id": "6e0f74ca",
   "metadata": {},
   "outputs": [
    {
     "data": {
      "text/plain": [
       "array([  0,   1,   2,   3,   4, 100, 100, 100,   8,   9])"
      ]
     },
     "execution_count": 42,
     "metadata": {},
     "output_type": "execute_result"
    }
   ],
   "source": [
    "arr[5:8]=100\n",
    "arr"
   ]
  },
  {
   "cell_type": "code",
   "execution_count": 43,
   "id": "e1403613",
   "metadata": {},
   "outputs": [
    {
     "data": {
      "text/plain": [
       "array([100, 100, 100])"
      ]
     },
     "execution_count": 43,
     "metadata": {},
     "output_type": "execute_result"
    }
   ],
   "source": [
    "hund=arr[5:8]\n",
    "hund"
   ]
  },
  {
   "cell_type": "code",
   "execution_count": 44,
   "id": "7d494d01",
   "metadata": {},
   "outputs": [
    {
     "data": {
      "text/plain": [
       "array([  0, 999,   2,   3,   4, 100, 100, 100,   8,   9])"
      ]
     },
     "execution_count": 44,
     "metadata": {},
     "output_type": "execute_result"
    }
   ],
   "source": [
    "arr[1]=999\n",
    "arr"
   ]
  },
  {
   "cell_type": "markdown",
   "id": "28978f4e",
   "metadata": {},
   "source": [
    "## 이런 경우는 범위를 주지 않아서 요소가 없어지고 1만 나옴"
   ]
  },
  {
   "cell_type": "code",
   "execution_count": 45,
   "id": "f0cc53a3",
   "metadata": {},
   "outputs": [
    {
     "data": {
      "text/plain": [
       "1"
      ]
     },
     "execution_count": 45,
     "metadata": {},
     "output_type": "execute_result"
    }
   ],
   "source": [
    "arr=1                \n",
    "arr"
   ]
  },
  {
   "cell_type": "code",
   "execution_count": 46,
   "id": "9ddc1bfe",
   "metadata": {},
   "outputs": [
    {
     "data": {
      "text/plain": [
       "array([0, 1, 2, 3, 4, 5, 6, 7, 8, 9])"
      ]
     },
     "execution_count": 46,
     "metadata": {},
     "output_type": "execute_result"
    }
   ],
   "source": [
    "arr=np.arange(10)\n",
    "arr"
   ]
  },
  {
   "cell_type": "code",
   "execution_count": 47,
   "id": "d9a17003",
   "metadata": {},
   "outputs": [
    {
     "data": {
      "text/plain": [
       "array([10, 10, 10, 10, 10, 10, 10, 10, 10, 10])"
      ]
     },
     "execution_count": 47,
     "metadata": {},
     "output_type": "execute_result"
    }
   ],
   "source": [
    "arr[:]=10\n",
    "arr"
   ]
  },
  {
   "cell_type": "markdown",
   "id": "9cf664b6",
   "metadata": {},
   "source": [
    "## reshape : 행과 열에 대한 개수를 변경"
   ]
  },
  {
   "cell_type": "code",
   "execution_count": 48,
   "id": "a3d51e28",
   "metadata": {},
   "outputs": [
    {
     "data": {
      "text/plain": [
       "array([[1, 2, 3],\n",
       "       [4, 5, 6],\n",
       "       [7, 8, 9]])"
      ]
     },
     "execution_count": 48,
     "metadata": {},
     "output_type": "execute_result"
    }
   ],
   "source": [
    "np.arange(1,10).reshape(3,3)"
   ]
  },
  {
   "cell_type": "code",
   "execution_count": 49,
   "id": "6be5bd18",
   "metadata": {},
   "outputs": [
    {
     "data": {
      "text/plain": [
       "array([1, 2, 3])"
      ]
     },
     "execution_count": 49,
     "metadata": {},
     "output_type": "execute_result"
    }
   ],
   "source": [
    "arr2d=np.arange(1,10).reshape(3,3)\n",
    "arr2d[0]"
   ]
  },
  {
   "cell_type": "markdown",
   "id": "77526ffd",
   "metadata": {},
   "source": [
    "### 앞에 행 뒤가 열"
   ]
  },
  {
   "cell_type": "code",
   "execution_count": 50,
   "id": "d09141e5",
   "metadata": {},
   "outputs": [
    {
     "data": {
      "text/plain": [
       "4"
      ]
     },
     "execution_count": 50,
     "metadata": {},
     "output_type": "execute_result"
    }
   ],
   "source": [
    "arr2d[1][0]             # 행과 열을 따로 참조 혹은"
   ]
  },
  {
   "cell_type": "code",
   "execution_count": 51,
   "id": "01cb9f5f",
   "metadata": {},
   "outputs": [
    {
     "data": {
      "text/plain": [
       "4"
      ]
     },
     "execution_count": 51,
     "metadata": {},
     "output_type": "execute_result"
    }
   ],
   "source": [
    "arr2d[1,0]             #행과 열을 한번에 지정해서 할 수 있음"
   ]
  },
  {
   "cell_type": "code",
   "execution_count": 52,
   "id": "a1ddd43c",
   "metadata": {},
   "outputs": [
    {
     "data": {
      "text/plain": [
       "10"
      ]
     },
     "execution_count": 52,
     "metadata": {},
     "output_type": "execute_result"
    }
   ],
   "source": [
    "#1 - 12까지 값으로 3행 4열 배열 생성\n",
    "arr6=np.arange(1,13).reshape(3,4)\n",
    "arr6[2][1]"
   ]
  },
  {
   "cell_type": "markdown",
   "id": "372b78e3",
   "metadata": {},
   "source": [
    "# len"
   ]
  },
  {
   "cell_type": "markdown",
   "id": "794a73d2",
   "metadata": {},
   "source": [
    "## 2차원 배열에서 len을 이용해서 행과 열을 구할수 있다"
   ]
  },
  {
   "cell_type": "code",
   "execution_count": 53,
   "id": "83aa3700",
   "metadata": {},
   "outputs": [
    {
     "data": {
      "text/plain": [
       "3"
      ]
     },
     "execution_count": 53,
     "metadata": {},
     "output_type": "execute_result"
    }
   ],
   "source": [
    "arr6\n",
    "len(arr6) "
   ]
  },
  {
   "cell_type": "code",
   "execution_count": 54,
   "id": "a7fa9d34",
   "metadata": {},
   "outputs": [
    {
     "data": {
      "text/plain": [
       "4"
      ]
     },
     "execution_count": 54,
     "metadata": {},
     "output_type": "execute_result"
    }
   ],
   "source": [
    "len(arr6[0])"
   ]
  },
  {
   "cell_type": "markdown",
   "id": "586179ca",
   "metadata": {},
   "source": [
    "## 3차원 배열"
   ]
  },
  {
   "cell_type": "code",
   "execution_count": 55,
   "id": "91cb537c",
   "metadata": {},
   "outputs": [
    {
     "data": {
      "text/plain": [
       "array([[[ 1,  2,  3,  4],\n",
       "        [ 5,  6,  7,  8],\n",
       "        [ 9, 10, 11, 12]],\n",
       "\n",
       "       [[13, 14, 15, 16],\n",
       "        [17, 18, 19, 20],\n",
       "        [21, 22, 23, 24]]])"
      ]
     },
     "execution_count": 55,
     "metadata": {},
     "output_type": "execute_result"
    }
   ],
   "source": [
    "# 3차월 배열이며 (깊이(차원),행,열)\n",
    "d= np.arange(1,25).reshape(2,3,4)      \n",
    "d"
   ]
  },
  {
   "cell_type": "code",
   "execution_count": 56,
   "id": "d53201f2",
   "metadata": {},
   "outputs": [
    {
     "data": {
      "text/plain": [
       "(2, 3, 4)"
      ]
     },
     "execution_count": 56,
     "metadata": {},
     "output_type": "execute_result"
    }
   ],
   "source": [
    "len(d)       # 차원\n",
    "len(d[0])    # 행\n",
    "len(d[0][0]) # 열\n",
    "d.ndim   # 몇 차원인지 물어보는 것\n",
    "d.shape    # 2차원이면서 3행 4열인것"
   ]
  },
  {
   "cell_type": "markdown",
   "id": "96abfece",
   "metadata": {},
   "source": [
    "# sum : 합계"
   ]
  },
  {
   "cell_type": "code",
   "execution_count": 57,
   "id": "a6e7272f",
   "metadata": {},
   "outputs": [
    {
     "data": {
      "text/plain": [
       "array([[14, 16, 18, 20],\n",
       "       [22, 24, 26, 28],\n",
       "       [30, 32, 34, 36]])"
      ]
     },
     "execution_count": 57,
     "metadata": {},
     "output_type": "execute_result"
    }
   ],
   "source": [
    "np.sum(d)\n",
    "np.sum(d,axis=0)       #  차원(축)을 기준으로 합계"
   ]
  },
  {
   "cell_type": "code",
   "execution_count": 58,
   "id": "dc51e7db",
   "metadata": {},
   "outputs": [
    {
     "data": {
      "text/plain": [
       "array([[15, 18, 21, 24],\n",
       "       [51, 54, 57, 60]])"
      ]
     },
     "execution_count": 58,
     "metadata": {},
     "output_type": "execute_result"
    }
   ],
   "source": [
    "np.sum(d)\n",
    "np.sum(d,axis=1)  #  행을 기준으로 합계"
   ]
  },
  {
   "cell_type": "code",
   "execution_count": 59,
   "id": "367f965d",
   "metadata": {},
   "outputs": [
    {
     "data": {
      "text/plain": [
       "array([[10, 26, 42],\n",
       "       [58, 74, 90]])"
      ]
     },
     "execution_count": 59,
     "metadata": {},
     "output_type": "execute_result"
    }
   ],
   "source": [
    "np.sum(d)\n",
    "np.sum(d,axis=2) # 열을 기준으로 합계"
   ]
  },
  {
   "cell_type": "code",
   "execution_count": 60,
   "id": "622ba60d",
   "metadata": {},
   "outputs": [],
   "source": [
    "arr = np.arange(1,13).reshape(3,4)"
   ]
  },
  {
   "cell_type": "code",
   "execution_count": 61,
   "id": "38f60ea6",
   "metadata": {},
   "outputs": [
    {
     "data": {
      "text/plain": [
       "array([[ 1,  2,  3,  4],\n",
       "       [ 5,  6,  7,  8],\n",
       "       [ 9, 10, 11, 12]])"
      ]
     },
     "execution_count": 61,
     "metadata": {},
     "output_type": "execute_result"
    }
   ],
   "source": [
    "arr"
   ]
  },
  {
   "cell_type": "code",
   "execution_count": 62,
   "id": "35b3003f",
   "metadata": {},
   "outputs": [
    {
     "data": {
      "text/plain": [
       "array([ 3,  7, 11])"
      ]
     },
     "execution_count": 62,
     "metadata": {},
     "output_type": "execute_result"
    }
   ],
   "source": [
    "arr[:,2]"
   ]
  },
  {
   "cell_type": "code",
   "execution_count": 63,
   "id": "7feba977",
   "metadata": {},
   "outputs": [
    {
     "data": {
      "text/plain": [
       "array([7, 8])"
      ]
     },
     "execution_count": 63,
     "metadata": {},
     "output_type": "execute_result"
    }
   ],
   "source": [
    "arr[1,2:]\n",
    "arr[1,2:4]"
   ]
  },
  {
   "cell_type": "code",
   "execution_count": 64,
   "id": "9bf2f927",
   "metadata": {},
   "outputs": [
    {
     "data": {
      "text/plain": [
       "array([ 9, 10])"
      ]
     },
     "execution_count": 64,
     "metadata": {},
     "output_type": "execute_result"
    }
   ],
   "source": [
    "arr[2,:2]"
   ]
  },
  {
   "cell_type": "markdown",
   "id": "45ed7ce4",
   "metadata": {},
   "source": [
    "# 이건 중요한 내용이니 잘 확인"
   ]
  },
  {
   "cell_type": "markdown",
   "id": "b168cc70",
   "metadata": {},
   "source": [
    "## 불린참조"
   ]
  },
  {
   "cell_type": "code",
   "execution_count": 65,
   "id": "29cf4a6a",
   "metadata": {},
   "outputs": [],
   "source": [
    "a=np.array([1,2,3])\n",
    "b=np.array([True,False,True])"
   ]
  },
  {
   "cell_type": "code",
   "execution_count": 66,
   "id": "807794b8",
   "metadata": {},
   "outputs": [
    {
     "data": {
      "text/plain": [
       "array([1, 3])"
      ]
     },
     "execution_count": 66,
     "metadata": {},
     "output_type": "execute_result"
    }
   ],
   "source": [
    "# True에 해당되는 자료를 참조\n",
    "a\n",
    "# b에 저장된 값이 True인 위치의 a배열 요소의 값을 참초\n",
    "a[b]"
   ]
  },
  {
   "cell_type": "markdown",
   "id": "deb4185d",
   "metadata": {},
   "source": [
    "## 불린 참조 응용 :  요소 추출"
   ]
  },
  {
   "cell_type": "code",
   "execution_count": 67,
   "id": "ed8ae87b",
   "metadata": {},
   "outputs": [
    {
     "data": {
      "text/plain": [
       "array([[ 1,  2,  3,  4],\n",
       "       [ 5,  6,  7,  8],\n",
       "       [ 9, 10, 11, 12]])"
      ]
     },
     "execution_count": 67,
     "metadata": {},
     "output_type": "execute_result"
    }
   ],
   "source": [
    "arr"
   ]
  },
  {
   "cell_type": "code",
   "execution_count": 68,
   "id": "b89f1fcf",
   "metadata": {},
   "outputs": [
    {
     "data": {
      "text/plain": [
       "array([ 4,  8, 12])"
      ]
     },
     "execution_count": 68,
     "metadata": {},
     "output_type": "execute_result"
    }
   ],
   "source": [
    "# arr배열에서 4의 배수만 추출\n",
    "arr%4==0\n",
    "arr[arr%4==0]"
   ]
  },
  {
   "cell_type": "code",
   "execution_count": 69,
   "id": "4a53e92c",
   "metadata": {},
   "outputs": [
    {
     "data": {
      "text/plain": [
       "array([11, 12, 13, 14, 15, 16, 17, 18, 19])"
      ]
     },
     "execution_count": 69,
     "metadata": {},
     "output_type": "execute_result"
    }
   ],
   "source": [
    "a=np.arange(11,20)\n",
    "a"
   ]
  },
  {
   "cell_type": "code",
   "execution_count": 70,
   "id": "d1a0e137",
   "metadata": {},
   "outputs": [
    {
     "data": {
      "text/plain": [
       "array([11, 14, 16])"
      ]
     },
     "execution_count": 70,
     "metadata": {},
     "output_type": "execute_result"
    }
   ],
   "source": [
    "a[np.array([0,3,5])]"
   ]
  },
  {
   "cell_type": "markdown",
   "id": "4187bbf1",
   "metadata": {},
   "source": [
    "### 아래와 같이 번호만 주면 번호수 만큼 추출이 가능"
   ]
  },
  {
   "cell_type": "code",
   "execution_count": 71,
   "id": "6449a845",
   "metadata": {},
   "outputs": [
    {
     "data": {
      "text/plain": [
       "array([11, 14, 16, 16, 16, 16, 16, 16])"
      ]
     },
     "execution_count": 71,
     "metadata": {},
     "output_type": "execute_result"
    }
   ],
   "source": [
    "a[np.array([0,3,5,5,5,5,5,5])]"
   ]
  },
  {
   "cell_type": "code",
   "execution_count": 72,
   "id": "11eb2d66",
   "metadata": {},
   "outputs": [
    {
     "data": {
      "text/plain": [
       "array([[ 1,  2,  3,  4],\n",
       "       [ 5,  6,  7,  8],\n",
       "       [ 9, 10, 11, 12]])"
      ]
     },
     "execution_count": 72,
     "metadata": {},
     "output_type": "execute_result"
    }
   ],
   "source": [
    "arr"
   ]
  },
  {
   "cell_type": "code",
   "execution_count": 73,
   "id": "f9ada493",
   "metadata": {},
   "outputs": [
    {
     "data": {
      "text/plain": [
       "array([[ 9, 10, 11, 12],\n",
       "       [ 1,  2,  3,  4],\n",
       "       [ 5,  6,  7,  8]])"
      ]
     },
     "execution_count": 73,
     "metadata": {},
     "output_type": "execute_result"
    }
   ],
   "source": [
    "arr[[2,0,1],:]"
   ]
  },
  {
   "cell_type": "code",
   "execution_count": 74,
   "id": "873645f3",
   "metadata": {},
   "outputs": [
    {
     "data": {
      "text/plain": [
       "array([[ 1,  3],\n",
       "       [ 5,  7],\n",
       "       [ 9, 11]])"
      ]
     },
     "execution_count": 74,
     "metadata": {},
     "output_type": "execute_result"
    }
   ],
   "source": [
    "arr[:,[True,False,True,False]]"
   ]
  },
  {
   "cell_type": "code",
   "execution_count": 75,
   "id": "eb724f63",
   "metadata": {},
   "outputs": [
    {
     "data": {
      "text/plain": [
       "array([[ 1,  2,  3,  4],\n",
       "       [ 5,  6,  7,  8],\n",
       "       [ 9, 10, 11, 12]])"
      ]
     },
     "execution_count": 75,
     "metadata": {},
     "output_type": "execute_result"
    }
   ],
   "source": [
    "brr=arr\n",
    "brr"
   ]
  },
  {
   "cell_type": "markdown",
   "id": "a9f76e23",
   "metadata": {},
   "source": [
    "# 값 치환"
   ]
  },
  {
   "cell_type": "code",
   "execution_count": 76,
   "id": "da348c31",
   "metadata": {},
   "outputs": [
    {
     "data": {
      "text/plain": [
       "array([[ 1,  2,  3,  4],\n",
       "       [50,  6,  7,  8],\n",
       "       [ 9, 10, 11, 12]])"
      ]
     },
     "execution_count": 76,
     "metadata": {},
     "output_type": "execute_result"
    }
   ],
   "source": [
    "arr[1,0]=50\n",
    "arr"
   ]
  },
  {
   "cell_type": "code",
   "execution_count": 77,
   "id": "2f71f129",
   "metadata": {},
   "outputs": [
    {
     "data": {
      "text/plain": [
       "array([[ 1,  2,  3,  4],\n",
       "       [50,  6,  7,  8],\n",
       "       [ 9, 10, 11, 12]])"
      ]
     },
     "execution_count": 77,
     "metadata": {},
     "output_type": "execute_result"
    }
   ],
   "source": [
    "brr"
   ]
  },
  {
   "cell_type": "markdown",
   "id": "0972ee5a",
   "metadata": {},
   "source": [
    "# copy : 복사가 이루어 지는데 복사이전에 array에서 요소가 변하더라고\n",
    "# 원본이 변경이되고 사본은 변경이 이루어 지지 않는다."
   ]
  },
  {
   "cell_type": "code",
   "execution_count": 78,
   "id": "bbe6b849",
   "metadata": {},
   "outputs": [
    {
     "data": {
      "text/plain": [
       "array([[ 1,  2,  3,  4],\n",
       "       [50,  6,  7,  8],\n",
       "       [ 9, 10, 11, 12]])"
      ]
     },
     "execution_count": 78,
     "metadata": {},
     "output_type": "execute_result"
    }
   ],
   "source": [
    "crr=arr.copy()\n",
    "crr"
   ]
  },
  {
   "cell_type": "code",
   "execution_count": 79,
   "id": "a2606b61",
   "metadata": {},
   "outputs": [
    {
     "data": {
      "text/plain": [
       "array([[ 1,  2,  3,  4],\n",
       "       [50,  6,  7,  8],\n",
       "       [90, 10, 11, 12]])"
      ]
     },
     "execution_count": 79,
     "metadata": {},
     "output_type": "execute_result"
    }
   ],
   "source": [
    "arr[2,0]=90\n",
    "arr"
   ]
  },
  {
   "cell_type": "code",
   "execution_count": 80,
   "id": "0d0cb8a7",
   "metadata": {},
   "outputs": [
    {
     "data": {
      "text/plain": [
       "array([[ 1,  2,  3,  4],\n",
       "       [50,  6,  7,  8],\n",
       "       [ 9, 10, 11, 12]])"
      ]
     },
     "execution_count": 80,
     "metadata": {},
     "output_type": "execute_result"
    }
   ],
   "source": [
    "crr"
   ]
  },
  {
   "cell_type": "markdown",
   "id": "a1c1c1d1",
   "metadata": {},
   "source": [
    "# 값 대입 및 추출"
   ]
  },
  {
   "cell_type": "code",
   "execution_count": 81,
   "id": "ffabc13e",
   "metadata": {},
   "outputs": [],
   "source": [
    "names=np.array(['kim','park','lee'])\n",
    "data=np.array([[4,2],[0,2],[-1,2]])"
   ]
  },
  {
   "cell_type": "code",
   "execution_count": 82,
   "id": "935a9ce7",
   "metadata": {},
   "outputs": [
    {
     "data": {
      "text/plain": [
       "array([2])"
      ]
     },
     "execution_count": 82,
     "metadata": {},
     "output_type": "execute_result"
    }
   ],
   "source": [
    "names==\"kim\"\n",
    "data[names==\"kim\"]\n",
    "data[names==\"kim\",1]"
   ]
  },
  {
   "cell_type": "code",
   "execution_count": 83,
   "id": "25373a45",
   "metadata": {},
   "outputs": [
    {
     "data": {
      "text/plain": [
       "array([ 4, -1])"
      ]
     },
     "execution_count": 83,
     "metadata": {},
     "output_type": "execute_result"
    }
   ],
   "source": [
    "names\n",
    "names !=\"park\"\n",
    "data[names !=\"park\"]\n",
    "data[names !=\"park\",0]"
   ]
  },
  {
   "cell_type": "markdown",
   "id": "f4f64f3c",
   "metadata": {},
   "source": [
    "# ~은 not의 의미"
   ]
  },
  {
   "cell_type": "code",
   "execution_count": 84,
   "id": "a70e5529",
   "metadata": {},
   "outputs": [
    {
     "data": {
      "text/plain": [
       "array([False,  True,  True])"
      ]
     },
     "execution_count": 84,
     "metadata": {},
     "output_type": "execute_result"
    }
   ],
   "source": [
    "~(names==\"kim\")"
   ]
  },
  {
   "cell_type": "code",
   "execution_count": 85,
   "id": "a1a15491",
   "metadata": {},
   "outputs": [
    {
     "data": {
      "text/plain": [
       "array([[ 0,  2],\n",
       "       [-1,  2]])"
      ]
     },
     "execution_count": 85,
     "metadata": {},
     "output_type": "execute_result"
    }
   ],
   "source": [
    "names\n",
    "(names==\"park\")|(names==\"lee\")\n",
    "data[(names==\"park\")|(names==\"lee\")]"
   ]
  },
  {
   "cell_type": "code",
   "execution_count": 86,
   "id": "e9559250",
   "metadata": {},
   "outputs": [
    {
     "data": {
      "text/plain": [
       "array([[False, False],\n",
       "       [False, False],\n",
       "       [ True, False]])"
      ]
     },
     "execution_count": 86,
     "metadata": {},
     "output_type": "execute_result"
    }
   ],
   "source": [
    "# 모든 데이터에 적용\n",
    "data<0       "
   ]
  },
  {
   "cell_type": "code",
   "execution_count": 87,
   "id": "f3ee7a3e",
   "metadata": {},
   "outputs": [
    {
     "data": {
      "text/plain": [
       "array([-1])"
      ]
     },
     "execution_count": 87,
     "metadata": {},
     "output_type": "execute_result"
    }
   ],
   "source": [
    "data[data<0]"
   ]
  },
  {
   "cell_type": "code",
   "execution_count": 88,
   "id": "8227edd4",
   "metadata": {},
   "outputs": [],
   "source": [
    "# 음수에 관련된것을 0으로 치환\n",
    "data[data<0]=0"
   ]
  },
  {
   "cell_type": "code",
   "execution_count": 89,
   "id": "16de1cfc",
   "metadata": {},
   "outputs": [
    {
     "data": {
      "text/plain": [
       "array([[4, 2],\n",
       "       [0, 2],\n",
       "       [0, 2]])"
      ]
     },
     "execution_count": 89,
     "metadata": {},
     "output_type": "execute_result"
    }
   ],
   "source": [
    "data"
   ]
  },
  {
   "cell_type": "code",
   "execution_count": 90,
   "id": "d2564a4c",
   "metadata": {},
   "outputs": [
    {
     "data": {
      "text/plain": [
       "array(['kim', 'park', 'lee'], dtype='<U4')"
      ]
     },
     "execution_count": 90,
     "metadata": {},
     "output_type": "execute_result"
    }
   ],
   "source": [
    " names"
   ]
  },
  {
   "cell_type": "code",
   "execution_count": 91,
   "id": "ae58d176",
   "metadata": {},
   "outputs": [
    {
     "data": {
      "text/plain": [
       "array([[4, 2],\n",
       "       [0, 2],\n",
       "       [0, 2]])"
      ]
     },
     "execution_count": 91,
     "metadata": {},
     "output_type": "execute_result"
    }
   ],
   "source": [
    "data"
   ]
  },
  {
   "cell_type": "code",
   "execution_count": 92,
   "id": "22dd8dc7",
   "metadata": {},
   "outputs": [
    {
     "data": {
      "text/plain": [
       "array([[0, 2]])"
      ]
     },
     "execution_count": 92,
     "metadata": {},
     "output_type": "execute_result"
    }
   ],
   "source": [
    "data[names==\"lee\"]"
   ]
  },
  {
   "cell_type": "code",
   "execution_count": 93,
   "id": "3ecd6deb",
   "metadata": {},
   "outputs": [
    {
     "data": {
      "text/plain": [
       "array([[  4,   2],\n",
       "       [  0,   2],\n",
       "       [999, 999]])"
      ]
     },
     "execution_count": 93,
     "metadata": {},
     "output_type": "execute_result"
    }
   ],
   "source": [
    "data[names==\"lee\"]=999\n",
    "data"
   ]
  },
  {
   "cell_type": "code",
   "execution_count": 94,
   "id": "c2708ac1",
   "metadata": {},
   "outputs": [
    {
     "data": {
      "text/plain": [
       "array([[0., 0., 0., 0.],\n",
       "       [0., 0., 0., 0.],\n",
       "       [0., 0., 0., 0.],\n",
       "       [0., 0., 0., 0.],\n",
       "       [0., 0., 0., 0.],\n",
       "       [0., 0., 0., 0.],\n",
       "       [0., 0., 0., 0.],\n",
       "       [0., 0., 0., 0.]])"
      ]
     },
     "execution_count": 94,
     "metadata": {},
     "output_type": "execute_result"
    }
   ],
   "source": [
    "arr=np.zeros((8,4))\n",
    "arr"
   ]
  },
  {
   "cell_type": "code",
   "execution_count": 95,
   "id": "3256a286",
   "metadata": {},
   "outputs": [
    {
     "data": {
      "text/plain": [
       "array([[0., 0., 0., 0.],\n",
       "       [1., 1., 1., 1.],\n",
       "       [0., 0., 0., 0.],\n",
       "       [0., 0., 0., 0.],\n",
       "       [0., 0., 0., 0.],\n",
       "       [0., 0., 0., 0.],\n",
       "       [0., 0., 0., 0.],\n",
       "       [7., 7., 7., 7.]])"
      ]
     },
     "execution_count": 95,
     "metadata": {},
     "output_type": "execute_result"
    }
   ],
   "source": [
    "arr[0,:]=0\n",
    "arr[1,:]=1\n",
    "arr[-1,:]=7\n",
    "arr[0]\n",
    "arr[1]\n",
    "arr[-1]\n",
    "arr"
   ]
  },
  {
   "cell_type": "markdown",
   "id": "4c83d709",
   "metadata": {},
   "source": [
    "# 브로드캐스팅"
   ]
  },
  {
   "cell_type": "code",
   "execution_count": 96,
   "id": "c2d920c8",
   "metadata": {},
   "outputs": [
    {
     "data": {
      "text/plain": [
       "array([[0., 0., 0., 0.],\n",
       "       [1., 1., 1., 1.],\n",
       "       [2., 2., 2., 2.],\n",
       "       [3., 3., 3., 3.],\n",
       "       [4., 4., 4., 4.],\n",
       "       [5., 5., 5., 5.],\n",
       "       [6., 6., 6., 6.],\n",
       "       [7., 7., 7., 7.]])"
      ]
     },
     "execution_count": 96,
     "metadata": {},
     "output_type": "execute_result"
    }
   ],
   "source": [
    "for i in range(8):\n",
    "    arr[i]=i                    #arr은 2차원 i는 1차원구조라 연산이 되지 않아야하지만 브로드캐스팅을 통해\n",
    "arr                             #[0,0,0,0] = 0 =>[0,0,0,0] =[0,0,0,0]\n",
    "                               #  #[0,0,0,0] = 1 =>[1,1,1,1] =[1,1,1,1]"
   ]
  },
  {
   "cell_type": "code",
   "execution_count": null,
   "id": "1fa885d2",
   "metadata": {},
   "outputs": [],
   "source": []
  }
 ],
 "metadata": {
  "kernelspec": {
   "display_name": "Python 3 (ipykernel)",
   "language": "python",
   "name": "python3"
  },
  "language_info": {
   "codemirror_mode": {
    "name": "ipython",
    "version": 3
   },
   "file_extension": ".py",
   "mimetype": "text/x-python",
   "name": "python",
   "nbconvert_exporter": "python",
   "pygments_lexer": "ipython3",
   "version": "3.11.4"
  }
 },
 "nbformat": 4,
 "nbformat_minor": 5
}
