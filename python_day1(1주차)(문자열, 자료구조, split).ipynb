{
 "cells": [
  {
   "cell_type": "markdown",
   "id": "dff522de",
   "metadata": {},
   "source": [
    "쉽고 유지보수 용이\n",
    "유지보수 비용이 프로그램 비용에서 대다수 차지\n",
    "개발 시간이 짧다, 문법이 간결함, 무료, 다양한 분야에서 범용적으로 사용됨, 거의 작성못하는게 없을 정도\n",
    "웹 프로그래밍,데이터베이스, 유틸리티, 사물인터넷 등\n",
    "앱 같은 곳에서는 다루기가 좀 까다롭다 \n",
    "주 목적은 머신러닝, 딥러닝, 데이터 사이언스 "
   ]
  },
  {
   "cell_type": "markdown",
   "id": "c58c92c6",
   "metadata": {},
   "source": [
    "편집모드, 입력모드(왼쪽 여백 클릭시 녹색 테두리는 입력모드, 파란색은 편집모드)\n",
    "녹색으로 되있으면 코드입력이 가능하다\n",
    "파란색은 셀 편집모드"
   ]
  },
  {
   "cell_type": "code",
   "execution_count": 1,
   "id": "874d3c52",
   "metadata": {
    "scrolled": false
   },
   "outputs": [
    {
     "name": "stdout",
     "output_type": "stream",
     "text": [
      "hello sesac\n"
     ]
    }
   ],
   "source": [
    "print('hello sesac')"
   ]
  },
  {
   "cell_type": "code",
   "execution_count": 2,
   "id": "ad9a6f17",
   "metadata": {
    "scrolled": true
   },
   "outputs": [
    {
     "name": "stdout",
     "output_type": "stream",
     "text": [
      "hello sesac\n"
     ]
    }
   ],
   "source": [
    "print('hello sesac')"
   ]
  },
  {
   "cell_type": "code",
   "execution_count": 3,
   "id": "cb81ff6a",
   "metadata": {},
   "outputs": [
    {
     "data": {
      "text/plain": [
       "'hello sesac'"
      ]
     },
     "execution_count": 3,
     "metadata": {},
     "output_type": "execute_result"
    }
   ],
   "source": [
    "'hello sesac'"
   ]
  },
  {
   "cell_type": "code",
   "execution_count": 4,
   "id": "2143eafa",
   "metadata": {},
   "outputs": [
    {
     "name": "stdout",
     "output_type": "stream",
     "text": [
      "hello sesac\n"
     ]
    }
   ],
   "source": [
    "print('hello sesac')"
   ]
  },
  {
   "cell_type": "code",
   "execution_count": 5,
   "id": "8714f965",
   "metadata": {},
   "outputs": [
    {
     "data": {
      "text/plain": [
       "'hello sesac'"
      ]
     },
     "execution_count": 5,
     "metadata": {},
     "output_type": "execute_result"
    }
   ],
   "source": [
    "'hello sesac'\n",
    "'hello sesac' # 셀에 print가 없기 떄문에 맨 마지막 명령문만 실행된다\n",
    "              "
   ]
  },
  {
   "cell_type": "code",
   "execution_count": 6,
   "id": "87eb2264",
   "metadata": {},
   "outputs": [
    {
     "data": {
      "text/plain": [
       "3"
      ]
     },
     "execution_count": 6,
     "metadata": {},
     "output_type": "execute_result"
    }
   ],
   "source": [
    "x = 3\n",
    "y = 2\n",
    "x # x가 맨 마지막 실행이지만  변수 x에 3이 있기 때문에 3이 실행됨"
   ]
  },
  {
   "cell_type": "code",
   "execution_count": 7,
   "id": "d2d1d9e8",
   "metadata": {},
   "outputs": [
    {
     "data": {
      "text/plain": [
       "2"
      ]
     },
     "execution_count": 7,
     "metadata": {},
     "output_type": "execute_result"
    }
   ],
   "source": [
    "x = 3\n",
    "y = 2\n",
    "x\n",
    "y"
   ]
  },
  {
   "cell_type": "code",
   "execution_count": 8,
   "id": "65ea7d1e",
   "metadata": {},
   "outputs": [
    {
     "name": "stdout",
     "output_type": "stream",
     "text": [
      "3\n",
      "2\n"
     ]
    }
   ],
   "source": [
    "x = 3\n",
    "y = 2\n",
    "print(x)\n",
    "print(y)"
   ]
  },
  {
   "cell_type": "code",
   "execution_count": 9,
   "id": "4c7719f2",
   "metadata": {},
   "outputs": [
    {
     "data": {
      "text/plain": [
       "2"
      ]
     },
     "execution_count": 9,
     "metadata": {},
     "output_type": "execute_result"
    }
   ],
   "source": [
    " 1  + 1"
   ]
  },
  {
   "cell_type": "code",
   "execution_count": 10,
   "id": "75d7415e",
   "metadata": {},
   "outputs": [
    {
     "data": {
      "text/plain": [
       "2"
      ]
     },
     "execution_count": 10,
     "metadata": {},
     "output_type": "execute_result"
    }
   ],
   "source": [
    " 2 * 1"
   ]
  },
  {
   "cell_type": "code",
   "execution_count": 11,
   "id": "9ef29b83",
   "metadata": {},
   "outputs": [
    {
     "data": {
      "text/plain": [
       "3"
      ]
     },
     "execution_count": 11,
     "metadata": {},
     "output_type": "execute_result"
    }
   ],
   "source": [
    "x = 1\n",
    "y = 2\n",
    "x + y"
   ]
  },
  {
   "cell_type": "code",
   "execution_count": 12,
   "id": "6eca243f",
   "metadata": {},
   "outputs": [
    {
     "name": "stdout",
     "output_type": "stream",
     "text": [
      "13\n",
      "239\n"
     ]
    }
   ],
   "source": [
    "x = 1\n",
    "a = 1.5\n",
    "b = 3.1e10 # 여기서 e는 3.1 x 10의 10승\n",
    "c = 0o15\n",
    "d = 0xef\n",
    "print(c)\n",
    "print(d)"
   ]
  },
  {
   "cell_type": "code",
   "execution_count": 13,
   "id": "fbb8ae39",
   "metadata": {},
   "outputs": [
    {
     "data": {
      "text/plain": [
       "31000000000.0"
      ]
     },
     "execution_count": 13,
     "metadata": {},
     "output_type": "execute_result"
    }
   ],
   "source": [
    "b"
   ]
  },
  {
   "cell_type": "code",
   "execution_count": 14,
   "id": "c9ec91f0",
   "metadata": {},
   "outputs": [
    {
     "name": "stdout",
     "output_type": "stream",
     "text": [
      "13\n"
     ]
    }
   ],
   "source": [
    "print(c)"
   ]
  },
  {
   "cell_type": "code",
   "execution_count": 15,
   "id": "d73073c1",
   "metadata": {},
   "outputs": [
    {
     "name": "stdout",
     "output_type": "stream",
     "text": [
      "81\n",
      "1\n",
      "1\n"
     ]
    }
   ],
   "source": [
    "print(3**4) # 3의 4승\n",
    "print(4%3)  #\n",
    "print(4 // 3)"
   ]
  },
  {
   "cell_type": "markdown",
   "id": "502f56e0",
   "metadata": {},
   "source": [
    "# 문자열"
   ]
  },
  {
   "cell_type": "markdown",
   "id": "e9da7101",
   "metadata": {},
   "source": [
    "\"hello\"\n",
    "'hello'\n",
    "\n",
    "\n",
    "\"\"\"\n",
    "hi \n",
    "jae                               #여러줄 기술시 큰 따움표 혹은 작은 따움표 사이에 작성을 한다\n",
    "\"\"\"\n",
    "\n",
    "'''\n",
    "hi\n",
    "jae\n",
    "'''"
   ]
  },
  {
   "cell_type": "code",
   "execution_count": 16,
   "id": "acdcae92",
   "metadata": {},
   "outputs": [
    {
     "data": {
      "text/plain": [
       "\"Kim's\""
      ]
     },
     "execution_count": 16,
     "metadata": {},
     "output_type": "execute_result"
    }
   ],
   "source": [
    "n = \"Kim's\"                         \n",
    "n"
   ]
  },
  {
   "cell_type": "markdown",
   "id": "2b921758",
   "metadata": {},
   "source": [
    "n = 'Kim's'    \n",
    "n"
   ]
  },
  {
   "cell_type": "code",
   "execution_count": 17,
   "id": "6adbe6b5",
   "metadata": {},
   "outputs": [
    {
     "data": {
      "text/plain": [
       "\"Kim's\""
      ]
     },
     "execution_count": 17,
     "metadata": {},
     "output_type": "execute_result"
    }
   ],
   "source": [
    "n = 'Kim\\'s'    \n",
    "n"
   ]
  },
  {
   "cell_type": "code",
   "execution_count": 18,
   "id": "7cd32ce1",
   "metadata": {},
   "outputs": [
    {
     "name": "stdout",
     "output_type": "stream",
     "text": [
      "he\tllo \n",
      "hi\n"
     ]
    }
   ],
   "source": [
    "msg = 'he\\tllo \\nhi'\n",
    "print(msg)                         #     \\t는 tap키랑 같다"
   ]
  },
  {
   "cell_type": "code",
   "execution_count": 19,
   "id": "120a1ff9",
   "metadata": {},
   "outputs": [
    {
     "data": {
      "text/plain": [
       "'hihello'"
      ]
     },
     "execution_count": 19,
     "metadata": {},
     "output_type": "execute_result"
    }
   ],
   "source": [
    "\"hi\"+\"hello\""
   ]
  },
  {
   "cell_type": "code",
   "execution_count": 20,
   "id": "f568f5f4",
   "metadata": {},
   "outputs": [
    {
     "data": {
      "text/plain": [
       "'hihihihihihihihihihihihihihihihihihihihihihihihihihihihihihihihihihihihihihihihihihihihihihihihihihihihihihihihihihihihihihihihihihihihihihihihihihihihihihihihihihihihihihihihihihihihihihihihihihihihi'"
      ]
     },
     "execution_count": 20,
     "metadata": {},
     "output_type": "execute_result"
    }
   ],
   "source": [
    "\"hi\" *100"
   ]
  },
  {
   "cell_type": "code",
   "execution_count": 21,
   "id": "46426e7c",
   "metadata": {},
   "outputs": [
    {
     "data": {
      "text/plain": [
       "'=================================================='"
      ]
     },
     "execution_count": 21,
     "metadata": {},
     "output_type": "execute_result"
    }
   ],
   "source": [
    "\"=\" * 50"
   ]
  },
  {
   "cell_type": "code",
   "execution_count": 22,
   "id": "00b79da8",
   "metadata": {},
   "outputs": [
    {
     "data": {
      "text/plain": [
       "' *  *  *  *  *  *  *  *  *  * '"
      ]
     },
     "execution_count": 22,
     "metadata": {},
     "output_type": "execute_result"
    }
   ],
   "source": [
    "\" * \" *10"
   ]
  },
  {
   "cell_type": "code",
   "execution_count": 23,
   "id": "02cf5976",
   "metadata": {},
   "outputs": [
    {
     "data": {
      "text/plain": [
       "5"
      ]
     },
     "execution_count": 23,
     "metadata": {},
     "output_type": "execute_result"
    }
   ],
   "source": [
    "len(\"hello\")"
   ]
  },
  {
   "cell_type": "code",
   "execution_count": 24,
   "id": "3bbe5a28",
   "metadata": {},
   "outputs": [
    {
     "data": {
      "text/plain": [
       "'hello'"
      ]
     },
     "execution_count": 24,
     "metadata": {},
     "output_type": "execute_result"
    }
   ],
   "source": [
    "a= \"hello\"\n",
    "a"
   ]
  },
  {
   "cell_type": "code",
   "execution_count": 25,
   "id": "50b4c7a0",
   "metadata": {},
   "outputs": [
    {
     "data": {
      "text/plain": [
       "'h'"
      ]
     },
     "execution_count": 25,
     "metadata": {},
     "output_type": "execute_result"
    }
   ],
   "source": [
    "a[-5]"
   ]
  },
  {
   "cell_type": "code",
   "execution_count": 26,
   "id": "8745f934",
   "metadata": {},
   "outputs": [
    {
     "data": {
      "text/plain": [
       "'hell'"
      ]
     },
     "execution_count": 26,
     "metadata": {},
     "output_type": "execute_result"
    }
   ],
   "source": [
    "a[:4]"
   ]
  },
  {
   "cell_type": "code",
   "execution_count": 27,
   "id": "2420f49d",
   "metadata": {},
   "outputs": [
    {
     "data": {
      "text/plain": [
       "'hello'"
      ]
     },
     "execution_count": 27,
     "metadata": {},
     "output_type": "execute_result"
    }
   ],
   "source": [
    "a[0:]"
   ]
  },
  {
   "cell_type": "code",
   "execution_count": 28,
   "id": "79dc2c18",
   "metadata": {},
   "outputs": [
    {
     "data": {
      "text/plain": [
       "'hello'"
      ]
     },
     "execution_count": 28,
     "metadata": {},
     "output_type": "execute_result"
    }
   ],
   "source": [
    "a[0:6]"
   ]
  },
  {
   "cell_type": "code",
   "execution_count": 29,
   "id": "c6dca8c4",
   "metadata": {},
   "outputs": [
    {
     "data": {
      "text/plain": [
       "'hell'"
      ]
     },
     "execution_count": 29,
     "metadata": {},
     "output_type": "execute_result"
    }
   ],
   "source": [
    "b = \"hello world\"\n",
    "b[0:4]"
   ]
  },
  {
   "cell_type": "code",
   "execution_count": 30,
   "id": "748b2cf5",
   "metadata": {},
   "outputs": [
    {
     "data": {
      "text/plain": [
       "'hel'"
      ]
     },
     "execution_count": 30,
     "metadata": {},
     "output_type": "execute_result"
    }
   ],
   "source": [
    "b[:3]"
   ]
  },
  {
   "cell_type": "code",
   "execution_count": 31,
   "id": "b06f652d",
   "metadata": {},
   "outputs": [
    {
     "data": {
      "text/plain": [
       "'lo world'"
      ]
     },
     "execution_count": 31,
     "metadata": {},
     "output_type": "execute_result"
    }
   ],
   "source": [
    "b[3:]"
   ]
  },
  {
   "cell_type": "code",
   "execution_count": 32,
   "id": "04a12cc0",
   "metadata": {},
   "outputs": [
    {
     "data": {
      "text/plain": [
       "'오늘은 교육 이틀일째 입니다.'"
      ]
     },
     "execution_count": 32,
     "metadata": {},
     "output_type": "execute_result"
    }
   ],
   "source": [
    "\"오늘은 교육 %d일째 입니다.\"  %2                    #d를 문자열 포멧 코드라고 한다\n",
    "\"오늘은 교육 %s일째 입니다.\"  %\"이틀\""
   ]
  },
  {
   "cell_type": "code",
   "execution_count": 33,
   "id": "bea5a348",
   "metadata": {},
   "outputs": [
    {
     "data": {
      "text/plain": [
       "'오늘은 교육 2일째 5번째 실습입니다.'"
      ]
     },
     "execution_count": 33,
     "metadata": {},
     "output_type": "execute_result"
    }
   ],
   "source": [
    "\"오늘은 교육 %d일째 %d번째 %s입니다.\"  %(2, 5, \"실습\")       "
   ]
  },
  {
   "cell_type": "code",
   "execution_count": 34,
   "id": "7ce00aca",
   "metadata": {},
   "outputs": [
    {
     "data": {
      "text/plain": [
       "'모델의 정확도가 몇 90%입니다.'"
      ]
     },
     "execution_count": 34,
     "metadata": {},
     "output_type": "execute_result"
    }
   ],
   "source": [
    "\"모델의 정확도가 몇 %d%%입니다.\" %90"
   ]
  },
  {
   "cell_type": "code",
   "execution_count": 35,
   "id": "cd3aca43",
   "metadata": {},
   "outputs": [
    {
     "name": "stdout",
     "output_type": "stream",
     "text": [
      "hi\n",
      "      hi\n"
     ]
    }
   ],
   "source": [
    "print(\"hi\")\n",
    "print(\"      hi\")"
   ]
  },
  {
   "cell_type": "code",
   "execution_count": 36,
   "id": "96b22434",
   "metadata": {},
   "outputs": [
    {
     "name": "stdout",
     "output_type": "stream",
     "text": [
      "        hi\n",
      "        hi\n"
     ]
    }
   ],
   "source": [
    "print(\"%10s\" %\"hi\")\n",
    "print(\"%10s\" %\"hi\")"
   ]
  },
  {
   "cell_type": "code",
   "execution_count": 37,
   "id": "856fc22e",
   "metadata": {},
   "outputs": [
    {
     "name": "stdout",
     "output_type": "stream",
     "text": [
      "3.141592\n"
     ]
    }
   ],
   "source": [
    "print(3.141592)"
   ]
  },
  {
   "cell_type": "code",
   "execution_count": 38,
   "id": "5f8942ea",
   "metadata": {},
   "outputs": [
    {
     "data": {
      "text/plain": [
       "'10일 동안 훈련한 모델의 acc가 90%입니다.'"
      ]
     },
     "execution_count": 38,
     "metadata": {},
     "output_type": "execute_result"
    }
   ],
   "source": [
    "\"모델의 {0}가 {1}%입니다.\".format(\"acc\",90)\n",
    "\"{2}일 동안 훈련한 모델의 {0}가 {1}%입니다.\".format(\"acc\",90,10)"
   ]
  },
  {
   "cell_type": "markdown",
   "id": "76d1fca3",
   "metadata": {},
   "source": [
    "### 문자열 함수"
   ]
  },
  {
   "cell_type": "code",
   "execution_count": 39,
   "id": "9cfaeae4",
   "metadata": {},
   "outputs": [
    {
     "data": {
      "text/plain": [
       "2"
      ]
     },
     "execution_count": 39,
     "metadata": {},
     "output_type": "execute_result"
    }
   ],
   "source": [
    "x = \"머신러닝딥러닝 \"\n",
    "x.count(\"러\")"
   ]
  },
  {
   "cell_type": "code",
   "execution_count": 40,
   "id": "73701d30",
   "metadata": {},
   "outputs": [
    {
     "data": {
      "text/plain": [
       "8"
      ]
     },
     "execution_count": 40,
     "metadata": {},
     "output_type": "execute_result"
    }
   ],
   "source": [
    "len(x)"
   ]
  },
  {
   "cell_type": "code",
   "execution_count": 41,
   "id": "6050c5be",
   "metadata": {},
   "outputs": [
    {
     "data": {
      "text/plain": [
       "2"
      ]
     },
     "execution_count": 41,
     "metadata": {},
     "output_type": "execute_result"
    }
   ],
   "source": [
    "x = \"머신러닝딥러닝 \"\n",
    "x.count(\"러\")\n",
    "x.find(\"라\")  # -1\n",
    "x.find(\"러\")  # 몇번 인덱스에 위치했는지 왼쪽에서 오른쪽으로 확인해서 [2]번이 나옴"
   ]
  },
  {
   "cell_type": "markdown",
   "id": "c062eb88",
   "metadata": {},
   "source": [
    "find함수는 왼쪽에서 검색해서 문자가 없다면 -1이 나옴"
   ]
  },
  {
   "cell_type": "code",
   "execution_count": 42,
   "id": "fa8bdcf9",
   "metadata": {},
   "outputs": [
    {
     "data": {
      "text/plain": [
       "2"
      ]
     },
     "execution_count": 42,
     "metadata": {},
     "output_type": "execute_result"
    }
   ],
   "source": [
    "x = \"머신러닝딥러닝 \"\n",
    "x.count(\"러\")\n",
    "x.find(\"라\")  # -1\n",
    "x.find(\"러\")  # 몇번 인덱스에 위치했는지 왼쪽에서 오른쪽으로 확인해서 [2]번이 나옴\n",
    "\n",
    "#x.index(\"라\")           #error\n",
    "x.index(\"러\")            # 검색 성공시 위치 알려주고 실패시에는 에러 메세지가 나온다 별로의 에러 표시를 해줘야한다"
   ]
  },
  {
   "cell_type": "code",
   "execution_count": 43,
   "id": "3dd94541",
   "metadata": {},
   "outputs": [
    {
     "data": {
      "text/plain": [
       "'머신학습딥학습'"
      ]
     },
     "execution_count": 43,
     "metadata": {},
     "output_type": "execute_result"
    }
   ],
   "source": [
    "x = \"머신러닝딥러닝\"\n",
    "x.replace(\"러닝\",\"학습\")"
   ]
  },
  {
   "cell_type": "code",
   "execution_count": 44,
   "id": "bfa558dd",
   "metadata": {},
   "outputs": [],
   "source": [
    "trule=str.maketrans(\"러\",\"런\")"
   ]
  },
  {
   "cell_type": "code",
   "execution_count": 45,
   "id": "bb5ff454",
   "metadata": {},
   "outputs": [
    {
     "data": {
      "text/plain": [
       "'머신런닝딥런닝'"
      ]
     },
     "execution_count": 45,
     "metadata": {},
     "output_type": "execute_result"
    }
   ],
   "source": [
    "x.translate(trule)"
   ]
  },
  {
   "cell_type": "code",
   "execution_count": 46,
   "id": "b8b9342d",
   "metadata": {},
   "outputs": [],
   "source": [
    "trule2=str.maketrans(\"러닝\",\"런닝\")"
   ]
  },
  {
   "cell_type": "code",
   "execution_count": 47,
   "id": "05873f0b",
   "metadata": {},
   "outputs": [
    {
     "data": {
      "text/plain": [
       "'머신런닝딥런닝'"
      ]
     },
     "execution_count": 47,
     "metadata": {},
     "output_type": "execute_result"
    }
   ],
   "source": [
    "x.translate(trule2)"
   ]
  },
  {
   "cell_type": "code",
   "execution_count": 48,
   "id": "c859c4fa",
   "metadata": {},
   "outputs": [
    {
     "data": {
      "text/plain": [
       "['머신', '러닝', '딥', '러닝']"
      ]
     },
     "execution_count": 48,
     "metadata": {},
     "output_type": "execute_result"
    }
   ],
   "source": [
    "\"머신 러닝 딥 러닝\".split()"
   ]
  },
  {
   "cell_type": "code",
   "execution_count": 49,
   "id": "e91edd92",
   "metadata": {},
   "outputs": [
    {
     "data": {
      "text/plain": [
       "['머신', '러닝@딥', '러닝']"
      ]
     },
     "execution_count": 49,
     "metadata": {},
     "output_type": "execute_result"
    }
   ],
   "source": [
    "\"머신 러닝@딥 러닝\".split()"
   ]
  },
  {
   "cell_type": "code",
   "execution_count": 50,
   "id": "36dd0d41",
   "metadata": {},
   "outputs": [
    {
     "data": {
      "text/plain": [
       "['머신 러닝', '딥 러닝']"
      ]
     },
     "execution_count": 50,
     "metadata": {},
     "output_type": "execute_result"
    }
   ],
   "source": [
    "\"머신 러닝@딥 러닝\".split(\"@\")          # @를 기준으로 문자가 문리된다"
   ]
  },
  {
   "cell_type": "code",
   "execution_count": 51,
   "id": "32dbcdd4",
   "metadata": {},
   "outputs": [],
   "source": [
    "content=\"모레까지 200㎜ 폭우…주말 태풍 하이쿠이 영향 비\""
   ]
  },
  {
   "cell_type": "code",
   "execution_count": 52,
   "id": "540f94b6",
   "metadata": {},
   "outputs": [
    {
     "name": "stdout",
     "output_type": "stream",
     "text": [
      "200\n"
     ]
    }
   ],
   "source": [
    "list = []\n",
    "lists = content\n",
    "print(lists[5:8])"
   ]
  },
  {
   "cell_type": "code",
   "execution_count": 53,
   "id": "4e2d81a3",
   "metadata": {},
   "outputs": [
    {
     "data": {
      "text/plain": [
       "'x,y,z'"
      ]
     },
     "execution_count": 53,
     "metadata": {},
     "output_type": "execute_result"
    }
   ],
   "source": [
    "\",\".join(\"xyz\")"
   ]
  },
  {
   "cell_type": "code",
   "execution_count": 54,
   "id": "d2bdb508",
   "metadata": {},
   "outputs": [
    {
     "data": {
      "text/plain": [
       "'x,y,z'"
      ]
     },
     "execution_count": 54,
     "metadata": {},
     "output_type": "execute_result"
    }
   ],
   "source": [
    "res=\",\".join(\"xyz\")\n",
    "res"
   ]
  },
  {
   "cell_type": "code",
   "execution_count": 55,
   "id": "5609711c",
   "metadata": {},
   "outputs": [
    {
     "data": {
      "text/plain": [
       "['x,y,z']"
      ]
     },
     "execution_count": 55,
     "metadata": {},
     "output_type": "execute_result"
    }
   ],
   "source": [
    "res.split(\".\")"
   ]
  },
  {
   "cell_type": "code",
   "execution_count": 56,
   "id": "61e16849",
   "metadata": {},
   "outputs": [
    {
     "data": {
      "text/plain": [
       "'HELLO'"
      ]
     },
     "execution_count": 56,
     "metadata": {},
     "output_type": "execute_result"
    }
   ],
   "source": [
    "\"hello\".upper()"
   ]
  },
  {
   "cell_type": "code",
   "execution_count": 57,
   "id": "4d0c4841",
   "metadata": {},
   "outputs": [
    {
     "data": {
      "text/plain": [
       "'hello'"
      ]
     },
     "execution_count": 57,
     "metadata": {},
     "output_type": "execute_result"
    }
   ],
   "source": [
    "\"HELLO\".lower()"
   ]
  },
  {
   "cell_type": "code",
   "execution_count": 58,
   "id": "addde71e",
   "metadata": {},
   "outputs": [
    {
     "name": "stdout",
     "output_type": "stream",
     "text": [
      "python\n",
      "     python\n",
      "python     \n"
     ]
    }
   ],
   "source": [
    "print(\"     python     \".strip())             #문자열에 공백제거\n",
    "print(\"     python     \".rstrip())           #오른쪽 공백제거  \n",
    "print(\"     python     \".lstrip())           #왼쪽 공백제거"
   ]
  },
  {
   "cell_type": "code",
   "execution_count": 59,
   "id": "3fbf0cc4",
   "metadata": {},
   "outputs": [
    {
     "name": "stdout",
     "output_type": "stream",
     "text": [
      ",   python\n",
      "python\n",
      "python.\n",
      "python\n",
      ",   python\n"
     ]
    }
   ],
   "source": [
    "print(\"  ,   python     \".strip())    #양쪽 공백 제거\n",
    "print(\"  ,   python     \".strip(\"  ,  \"))  #양쪽 공백 또는 콤마 제거\n",
    "print(\"  ,   python.     \".strip(\" ,  \"))  #양쪽 공백 또는 콤마 제거\n",
    "print(\"  ,   python.     \".strip(\" .,  \"))  #양쪽 공백 또는 콤마 제거\n",
    "print(\"  ,   python.     \".strip(\" .  \"))  #양쪽 공백 또는 콤마 제거\n",
    "\n",
    "#strip은 왼쪽에서 오른쪽, 오른쪽에서 왼쪽으로 양쪽끝에서 제거 작업이 들어감"
   ]
  },
  {
   "cell_type": "code",
   "execution_count": 60,
   "id": "0d7fb551",
   "metadata": {},
   "outputs": [
    {
     "name": "stdout",
     "output_type": "stream",
     "text": [
      "000123\n",
      "000hi\n"
     ]
    }
   ],
   "source": [
    "print(\"123\".zfill(6))\n",
    "print(\"hi\".zfill(5))"
   ]
  },
  {
   "cell_type": "code",
   "execution_count": 61,
   "id": "af619a77",
   "metadata": {},
   "outputs": [
    {
     "name": "stdout",
     "output_type": "stream",
     "text": [
      "0\n",
      "-1\n"
     ]
    }
   ],
   "source": [
    "print(\"apple pineapple\".find(\"ap\"))\n",
    "print(\"apple pineapple\".find(\"xp\"))"
   ]
  },
  {
   "cell_type": "markdown",
   "id": "9336c6dc",
   "metadata": {},
   "source": [
    "# 자료구조( data structure)"
   ]
  },
  {
   "cell_type": "markdown",
   "id": "3d7cfab6",
   "metadata": {},
   "source": [
    "\n",
    "자료구조란 : 자료를 저장 및 관리하는 방법\n",
    "'''\n",
    "\n",
    "'''\n",
    "알고리즘이란 : 문제를 해결하는 여러가지 방법 중에서 가장 좋은 방법"
   ]
  },
  {
   "cell_type": "markdown",
   "id": "f34d04d9",
   "metadata": {},
   "source": [
    "파이썬 자료구조 \n",
    " - 리스트\n",
    " - 튜플\n",
    " - 딕셔너리\n",
    " - 집합"
   ]
  },
  {
   "cell_type": "markdown",
   "id": "6776957d",
   "metadata": {},
   "source": [
    " - 리스트, 딕셔너리를 주로 많이 사용한다\n",
    " - 프로그래밍 언어 알고리즘 : \n",
    " - 검색 : 순차검색, 이진검색,....깊이우선탐색(DFS), 너비우선탐색(BFS)\n",
    " - 정렬 : 선택, 버블, 퀵, 기수정열 등등\n",
    "* - 우리가 공부하는건 머신러닝, 딥러닝 알고리즘\n",
    " - 예측/분류 모델(머신러닝, 딥러닝) : 의사결정트리, 랜덤포레스트, 신경망, 강화학습\n",
    " - 보통 코딩 테스트 알고리즘은 검색, 정렬 알고리즘\n",
    "* - 검색, 정렬은 가지고 있는 데이터 모집단 전체에 대해서 검색 또는 정렬을 하지만\n",
    "  예측/분류 모델은 집단이 거대한 경우 샘플링을 통해 모델링을 한다.\n",
    "  정답에 가까운 근사치에 근접한 값이 추출됨"
   ]
  },
  {
   "cell_type": "markdown",
   "id": "da2d10b6",
   "metadata": {},
   "source": [
    "'''\n",
    "x =이인준 기자 챗GPT 같은 생성형 AI를 통해 한국의 기업 생산량이 최대 620조원(4763억달러) 증가할 수 있다는 분석이 제기됐다.\n",
    "\n",
    "대한상공회의소가 28일 마이크로소프트, 영국 컨설팅그룹 엑세스파트너십과 함께 발간한 '생성형 AI가 한국경제에 미치는 영향 보고서'에 따르면 생성형 AI 적용에 따른 한국 경제의 잠재적 생산역량(productive capacity)은 지난해 국내총생산(GDP) 2150조6000억원(명목) 대비 29%에 달한다.\n",
    "'''"
   ]
  },
  {
   "cell_type": "code",
   "execution_count": 17,
   "id": "6d740808",
   "metadata": {},
   "outputs": [
    {
     "name": "stdout",
     "output_type": "stream",
     "text": [
      "이인준\n",
      "620\n",
      "29\n"
     ]
    }
   ],
   "source": [
    "x = [\"서울=뉴시스 이인준 기자 = 챗GPT 같은 생성형 AI를 통해 한국의 기업 생산량이 최대 620조원(4763억달러) 증가할 수 있다는 분석이 제기됐다.\"]\n",
    "k =[\"대한상공회의소가 28일 마이크로소프트, 영국 컨설팅그룹 엑세스파트너십과 함께 발간한 '생성형 AI가 한국경제에 미치는 영향 보고서'에 따르면 생성형 AI 적용에 따른 한국 경제의 잠재적 생산역량(productive capacity)은 지난해 국내총생산(GDP) 2150조6000억원(명목) 대비 29%에 달한다.\"]\n",
    "#list_a = []\n",
    "#lsit_b= []\n",
    "#list_a = x\n",
    "#list_b = k\n",
    "print(x[0][7:10])\n",
    "print(x[0][50:53])\n",
    "print(k[0][-9:-7])"
   ]
  },
  {
   "cell_type": "markdown",
   "id": "d5e9ee98",
   "metadata": {},
   "source": [
    "list_a = []\n",
    "lsit_b= []\n",
    "list_a = x\n",
    "list_b = k\n",
    "print(x[7:10])\n",
    "print(k[51:53])"
   ]
  },
  {
   "cell_type": "code",
   "execution_count": 11,
   "id": "0514368e",
   "metadata": {},
   "outputs": [
    {
     "name": "stdout",
     "output_type": "stream",
     "text": [
      "이인준\n",
      "620\n",
      "29%\n"
     ]
    }
   ],
   "source": [
    "x = \"서울=뉴시스 이인준 기자 = 챗GPT 같은 생성형 AI를 통해 한국의 기업 생산량이 최대 620조원(4763억달러) 증가할 수 있다는 분석이 제기됐다.\"\n",
    "k = \"대한상공회의소가 28일 마이크로소프트, 영국 컨설팅그룹 엑세스파트너십과 함께 발간한 '생성형 AI가 한국경제에 미치는 영향 보고서'에 따르면 생성형 AI 적용에 따른 한국 경제의 잠재적 생산역량(productive capacity)은 지난해 국내총생산(GDP) 2150조6000억원(명목) 대비 29%에 달한다.\"\n",
    "\n",
    "print(x[7:10])\n",
    "print(x[50:53])\n",
    "print(k[-9:-6])"
   ]
  },
  {
   "cell_type": "code",
   "execution_count": 12,
   "id": "9da22440",
   "metadata": {},
   "outputs": [
    {
     "name": "stdout",
     "output_type": "stream",
     "text": [
      "['서울=뉴시스', '이인준', '기자', '=', '챗GPT', '같은', '생성형', 'AI를', '통해', '한국의', '기업', '생산량이', '최대', '620조원(4763억달러)', '증가할', '수', '있다는', '분석이', '제기됐다.']\n"
     ]
    }
   ],
   "source": [
    "x= x.split()\n",
    "print(x)"
   ]
  },
  {
   "cell_type": "code",
   "execution_count": 4,
   "id": "23e0ae51",
   "metadata": {},
   "outputs": [
    {
     "name": "stdout",
     "output_type": "stream",
     "text": [
      "이인준\n"
     ]
    }
   ],
   "source": [
    "print(x[1])"
   ]
  },
  {
   "cell_type": "code",
   "execution_count": 5,
   "id": "ad552029",
   "metadata": {},
   "outputs": [
    {
     "name": "stdout",
     "output_type": "stream",
     "text": [
      "620\n"
     ]
    }
   ],
   "source": [
    "print(x[13][:3])"
   ]
  },
  {
   "cell_type": "code",
   "execution_count": 6,
   "id": "3aaaaf5f",
   "metadata": {},
   "outputs": [
    {
     "name": "stdout",
     "output_type": "stream",
     "text": [
      "['대한상공회의소가', '28일', '마이크로소프트,', '영국', '컨설팅그룹', '엑세스파트너십과', '함께', '발간한', \"'생성형\", 'AI가', '한국경제에', '미치는', '영향', \"보고서'에\", '따르면', '생성형', 'AI', '적용에', '따른', '한국', '경제의', '잠재적', '생산역량(productive', 'capacity)은', '지난해', '국내총생산(GDP)', '2150조6000억원(명목)', '대비', '29%에', '달한다.']\n"
     ]
    }
   ],
   "source": [
    "k=k.split()\n",
    "print(k)"
   ]
  },
  {
   "cell_type": "code",
   "execution_count": 7,
   "id": "37626e4d",
   "metadata": {},
   "outputs": [
    {
     "name": "stdout",
     "output_type": "stream",
     "text": [
      "29\n"
     ]
    }
   ],
   "source": [
    "print(k[-2][:2])"
   ]
  },
  {
   "cell_type": "code",
   "execution_count": null,
   "id": "d48ec430",
   "metadata": {},
   "outputs": [],
   "source": []
  }
 ],
 "metadata": {
  "kernelspec": {
   "display_name": "Python 3 (ipykernel)",
   "language": "python",
   "name": "python3"
  },
  "language_info": {
   "codemirror_mode": {
    "name": "ipython",
    "version": 3
   },
   "file_extension": ".py",
   "mimetype": "text/x-python",
   "name": "python",
   "nbconvert_exporter": "python",
   "pygments_lexer": "ipython3",
   "version": "3.11.4"
  }
 },
 "nbformat": 4,
 "nbformat_minor": 5
}
