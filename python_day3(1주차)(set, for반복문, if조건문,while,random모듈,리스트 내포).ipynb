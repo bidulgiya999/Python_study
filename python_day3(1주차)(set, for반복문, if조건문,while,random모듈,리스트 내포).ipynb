{
 "cells": [
  {
   "cell_type": "markdown",
   "id": "24ab31b6",
   "metadata": {},
   "source": [
    "# set(중복 제거 기능이 있다.)"
   ]
  },
  {
   "cell_type": "markdown",
   "id": "dc5ce817",
   "metadata": {},
   "source": [
    " - set은 자동 정렬기능 중복 제거 기능"
   ]
  },
  {
   "cell_type": "code",
   "execution_count": 1,
   "id": "fe474f61",
   "metadata": {},
   "outputs": [
    {
     "data": {
      "text/plain": [
       "{' ', 'a', 'd', 'e', 'g', 'i', 'l', 'n', 'p', 'r'}"
      ]
     },
     "execution_count": 1,
     "metadata": {},
     "output_type": "execute_result"
    }
   ],
   "source": [
    "w=set(\"deep learning\")                      # set 출력은 {}로 출력됨 , 키 밸류 값이 없으므로 딕셔너리는 아님\n",
    "w"
   ]
  },
  {
   "cell_type": "code",
   "execution_count": 2,
   "id": "b9e57da4",
   "metadata": {},
   "outputs": [
    {
     "name": "stdout",
     "output_type": "stream",
     "text": [
      "False\n",
      "True\n"
     ]
    }
   ],
   "source": [
    "#w[0]\n",
    "print(\"x\" in w)\n",
    "print(\"a\" in w)"
   ]
  },
  {
   "cell_type": "code",
   "execution_count": 3,
   "id": "5c726b6b",
   "metadata": {},
   "outputs": [
    {
     "data": {
      "text/plain": [
       "{1, 2, 3}"
      ]
     },
     "execution_count": 3,
     "metadata": {},
     "output_type": "execute_result"
    }
   ],
   "source": [
    "set([1,2,3])                  # 리스트로 묶어서 에러 방지"
   ]
  },
  {
   "cell_type": "code",
   "execution_count": 4,
   "id": "bc1a6274",
   "metadata": {},
   "outputs": [
    {
     "data": {
      "text/plain": [
       "{1, 2, 3}"
      ]
     },
     "execution_count": 4,
     "metadata": {},
     "output_type": "execute_result"
    }
   ],
   "source": [
    "set([1,2,3,3])                # 중복 제거 기능으로 1,2,3,3에서 1,2,3만 출력"
   ]
  },
  {
   "cell_type": "code",
   "execution_count": 5,
   "id": "6be295c2",
   "metadata": {},
   "outputs": [
    {
     "data": {
      "text/plain": [
       "{1, 2, 3}"
      ]
     },
     "execution_count": 5,
     "metadata": {},
     "output_type": "execute_result"
    }
   ],
   "source": [
    "s=set([1,2,3,3]) \n",
    "s"
   ]
  },
  {
   "cell_type": "code",
   "execution_count": 6,
   "id": "d5213fd1",
   "metadata": {},
   "outputs": [
    {
     "data": {
      "text/plain": [
       "[1, 2, 3]"
      ]
     },
     "execution_count": 6,
     "metadata": {},
     "output_type": "execute_result"
    }
   ],
   "source": [
    "list(s)"
   ]
  },
  {
   "cell_type": "code",
   "execution_count": 7,
   "id": "bab6b905",
   "metadata": {},
   "outputs": [
    {
     "data": {
      "text/plain": [
       "{2, 4, 6}"
      ]
     },
     "execution_count": 7,
     "metadata": {},
     "output_type": "execute_result"
    }
   ],
   "source": [
    "s2=set([2,4,6])\n",
    "s2"
   ]
  },
  {
   "cell_type": "code",
   "execution_count": 8,
   "id": "4f7a6473",
   "metadata": {},
   "outputs": [
    {
     "data": {
      "text/plain": [
       "{2}"
      ]
     },
     "execution_count": 8,
     "metadata": {},
     "output_type": "execute_result"
    }
   ],
   "source": [
    "s & s2"
   ]
  },
  {
   "cell_type": "markdown",
   "id": "29b6ae61",
   "metadata": {},
   "source": [
    "# 교집합\n"
   ]
  },
  {
   "cell_type": "code",
   "execution_count": 9,
   "id": "870cc92c",
   "metadata": {},
   "outputs": [
    {
     "data": {
      "text/plain": [
       "{2}"
      ]
     },
     "execution_count": 9,
     "metadata": {},
     "output_type": "execute_result"
    }
   ],
   "source": [
    "s.intersection(s2)  #"
   ]
  },
  {
   "cell_type": "markdown",
   "id": "d0057413",
   "metadata": {},
   "source": [
    "# 합집합\n"
   ]
  },
  {
   "cell_type": "code",
   "execution_count": 10,
   "id": "4462ae31",
   "metadata": {},
   "outputs": [
    {
     "data": {
      "text/plain": [
       "{1, 2, 3, 4, 6}"
      ]
     },
     "execution_count": 10,
     "metadata": {},
     "output_type": "execute_result"
    }
   ],
   "source": [
    "s.union(s2)"
   ]
  },
  {
   "cell_type": "markdown",
   "id": "c0187255",
   "metadata": {},
   "source": [
    "# 차집합"
   ]
  },
  {
   "cell_type": "code",
   "execution_count": 11,
   "id": "53e035e5",
   "metadata": {},
   "outputs": [
    {
     "data": {
      "text/plain": [
       "{1, 3}"
      ]
     },
     "execution_count": 11,
     "metadata": {},
     "output_type": "execute_result"
    }
   ],
   "source": [
    "s.difference(s2)"
   ]
  },
  {
   "cell_type": "code",
   "execution_count": 12,
   "id": "7d549009",
   "metadata": {},
   "outputs": [
    {
     "data": {
      "text/plain": [
       "{1, 2, 3, 10}"
      ]
     },
     "execution_count": 12,
     "metadata": {},
     "output_type": "execute_result"
    }
   ],
   "source": [
    "s.add(10)\n",
    "s"
   ]
  },
  {
   "cell_type": "code",
   "execution_count": 13,
   "id": "9126de4d",
   "metadata": {},
   "outputs": [
    {
     "data": {
      "text/plain": [
       "{0, 1, 2, 3, 10}"
      ]
     },
     "execution_count": 13,
     "metadata": {},
     "output_type": "execute_result"
    }
   ],
   "source": [
    "s.add(0) \n",
    "s"
   ]
  },
  {
   "cell_type": "markdown",
   "id": "ecef2ff3",
   "metadata": {},
   "source": [
    "# 여러개의 데이터 추가하는 경우 "
   ]
  },
  {
   "cell_type": "code",
   "execution_count": 14,
   "id": "3e0ec0f3",
   "metadata": {},
   "outputs": [
    {
     "data": {
      "text/plain": [
       "{0, 1, 2, 3, 4, 5, 10}"
      ]
     },
     "execution_count": 14,
     "metadata": {},
     "output_type": "execute_result"
    }
   ],
   "source": [
    "s.update([3,4,5])                                \n",
    "s"
   ]
  },
  {
   "cell_type": "markdown",
   "id": "f6368475",
   "metadata": {},
   "source": [
    "위와 같이 데이터 추가시 중복되는 경우는 중복제거\n",
    "\n"
   ]
  },
  {
   "cell_type": "code",
   "execution_count": 15,
   "id": "7a148766",
   "metadata": {},
   "outputs": [
    {
     "data": {
      "text/plain": [
       "{0, 1, 2, 4, 5, 10}"
      ]
     },
     "execution_count": 15,
     "metadata": {},
     "output_type": "execute_result"
    }
   ],
   "source": [
    "s.remove(3)\n",
    "s"
   ]
  },
  {
   "cell_type": "code",
   "execution_count": 16,
   "id": "f2d71755",
   "metadata": {},
   "outputs": [
    {
     "data": {
      "text/plain": [
       "3"
      ]
     },
     "execution_count": 16,
     "metadata": {},
     "output_type": "execute_result"
    }
   ],
   "source": [
    "len(s2)"
   ]
  },
  {
   "cell_type": "code",
   "execution_count": 17,
   "id": "a30abd29",
   "metadata": {},
   "outputs": [
    {
     "data": {
      "text/plain": [
       "False"
      ]
     },
     "execution_count": 17,
     "metadata": {},
     "output_type": "execute_result"
    }
   ],
   "source": [
    "s2\n",
    "s==s2"
   ]
  },
  {
   "cell_type": "markdown",
   "id": "7995773b",
   "metadata": {},
   "source": [
    "# pop을 이용해서 임의의 데이터 삭제 - 어떤게 제거 될지 모름"
   ]
  },
  {
   "cell_type": "code",
   "execution_count": 18,
   "id": "f2d15cb0",
   "metadata": {},
   "outputs": [
    {
     "data": {
      "text/plain": [
       "2"
      ]
     },
     "execution_count": 18,
     "metadata": {},
     "output_type": "execute_result"
    }
   ],
   "source": [
    "s2.pop()"
   ]
  },
  {
   "cell_type": "code",
   "execution_count": 19,
   "id": "dd63044b",
   "metadata": {},
   "outputs": [
    {
     "data": {
      "text/plain": [
       "{4, 6}"
      ]
     },
     "execution_count": 19,
     "metadata": {},
     "output_type": "execute_result"
    }
   ],
   "source": [
    " s2"
   ]
  },
  {
   "cell_type": "markdown",
   "id": "7509e6ad",
   "metadata": {},
   "source": [
    "# discard를 이용해 특정 지정 데이터 삭제 "
   ]
  },
  {
   "cell_type": "code",
   "execution_count": 20,
   "id": "ac5958a8",
   "metadata": {},
   "outputs": [
    {
     "data": {
      "text/plain": [
       "{4}"
      ]
     },
     "execution_count": 20,
     "metadata": {},
     "output_type": "execute_result"
    }
   ],
   "source": [
    "s2.discard(6)\n",
    "s2"
   ]
  },
  {
   "cell_type": "markdown",
   "id": "8c77899a",
   "metadata": {},
   "source": [
    "# sequence 자료형 (set, 딕셔너리 안됨)\n",
    " - list\n",
    " - range\n",
    " - tuple\n",
    " - string(문자열)"
   ]
  },
  {
   "cell_type": "code",
   "execution_count": 21,
   "id": "3f8d381c",
   "metadata": {},
   "outputs": [
    {
     "name": "stdout",
     "output_type": "stream",
     "text": [
      "01234"
     ]
    }
   ],
   "source": [
    "for i in range(5):\n",
    "    print(i,end=\"\")"
   ]
  },
  {
   "cell_type": "code",
   "execution_count": 22,
   "id": "71fb2498",
   "metadata": {},
   "outputs": [
    {
     "name": "stdout",
     "output_type": "stream",
     "text": [
      "1 2 3 4 "
     ]
    }
   ],
   "source": [
    "for i in [1,2,3,4]:\n",
    "    print(i,end =\" \")"
   ]
  },
  {
   "cell_type": "code",
   "execution_count": 23,
   "id": "0113033b",
   "metadata": {},
   "outputs": [
    {
     "name": "stdout",
     "output_type": "stream",
     "text": [
      "d\n",
      "e\n",
      "e\n",
      "p\n",
      " \n",
      "l\n",
      "e\n",
      "a\n",
      "r\n",
      "n\n",
      "i\n",
      "n\n",
      "g\n"
     ]
    }
   ],
   "source": [
    "for i in \"deep learning\":                      \n",
    "    print(i) "
   ]
  },
  {
   "cell_type": "code",
   "execution_count": 24,
   "id": "53c8670d",
   "metadata": {},
   "outputs": [
    {
     "name": "stdout",
     "output_type": "stream",
     "text": [
      "deep learning"
     ]
    }
   ],
   "source": [
    "for i in \"deep learning\":\n",
    "    print(i, end=\"\")"
   ]
  },
  {
   "cell_type": "markdown",
   "id": "a9bb528f",
   "metadata": {},
   "source": [
    "# in연산자 -- 대상 in sequence 객체로 확인이 가능하다\n"
   ]
  },
  {
   "cell_type": "code",
   "execution_count": null,
   "id": "89f465c1",
   "metadata": {},
   "outputs": [],
   "source": []
  },
  {
   "cell_type": "code",
   "execution_count": 25,
   "id": "e90c634c",
   "metadata": {},
   "outputs": [
    {
     "name": "stdout",
     "output_type": "stream",
     "text": [
      "True\n",
      "True\n",
      "False\n",
      "True\n"
     ]
    }
   ],
   "source": [
    "print(3 in [1,2,3])\n",
    "print(\"h\" in \"hello\")\n",
    "print(3 in (1,2))\n",
    "print(3 in range(1,5))"
   ]
  },
  {
   "cell_type": "markdown",
   "id": "79656db5",
   "metadata": {},
   "source": [
    "# sequence객체 * 숫자"
   ]
  },
  {
   "cell_type": "code",
   "execution_count": 26,
   "id": "6c71c1c7",
   "metadata": {},
   "outputs": [
    {
     "name": "stdout",
     "output_type": "stream",
     "text": [
      "[1, 2, 3, 1, 2, 3, 1, 2, 3, 1, 2, 3, 1, 2, 3]\n",
      "반갑습니다반갑습니다반갑습니다반갑습니다반갑습니다\n"
     ]
    }
   ],
   "source": [
    "print([1,2,3] * 5)\n",
    "print(\"반갑습니다\"*5)"
   ]
  },
  {
   "cell_type": "markdown",
   "id": "9c93cca6",
   "metadata": {},
   "source": [
    "# 조건문  if문"
   ]
  },
  {
   "cell_type": "markdown",
   "id": "c4113831",
   "metadata": {},
   "source": [
    "- 조건문은 데이터 전처리(데이터 수집 후 분석)등에서 많이 사용되며 \n",
    "- 결과 출력등에도 if문이 사용됨"
   ]
  },
  {
   "cell_type": "markdown",
   "id": "c5a362a1",
   "metadata": {},
   "source": [
    "if문 구조\n",
    "\n",
    " - if 조건식 : "
   ]
  },
  {
   "cell_type": "code",
   "execution_count": 27,
   "id": "ed4bb22a",
   "metadata": {},
   "outputs": [],
   "source": [
    "acc = 95"
   ]
  },
  {
   "cell_type": "code",
   "execution_count": 28,
   "id": "c67e7dfe",
   "metadata": {},
   "outputs": [
    {
     "name": "stdout",
     "output_type": "stream",
     "text": [
      "pass\n"
     ]
    }
   ],
   "source": [
    "if acc>90 and acc<100:\n",
    "    print(\"pass\")\n",
    "else:\n",
    "    print(\"fail\")"
   ]
  },
  {
   "cell_type": "code",
   "execution_count": 29,
   "id": "8944451a",
   "metadata": {},
   "outputs": [
    {
     "name": "stdout",
     "output_type": "stream",
     "text": [
      "pass\n"
     ]
    }
   ],
   "source": [
    "if acc>90:\n",
    "    print(\"pass\")"
   ]
  },
  {
   "cell_type": "markdown",
   "id": "2b4f6ef5",
   "metadata": {},
   "source": [
    "# pass를 쓰는 경우 아래의 예시를 참조( 건너뛰기 혹은 코드를 결정 못할때)"
   ]
  },
  {
   "cell_type": "code",
   "execution_count": 30,
   "id": "7ab37975",
   "metadata": {},
   "outputs": [],
   "source": [
    "acc=80"
   ]
  },
  {
   "cell_type": "code",
   "execution_count": 31,
   "id": "df866458",
   "metadata": {},
   "outputs": [
    {
     "name": "stdout",
     "output_type": "stream",
     "text": [
      "fail\n"
     ]
    }
   ],
   "source": [
    "if acc>=90:\n",
    "    pass\n",
    "else:\n",
    "    print(\"fail\")"
   ]
  },
  {
   "cell_type": "markdown",
   "id": "916a6f61",
   "metadata": {},
   "source": [
    "# 여러개의 문장을 조건에 맞게 수행할 경우\n"
   ]
  },
  {
   "cell_type": "code",
   "execution_count": 32,
   "id": "d01975dc",
   "metadata": {},
   "outputs": [
    {
     "name": "stdout",
     "output_type": "stream",
     "text": [
      "pass\n",
      "king zzang\n",
      "next stage\n"
     ]
    }
   ],
   "source": [
    "acc = 95\n",
    "if acc>90:\n",
    "    print(\"pass\")\n",
    "    print(\"king zzang\")\n",
    "    print(\"next stage\")"
   ]
  },
  {
   "cell_type": "code",
   "execution_count": 33,
   "id": "8221dc99",
   "metadata": {},
   "outputs": [
    {
     "name": "stdout",
     "output_type": "stream",
     "text": [
      "next stage\n"
     ]
    }
   ],
   "source": [
    "acc = 80\n",
    "if acc>90:\n",
    "    print(\"pass\")\n",
    "    print(\"king zzang\")\n",
    "print(\"next stage\")          # 들여쓰기로 인해 위에 두 프린트 출력문이랑은 별개의 문장으로 인식"
   ]
  },
  {
   "cell_type": "code",
   "execution_count": 34,
   "id": "474df382",
   "metadata": {},
   "outputs": [
    {
     "data": {
      "text/plain": [
       "True"
      ]
     },
     "execution_count": 34,
     "metadata": {},
     "output_type": "execute_result"
    }
   ],
   "source": [
    "acc=95\n",
    "acc>90"
   ]
  },
  {
   "cell_type": "markdown",
   "id": "ad62380a",
   "metadata": {},
   "source": [
    "if acc>90:\n",
    "if True"
   ]
  },
  {
   "cell_type": "code",
   "execution_count": 35,
   "id": "0337b535",
   "metadata": {},
   "outputs": [
    {
     "name": "stdout",
     "output_type": "stream",
     "text": [
      "pass\n"
     ]
    }
   ],
   "source": [
    "if True or False:  # 둘중 하나가 참이면 참\n",
    "    print(\"pass\")"
   ]
  },
  {
   "cell_type": "code",
   "execution_count": 36,
   "id": "d705c6f7",
   "metadata": {},
   "outputs": [
    {
     "name": "stdout",
     "output_type": "stream",
     "text": [
      "pass\n"
     ]
    }
   ],
   "source": [
    "if True or True:\n",
    "    print(\"pass\")"
   ]
  },
  {
   "cell_type": "code",
   "execution_count": 37,
   "id": "c0d16590",
   "metadata": {},
   "outputs": [
    {
     "name": "stdout",
     "output_type": "stream",
     "text": [
      "pass\n"
     ]
    }
   ],
   "source": [
    "if (1>0) and (0<5):\n",
    "    print(\"pass\")"
   ]
  },
  {
   "cell_type": "markdown",
   "id": "abe4ad0e",
   "metadata": {},
   "source": [
    "# 중첩  if문 ( if문 안에 if문)"
   ]
  },
  {
   "cell_type": "code",
   "execution_count": 38,
   "id": "40ea6ef9",
   "metadata": {},
   "outputs": [
    {
     "name": "stdout",
     "output_type": "stream",
     "text": [
      "pass\n"
     ]
    }
   ],
   "source": [
    "if (1>0):\n",
    "    if(0<5):\n",
    "        print(\"pass\")"
   ]
  },
  {
   "cell_type": "markdown",
   "id": "8c99e1ed",
   "metadata": {},
   "source": [
    " # else문 -- 조건을 만족하지 못한 경우"
   ]
  },
  {
   "cell_type": "markdown",
   "id": "3b3f468f",
   "metadata": {},
   "source": [
    "boolean(True = 0, False=0)"
   ]
  },
  {
   "cell_type": "code",
   "execution_count": 39,
   "id": "e2563c40",
   "metadata": {},
   "outputs": [
    {
     "name": "stdout",
     "output_type": "stream",
     "text": [
      "odd\n"
     ]
    }
   ],
   "source": [
    "x = 1\n",
    "if x%2: # 1== True, 0 == False\n",
    "    print(\"odd\")\n",
    "else:\n",
    "    print(\"even\")"
   ]
  },
  {
   "cell_type": "code",
   "execution_count": 40,
   "id": "feeb3ea6",
   "metadata": {},
   "outputs": [
    {
     "data": {
      "text/plain": [
       "1"
      ]
     },
     "execution_count": 40,
     "metadata": {},
     "output_type": "execute_result"
    }
   ],
   "source": [
    "x%2"
   ]
  },
  {
   "cell_type": "code",
   "execution_count": 41,
   "id": "7726736e",
   "metadata": {},
   "outputs": [
    {
     "name": "stdout",
     "output_type": "stream",
     "text": [
      "even\n"
     ]
    }
   ],
   "source": [
    "x = 0\n",
    "if x: # 1== True, 0 == False\n",
    "    print(\"odd\")\n",
    "else:\n",
    "    print(\"even\")"
   ]
  },
  {
   "cell_type": "code",
   "execution_count": 42,
   "id": "748dc31e",
   "metadata": {},
   "outputs": [
    {
     "name": "stdout",
     "output_type": "stream",
     "text": [
      "odd\n"
     ]
    }
   ],
   "source": [
    "x = 0\n",
    "if x==0: # 1== True, 0 == False\n",
    "    print(\"odd\")\n",
    "else:\n",
    "    print(\"even\")"
   ]
  },
  {
   "cell_type": "code",
   "execution_count": 43,
   "id": "374e86da",
   "metadata": {},
   "outputs": [
    {
     "name": "stdout",
     "output_type": "stream",
     "text": [
      "1입니다\n"
     ]
    }
   ],
   "source": [
    "x=-0.000000000000000000000001\n",
    "if x:\n",
    "    print(\"1입니다\")"
   ]
  },
  {
   "cell_type": "code",
   "execution_count": 44,
   "id": "e92293fd",
   "metadata": {},
   "outputs": [
    {
     "name": "stdout",
     "output_type": "stream",
     "text": [
      "1입니다\n"
     ]
    }
   ],
   "source": [
    "x=0.000000000000000000000001\n",
    "if x:\n",
    "    print(\"1입니다\")"
   ]
  },
  {
   "cell_type": "markdown",
   "id": "e0ade59e",
   "metadata": {},
   "source": [
    "# 약간 어려운 예제( if else) 조건부 표현식, 조건부에는 문자열 숫자 리스트등"
   ]
  },
  {
   "cell_type": "code",
   "execution_count": 45,
   "id": "0111d1fc",
   "metadata": {},
   "outputs": [],
   "source": [
    "x=1\n",
    "a=x if x==1 else 0                   #x와 1이 같으면 a에 x를 대입하고 아니면 조건에 따라 0이 들어간다"
   ]
  },
  {
   "cell_type": "code",
   "execution_count": 46,
   "id": "0ec5b15e",
   "metadata": {},
   "outputs": [
    {
     "data": {
      "text/plain": [
       "1"
      ]
     },
     "execution_count": 46,
     "metadata": {},
     "output_type": "execute_result"
    }
   ],
   "source": [
    "a"
   ]
  },
  {
   "cell_type": "code",
   "execution_count": 47,
   "id": "709bd4ff",
   "metadata": {},
   "outputs": [
    {
     "name": "stdout",
     "output_type": "stream",
     "text": [
      "true\n"
     ]
    }
   ],
   "source": [
    "if \"breaktime\":                   # 문자열도 조건식에선 true로 인식\n",
    "    print(\"true\")"
   ]
  },
  {
   "cell_type": "code",
   "execution_count": 48,
   "id": "6a064140",
   "metadata": {},
   "outputs": [],
   "source": [
    "if \"\":                          # 빈 문자열은 거짓으로 본다\n",
    "    print(\"true\")"
   ]
  },
  {
   "cell_type": "code",
   "execution_count": 49,
   "id": "94a68bb1",
   "metadata": {},
   "outputs": [],
   "source": [
    "if []:                        # 비어있는 경우도 거짓으로 본다\n",
    "    print(\"empty\")"
   ]
  },
  {
   "cell_type": "code",
   "execution_count": 50,
   "id": "310501fd",
   "metadata": {},
   "outputs": [
    {
     "name": "stdout",
     "output_type": "stream",
     "text": [
      "empty\n"
     ]
    }
   ],
   "source": [
    "if[1,2]:\n",
    "    print(\"empty\")"
   ]
  },
  {
   "cell_type": "code",
   "execution_count": 51,
   "id": "acfd5447",
   "metadata": {},
   "outputs": [
    {
     "name": "stdout",
     "output_type": "stream",
     "text": [
      "empty\n"
     ]
    }
   ],
   "source": [
    "if len([1,2]):\n",
    "    print(\"empty\")"
   ]
  },
  {
   "cell_type": "markdown",
   "id": "c02b4f56",
   "metadata": {},
   "source": [
    "# None : 혹시 추후에 보게 된다면 그냥 자료가 없다고 생각"
   ]
  },
  {
   "cell_type": "code",
   "execution_count": 52,
   "id": "e75fc9ff",
   "metadata": {},
   "outputs": [],
   "source": [
    "if None:                    # 거짓\n",
    "    print(\"msg\")"
   ]
  },
  {
   "cell_type": "code",
   "execution_count": 53,
   "id": "e677d8e7",
   "metadata": {},
   "outputs": [
    {
     "name": "stdout",
     "output_type": "stream",
     "text": [
      "not empty\n"
     ]
    }
   ],
   "source": [
    "if ():                     #  거짓\n",
    "    print(\"empty\")\n",
    "else:\n",
    "    print(\"not empty\")"
   ]
  },
  {
   "cell_type": "code",
   "execution_count": 54,
   "id": "468a2fec",
   "metadata": {},
   "outputs": [
    {
     "name": "stdout",
     "output_type": "stream",
     "text": [
      "not empty\n"
     ]
    }
   ],
   "source": [
    "if list():                     #  거짓\n",
    "    print(\"empty\")\n",
    "else:\n",
    "    print(\"not empty\")"
   ]
  },
  {
   "cell_type": "code",
   "execution_count": 55,
   "id": "c7d4a2b6",
   "metadata": {},
   "outputs": [],
   "source": [
    "# if 0<x and x<10:\n",
    "# if 0<x<10:"
   ]
  },
  {
   "cell_type": "code",
   "execution_count": 56,
   "id": "ba17f3b1",
   "metadata": {},
   "outputs": [
    {
     "data": {
      "text/plain": [
       "False"
      ]
     },
     "execution_count": 56,
     "metadata": {},
     "output_type": "execute_result"
    }
   ],
   "source": [
    "not True"
   ]
  },
  {
   "cell_type": "code",
   "execution_count": 57,
   "id": "949f3250",
   "metadata": {},
   "outputs": [],
   "source": [
    "if not 0:\n",
    "    pass\n",
    "else:\n",
    "    print(\"else\")"
   ]
  },
  {
   "cell_type": "markdown",
   "id": "55259af7",
   "metadata": {},
   "source": [
    "# if문의 조건이 여러개 있는 경우 사용하는 예 ( elif )\n",
    "# 이를 중첩해서 사용해야됨"
   ]
  },
  {
   "cell_type": "code",
   "execution_count": 58,
   "id": "38041df7",
   "metadata": {},
   "outputs": [
    {
     "name": "stdout",
     "output_type": "stream",
     "text": [
      "1\n"
     ]
    }
   ],
   "source": [
    "x = 1\n",
    "if x ==0:\n",
    "    print(\"0\")\n",
    "elif x == -1:\n",
    "    print(\"-1\")\n",
    "elif x== 1:\n",
    "    print(\"1\")\n",
    "else:\n",
    "    print(\"999\")"
   ]
  },
  {
   "cell_type": "markdown",
   "id": "1e383980",
   "metadata": {},
   "source": [
    "# for문"
   ]
  },
  {
   "cell_type": "code",
   "execution_count": 59,
   "id": "886a105d",
   "metadata": {},
   "outputs": [
    {
     "name": "stdout",
     "output_type": "stream",
     "text": [
      "5 4 3 2 "
     ]
    }
   ],
   "source": [
    "#for i in range(1,5):\n",
    "   # print(i, end=\" \")\n",
    "#for i in range(1,5,3):\n",
    "   # print(i, end= \"\")\n",
    "for i in range(5,1,-1):\n",
    "    print(i, end=' ')"
   ]
  },
  {
   "cell_type": "markdown",
   "id": "4b7d17b3",
   "metadata": {},
   "source": [
    "# for문 문자열 예시"
   ]
  },
  {
   "cell_type": "code",
   "execution_count": 60,
   "id": "891dad9e",
   "metadata": {},
   "outputs": [
    {
     "name": "stdout",
     "output_type": "stream",
     "text": [
      "hi\n",
      "hello\n"
     ]
    }
   ],
   "source": [
    "#for c in \"hello\":\n",
    "for c in [\"hi\", \"hello\"]:\n",
    "    print(c)"
   ]
  },
  {
   "cell_type": "code",
   "execution_count": 61,
   "id": "c5fd0ce1",
   "metadata": {},
   "outputs": [
    {
     "name": "stdout",
     "output_type": "stream",
     "text": [
      "h\n",
      "e\n",
      "l\n",
      "l\n",
      "o\n"
     ]
    }
   ],
   "source": [
    "for c in \"hello\":\n",
    "    print(c)"
   ]
  },
  {
   "cell_type": "code",
   "execution_count": 62,
   "id": "2750cd0f",
   "metadata": {},
   "outputs": [
    {
     "name": "stdout",
     "output_type": "stream",
     "text": [
      "o\n",
      "l\n",
      "l\n",
      "e\n",
      "h\n"
     ]
    }
   ],
   "source": [
    "#print(reversed(\"hello\"))\n",
    "for c in reversed(\"hello\"):\n",
    "    print(c)"
   ]
  },
  {
   "cell_type": "markdown",
   "id": "d0411d84",
   "metadata": {},
   "source": [
    "# while문"
   ]
  },
  {
   "cell_type": "markdown",
   "id": "636bad79",
   "metadata": {},
   "source": [
    "while True:\n",
    "    while True:\n",
    "    if 조건 then break "
   ]
  },
  {
   "cell_type": "markdown",
   "id": "d1e97e66",
   "metadata": {},
   "source": [
    "while 조건식:\n",
    "    문장"
   ]
  },
  {
   "cell_type": "code",
   "execution_count": 63,
   "id": "64ff47df",
   "metadata": {},
   "outputs": [
    {
     "name": "stdout",
     "output_type": "stream",
     "text": [
      "1 2 3 4 5 6 7 8 9 10 "
     ]
    }
   ],
   "source": [
    "x=1\n",
    "while x<=10:\n",
    "    print(x,end = \" \")\n",
    "    x+=1"
   ]
  },
  {
   "cell_type": "markdown",
   "id": "424a6b12",
   "metadata": {},
   "source": [
    "x=1\n",
    "while True:\n",
    "    x +=1\n",
    "    if i==10:\n",
    "        break\n",
    "    print(x)"
   ]
  },
  {
   "cell_type": "markdown",
   "id": "4cc98d09",
   "metadata": {},
   "source": [
    " # 주의 사항\n",
    " - while문은 True랑 잘 사용되며 **반복조건(횟수)** 가 정해져 있지 않을떄 break로 안전장치 해주기\n",
    " - for문은 ***반복조건(횟수)*** 가 정해져 있을떄"
   ]
  },
  {
   "cell_type": "markdown",
   "id": "e0aa671c",
   "metadata": {},
   "source": [
    "i =1\n",
    "while True:\n",
    "    i += 1\n",
    "    if i <5:\n",
    "        continue            #  밑으로 이동안하고 반복문의 시작으로 이동\n",
    "    elif i<10:\n",
    "        print(i)\n",
    "    else:                   # 10이 되는 순간 break\n",
    "        break"
   ]
  },
  {
   "cell_type": "code",
   "execution_count": 64,
   "id": "232a225c",
   "metadata": {},
   "outputs": [
    {
     "name": "stdout",
     "output_type": "stream",
     "text": [
      "10\n"
     ]
    }
   ],
   "source": [
    "i = 1\n",
    "while True:\n",
    "    i += 1\n",
    "    if i ==10:\n",
    "        print(i)\n",
    "        break"
   ]
  },
  {
   "cell_type": "markdown",
   "id": "5930f98d",
   "metadata": {},
   "source": [
    "# random 모듈            ( 여기서 random이 모듈명)"
   ]
  },
  {
   "cell_type": "markdown",
   "id": "67433865",
   "metadata": {},
   "source": [
    "아래를 통해 추후 텐서플로 파이토치 등등에서 용어 이해 잘 하기\n",
    "\n",
    "1. 모듈 : 파일탐색기에서 ***파일***과 같은 역활\n",
    "2. 패키지 : 폴더와 같다 (패키지 안에는 다른 패키지 혹은 모듈이 있을 수 있다, 모듈(파일), 서브패키지의 모임\n",
    "3. 라이브러리 : 자주 사용되는 ***기능을 함수단위로 만들어 제공*** ,한개 이상의 모듈 또는 모듈의 집합\n",
    "4. 플랫폼 : 토대, 기반 즉 우리가 프로그래밍을 할 수 있는 기반 예) 아나콘다, 운영체제(윈도우, 리눅스)등\n",
    "5. 클래스 : 붕어빵 기계, 도면 \n",
    "6. 객체 : 만들어진 붕어빵( 실체, 인스턴스), 건물  ***클래스로부터 객체를 만든다***\n",
    "7. 메서드 : (사냥한다, 이동한다, 먹는다 등등 다양한 동작을 객체가 수행하는 메서드) ***즉 객체가 수행하는 동작***\n",
    "8. 속성 : 객체의 특성( 캐릭터의 나이, 아이디, 레벨 등등)\n",
    "\n",
    " **오버라이딩** : 붕어빵 기계로 부터 잉어빵 기계를 제작 : 정확도와 완성도, 비용, 시간 목적"
   ]
  },
  {
   "cell_type": "markdown",
   "id": "02a2f44c",
   "metadata": {},
   "source": [
    "***random을 통해 난수값을 생성하며 난수란 컴퓨터가 생성하는 임의의 수***"
   ]
  },
  {
   "cell_type": "code",
   "execution_count": 65,
   "id": "3f528cc3",
   "metadata": {},
   "outputs": [],
   "source": [
    "import inspect,random"
   ]
  },
  {
   "cell_type": "code",
   "execution_count": 66,
   "id": "77264ca5",
   "metadata": {},
   "outputs": [
    {
     "name": "stdout",
     "output_type": "stream",
     "text": [
      "C:\\Users\\user\\anaconda3\\Lib\\random.py\n"
     ]
    }
   ],
   "source": [
    "print(inspect.getfile(random)) "
   ]
  },
  {
   "cell_type": "code",
   "execution_count": 67,
   "id": "9589e732",
   "metadata": {},
   "outputs": [
    {
     "data": {
      "text/plain": [
       "0.04802959104498561"
      ]
     },
     "execution_count": 67,
     "metadata": {},
     "output_type": "execute_result"
    }
   ],
   "source": [
    "random.random()       # 구조는 모듈:함수(메소스: 랜덤 모듈이 가지고 있는 메소드)"
   ]
  },
  {
   "cell_type": "code",
   "execution_count": 68,
   "id": "5c0e955d",
   "metadata": {},
   "outputs": [
    {
     "data": {
      "text/plain": [
       "24"
      ]
     },
     "execution_count": 68,
     "metadata": {},
     "output_type": "execute_result"
    }
   ],
   "source": [
    "random.randint(1,45)"
   ]
  },
  {
   "cell_type": "code",
   "execution_count": 82,
   "id": "88a43297",
   "metadata": {},
   "outputs": [
    {
     "name": "stdout",
     "output_type": "stream",
     "text": [
      "3\n",
      "3\n",
      "2\n"
     ]
    }
   ],
   "source": [
    "i = 0\n",
    "while i != 3:\n",
    "    print(random.randint(1,5))\n",
    "    i = i+1"
   ]
  },
  {
   "cell_type": "markdown",
   "id": "5295a30d",
   "metadata": {},
   "source": [
    "# 리스트 내포 ( 좀 어려움------- 제대로 공부하고 이해하기)"
   ]
  },
  {
   "cell_type": "code",
   "execution_count": 96,
   "id": "e6f97805",
   "metadata": {},
   "outputs": [
    {
     "name": "stdout",
     "output_type": "stream",
     "text": [
      "[2, 4, 6]\n"
     ]
    }
   ],
   "source": [
    "s=[1,2,3]\n",
    "r=[]\n",
    "for i in s:\n",
    "    r.append(i*2)\n",
    "print(r)"
   ]
  },
  {
   "cell_type": "code",
   "execution_count": 97,
   "id": "b8985cbe",
   "metadata": {},
   "outputs": [
    {
     "name": "stdout",
     "output_type": "stream",
     "text": [
      "[2, 4, 6]\n"
     ]
    }
   ],
   "source": [
    "r2=[2*i for i in s]\n",
    "print(r2)\n"
   ]
  },
  {
   "cell_type": "code",
   "execution_count": 98,
   "id": "8e5e4eb4",
   "metadata": {},
   "outputs": [
    {
     "name": "stdout",
     "output_type": "stream",
     "text": [
      "[4, 5, 6]\n"
     ]
    }
   ],
   "source": [
    "r2=[3+i for i in s]\n",
    "print(r2)"
   ]
  },
  {
   "cell_type": "code",
   "execution_count": 99,
   "id": "917812e0",
   "metadata": {},
   "outputs": [
    {
     "name": "stdout",
     "output_type": "stream",
     "text": [
      "[1, 3]\n"
     ]
    }
   ],
   "source": [
    "r3=[i for i in s if i %2 ==1]\n",
    "# <-----1----->\n",
    "#                <----2--->\n",
    "# <-3-> i변수가 초기화\n",
    "print(r3)"
   ]
  },
  {
   "cell_type": "markdown",
   "id": "a93b7cd6",
   "metadata": {},
   "source": [
    "# 이중 for문 구조"
   ]
  },
  {
   "cell_type": "code",
   "execution_count": 100,
   "id": "cd5b82c8",
   "metadata": {},
   "outputs": [
    {
     "data": {
      "text/plain": [
       "[2, 3, 4, 5, 6, 7, 8, 9]"
      ]
     },
     "execution_count": 100,
     "metadata": {},
     "output_type": "execute_result"
    }
   ],
   "source": [
    "[x for x in range(2,10)]"
   ]
  },
  {
   "cell_type": "code",
   "execution_count": 110,
   "id": "57c9fb26",
   "metadata": {},
   "outputs": [
    {
     "name": "stdout",
     "output_type": "stream",
     "text": [
      "2 4 6 8 10 12 14 16 18 \n",
      "==================================================\n",
      "3 6 9 12 15 18 21 24 27 \n",
      "==================================================\n",
      "4 8 12 16 20 24 28 32 36 \n",
      "==================================================\n",
      "5 10 15 20 25 30 35 40 45 \n",
      "==================================================\n",
      "6 12 18 24 30 36 42 48 54 \n",
      "==================================================\n",
      "7 14 21 28 35 42 49 56 63 \n",
      "==================================================\n",
      "8 16 24 32 40 48 56 64 72 \n",
      "==================================================\n",
      "9 18 27 36 45 54 63 72 81 \n",
      "==================================================\n"
     ]
    }
   ],
   "source": [
    "for x in range(2,10):                      # 중첩 for문(1번 2번 라인)\n",
    "    for y in range(1,10):                  \n",
    "        print(x*y,end=\" \")                     # for문 반복구조 2번 3번,,,,,1번 4번5 번\n",
    "    print() \n",
    "    print(\"=\"*50)"
   ]
  },
  {
   "cell_type": "code",
   "execution_count": 120,
   "id": "1308e350",
   "metadata": {},
   "outputs": [
    {
     "name": "stdout",
     "output_type": "stream",
     "text": [
      "[4, 6, 8, 10, 12, 14, 16, 18, 6, 9, 12, 15, 18, 21, 24, 27, 8, 12, 16, 20, 24, 28, 32, 36, 10, 15, 20, 25, 30, 35, 40, 45, 12, 18, 24, 30, 36, 42, 48, 54, 14, 21, 28, 35, 42, 49, 56, 63, 16, 24, 32, 40, 48, 56, 64, 72, 18, 27, 36, 45, 54, 63, 72, 81]\n"
     ]
    }
   ],
   "source": [
    "print([x*y for x in range(2,10) for y in range(2,10)])\n",
    "#         <---------1--------->\n",
    "#                                <--------2-------->    \n",
    "#    <-3->\n",
    "#                                <-------4--------->\n",
    "#    <-5->"
   ]
  },
  {
   "cell_type": "code",
   "execution_count": 134,
   "id": "93de3946",
   "metadata": {},
   "outputs": [
    {
     "name": "stdout",
     "output_type": "stream",
     "text": [
      "[3, 6, 9, 12, 15, 18, 21, 24, 27, 5, 10, 15, 20, 25, 30, 35, 40, 45]\n"
     ]
    }
   ],
   "source": [
    "# 구구단에서 3단 5단만 출력\n",
    "\n",
    "#print([x*y for x in range(2,10) if x ==3 for y in range(1,10)])\n",
    "#print([x*y for x in range(2,10) if x is 3 for y in range(1,10)])\n",
    "print([x*y for x in range(2,10) if x==3 or x==5 for y in range(1,10)])"
   ]
  },
  {
   "cell_type": "code",
   "execution_count": 133,
   "id": "e9348abf",
   "metadata": {},
   "outputs": [
    {
     "name": "stdout",
     "output_type": "stream",
     "text": [
      "[2, 4, 6, 8, 10, 12, 14, 16, 18, 3, 6, 9, 12, 15, 18, 21, 24, 27, 4, 8, 12, 16, 20, 24, 28, 32, 36, 5, 10, 15, 20, 25, 30, 35, 40, 45, 6, 12, 18, 24, 30, 36, 42, 48, 54, 7, 14, 21, 28, 35, 42, 49, 56, 63, 8, 16, 24, 32, 40, 48, 56, 64, 72, 9, 18, 27, 36, 45, 54, 63, 72, 81]\n"
     ]
    }
   ],
   "source": [
    "print([x*y for x in range(2,10) for y in range(1,10)])"
   ]
  },
  {
   "cell_type": "code",
   "execution_count": 140,
   "id": "fd7a9963",
   "metadata": {},
   "outputs": [
    {
     "name": "stdout",
     "output_type": "stream",
     "text": [
      "[2, 3, 6, 4, 8, 12, 5, 10, 15, 20, 6, 12, 18, 24, 30, 7, 14, 21, 28, 35, 42, 8, 16, 24, 32, 40, 48, 56, 9, 18, 27, 36, 45, 54, 63, 72]\n"
     ]
    }
   ],
   "source": [
    "# x가 y보다 클떄만 연산을 해라\n",
    "print([x*y for x in range(2,10) for y in range(1,10) if x>y])"
   ]
  },
  {
   "cell_type": "markdown",
   "id": "2d1cd1f5",
   "metadata": {},
   "source": [
    "# 위 까지가 리스트 내포를 이용한 활용 예제"
   ]
  }
 ],
 "metadata": {
  "kernelspec": {
   "display_name": "Python 3 (ipykernel)",
   "language": "python",
   "name": "python3"
  },
  "language_info": {
   "codemirror_mode": {
    "name": "ipython",
    "version": 3
   },
   "file_extension": ".py",
   "mimetype": "text/x-python",
   "name": "python",
   "nbconvert_exporter": "python",
   "pygments_lexer": "ipython3",
   "version": "3.11.4"
  }
 },
 "nbformat": 4,
 "nbformat_minor": 5
}
