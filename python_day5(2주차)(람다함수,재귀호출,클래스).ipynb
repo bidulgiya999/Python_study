{
 "cells": [
  {
   "cell_type": "markdown",
   "id": "ec26cd2f",
   "metadata": {},
   "source": [
    "# 재귀 호출: 자기 자신을 호출하는 함수(알고리즘 문제 해결)\n",
    " - 그러나 함수 호출때마다 메모리에 적재가 되어서 ***메모리*** 문제가 발생\n",
    " - 메모리 부족 현상이 발생하지 않도록 고려하기\n",
    " - ***재귀 호출을 종료하는 조건이 반드시 필요하다***"
   ]
  },
  {
   "cell_type": "markdown",
   "id": "be0de5f2",
   "metadata": {},
   "source": [
    " - 아래 같은 경우 함수를 호출할 때 마다 메모리 상에 저장이 된다\n",
    " - 그래서 반복 수행할때 종료 조건으로 중단을 해야함"
   ]
  },
  {
   "cell_type": "code",
   "execution_count": 1,
   "id": "4a978369",
   "metadata": {},
   "outputs": [
    {
     "name": "stdout",
     "output_type": "stream",
     "text": [
      "hi hello\n",
      "hi hello\n",
      "hi hello\n",
      "hi hello\n",
      "hi hello\n"
     ]
    }
   ],
   "source": [
    "def hi(cnt):          #  cnt : 인수   # hi 함수 \n",
    "    if cnt==0:\n",
    "        return\n",
    "    print(\"hi hello\")\n",
    "    cnt-=1\n",
    "    hi(cnt)#hi() : 재귀호출\n",
    "hi(5)"
   ]
  },
  {
   "cell_type": "code",
   "execution_count": 2,
   "id": "00980fb8",
   "metadata": {},
   "outputs": [
    {
     "data": {
      "text/plain": [
       "6"
      ]
     },
     "execution_count": 2,
     "metadata": {},
     "output_type": "execute_result"
    }
   ],
   "source": [
    "def myfunc(a):\n",
    "    return a+1\n",
    "myfunc(5)"
   ]
  },
  {
   "cell_type": "markdown",
   "id": "e665c263",
   "metadata": {},
   "source": [
    "# 람다 표현식(람다 함수) : 난이도가 꽤 어려우니 제대로 공부"
   ]
  },
  {
   "cell_type": "markdown",
   "id": "b6323ec1",
   "metadata": {},
   "source": [
    " - 람다함수는 : 이름이 없는 함수라고 익명 함수라고 불리기도 한다\n",
    " - 다른 함수의 인수로 통째로 쓰이기도 한다"
   ]
  },
  {
   "cell_type": "code",
   "execution_count": 3,
   "id": "a6b2ad4f",
   "metadata": {},
   "outputs": [
    {
     "data": {
      "text/plain": [
       "6"
      ]
     },
     "execution_count": 3,
     "metadata": {},
     "output_type": "execute_result"
    }
   ],
   "source": [
    "# 람다 표현식(람다 함수)\n",
    "myfunc2=lambda a:a+1\n",
    "myfunc2(5)"
   ]
  },
  {
   "cell_type": "code",
   "execution_count": 4,
   "id": "f7408f30",
   "metadata": {},
   "outputs": [
    {
     "data": {
      "text/plain": [
       "11"
      ]
     },
     "execution_count": 4,
     "metadata": {},
     "output_type": "execute_result"
    }
   ],
   "source": [
    "(lambda a:a+1)(10)    # 10이 람다뒤에 a에 입력이 됨"
   ]
  },
  {
   "cell_type": "markdown",
   "id": "2eef793b",
   "metadata": {},
   "source": [
    "### 람다에서는 새로는 변수를 만들 수 없다는 특징이 있다 : 아래 참고"
   ]
  },
  {
   "cell_type": "code",
   "execution_count": 5,
   "id": "c6b21333",
   "metadata": {},
   "outputs": [],
   "source": [
    "#(lambda a:b=5: a+b)(10) 틀린 예, 에러 발생"
   ]
  },
  {
   "cell_type": "code",
   "execution_count": 6,
   "id": "4def8956",
   "metadata": {},
   "outputs": [
    {
     "data": {
      "text/plain": [
       "15"
      ]
     },
     "execution_count": 6,
     "metadata": {},
     "output_type": "execute_result"
    }
   ],
   "source": [
    "b=5 # 변수\n",
    "(lambda a:a+b)(10) "
   ]
  },
  {
   "cell_type": "markdown",
   "id": "65d010ee",
   "metadata": {},
   "source": [
    "## 람다 함수 장점"
   ]
  },
  {
   "cell_type": "markdown",
   "id": "65f6d2ae",
   "metadata": {},
   "source": [
    "함수를 정의를 할때 함수의 인수부분에 간단하게 람다식을 이용해서 함수인수부분에서 함수를 만들수가 있다"
   ]
  },
  {
   "cell_type": "code",
   "execution_count": 7,
   "id": "6a6d91c1",
   "metadata": {},
   "outputs": [],
   "source": [
    "def add_5(x):\n",
    "    return x+5"
   ]
  },
  {
   "cell_type": "code",
   "execution_count": 8,
   "id": "1b84676b",
   "metadata": {},
   "outputs": [
    {
     "data": {
      "text/plain": [
       "[6, 7, 8]"
      ]
     },
     "execution_count": 8,
     "metadata": {},
     "output_type": "execute_result"
    }
   ],
   "source": [
    "list(map(add_5,[1,2,3]))"
   ]
  },
  {
   "cell_type": "code",
   "execution_count": 9,
   "id": "bcd4e7c8",
   "metadata": {},
   "outputs": [],
   "source": [
    "data=[1,2,3] #[6,7,8] 출력을 원한다"
   ]
  },
  {
   "cell_type": "code",
   "execution_count": 10,
   "id": "7952f8d1",
   "metadata": {},
   "outputs": [],
   "source": [
    "res=[]"
   ]
  },
  {
   "cell_type": "code",
   "execution_count": 11,
   "id": "969d8a45",
   "metadata": {},
   "outputs": [
    {
     "data": {
      "text/plain": [
       "[6, 7, 8]"
      ]
     },
     "execution_count": 11,
     "metadata": {},
     "output_type": "execute_result"
    }
   ],
   "source": [
    "for i in data:  # i에는 1,2,3이 읽어짐\n",
    "    res.append(add_5(i))\n",
    "res"
   ]
  },
  {
   "cell_type": "markdown",
   "id": "16b99af4",
   "metadata": {},
   "source": [
    "## 다른 방식 : map함수 이용"
   ]
  },
  {
   "cell_type": "code",
   "execution_count": 12,
   "id": "397fb13b",
   "metadata": {},
   "outputs": [
    {
     "data": {
      "text/plain": [
       "[6, 7, 8]"
      ]
     },
     "execution_count": 12,
     "metadata": {},
     "output_type": "execute_result"
    }
   ],
   "source": [
    "list(map(add_5,[1,2,3])) #map(함수,자료) >>>>>>>>>맵, 객체로 리턴됨 >>>> list로 변환"
   ]
  },
  {
   "cell_type": "markdown",
   "id": "232a5ba0",
   "metadata": {},
   "source": [
    "map 함수에는 인수가 두개가 오는데 1번째는 호출하는 함수가 오고 2번째에는 함수를 호출했을때 전달하고자하는 자료\n",
    "map(함수,자료) >>>>>>>>>맵, 객체로 리턴됨 >>>> list로 변환"
   ]
  },
  {
   "cell_type": "code",
   "execution_count": 13,
   "id": "5feeb089",
   "metadata": {},
   "outputs": [
    {
     "data": {
      "text/plain": [
       "<map at 0x21cc44094e0>"
      ]
     },
     "execution_count": 13,
     "metadata": {},
     "output_type": "execute_result"
    }
   ],
   "source": [
    "map(add_5,[1,2,3])"
   ]
  },
  {
   "cell_type": "markdown",
   "id": "3678d07c",
   "metadata": {},
   "source": [
    "## 밑에 람도함수도 함수이기 때문에 str이랑 int에 람가함수가 들어올수 있다"
   ]
  },
  {
   "cell_type": "code",
   "execution_count": 14,
   "id": "c78f204c",
   "metadata": {},
   "outputs": [
    {
     "data": {
      "text/plain": [
       "['1', '2', '3']"
      ]
     },
     "execution_count": 14,
     "metadata": {},
     "output_type": "execute_result"
    }
   ],
   "source": [
    "list(map(str,[1,2,3]))          "
   ]
  },
  {
   "cell_type": "code",
   "execution_count": 15,
   "id": "27c0a1cc",
   "metadata": {},
   "outputs": [
    {
     "data": {
      "text/plain": [
       "[1, 2, 3]"
      ]
     },
     "execution_count": 15,
     "metadata": {},
     "output_type": "execute_result"
    }
   ],
   "source": [
    "list(map(int,[1,2,3]))"
   ]
  },
  {
   "cell_type": "code",
   "execution_count": 16,
   "id": "722d41fa",
   "metadata": {},
   "outputs": [
    {
     "data": {
      "text/plain": [
       "[1, 2, 3]"
      ]
     },
     "execution_count": 16,
     "metadata": {},
     "output_type": "execute_result"
    }
   ],
   "source": [
    "list(map(int,[1,2,3]))"
   ]
  },
  {
   "cell_type": "code",
   "execution_count": 17,
   "id": "b9ff705c",
   "metadata": {},
   "outputs": [
    {
     "data": {
      "text/plain": [
       "[1.0, 2.0, 3.0]"
      ]
     },
     "execution_count": 17,
     "metadata": {},
     "output_type": "execute_result"
    }
   ],
   "source": [
    "list(map(float,[1,2,3]))"
   ]
  },
  {
   "cell_type": "markdown",
   "id": "c3a781f2",
   "metadata": {},
   "source": [
    "### 람다 함수를 사용한 예제 아래 참고 (매우 중요함)"
   ]
  },
  {
   "cell_type": "code",
   "execution_count": 18,
   "id": "20eff643",
   "metadata": {},
   "outputs": [
    {
     "data": {
      "text/plain": [
       "[6, 7, 8]"
      ]
     },
     "execution_count": 18,
     "metadata": {},
     "output_type": "execute_result"
    }
   ],
   "source": [
    "list(map(lambda x:x+5,[1,2,3])) # map함수의 인수로써 람다 함수가 전달\n",
    "                                # 코드가 간결해 지는 장점이 있다"
   ]
  },
  {
   "cell_type": "code",
   "execution_count": 19,
   "id": "11573066",
   "metadata": {},
   "outputs": [
    {
     "data": {
      "text/plain": [
       "[1, 2, 3, 4, 5, 6, 7, 8, 9, 10]"
      ]
     },
     "execution_count": 19,
     "metadata": {},
     "output_type": "execute_result"
    }
   ],
   "source": [
    "# lambda 변수 : 식1 if조건식 else 식2\n",
    "a=list(range(1,11))\n",
    "a"
   ]
  },
  {
   "cell_type": "code",
   "execution_count": 20,
   "id": "dd597133",
   "metadata": {},
   "outputs": [
    {
     "data": {
      "text/plain": [
       "['1', '2', '3', '4', '5', '6', '7', '8', '9', '10']"
      ]
     },
     "execution_count": 20,
     "metadata": {},
     "output_type": "execute_result"
    }
   ],
   "source": [
    "list(map(str,a))"
   ]
  },
  {
   "cell_type": "code",
   "execution_count": 21,
   "id": "e5aed38f",
   "metadata": {},
   "outputs": [
    {
     "data": {
      "text/plain": [
       "[1, '2', 3, '4', 5, '6', 7, '8', 9, '10']"
      ]
     },
     "execution_count": 21,
     "metadata": {},
     "output_type": "execute_result"
    }
   ],
   "source": [
    "#2의 배수만 문자로 표현\n",
    "list(map(lambda x : str(x) if x%2==0 else x,a))"
   ]
  },
  {
   "cell_type": "code",
   "execution_count": 22,
   "id": "5f5a602c",
   "metadata": {},
   "outputs": [],
   "source": [
    "# list(map(lambda x : str(x) if x%2==0,a))                 # if뒤에는 무조건 else가 있어야한다."
   ]
  },
  {
   "cell_type": "code",
   "execution_count": 23,
   "id": "bd8e06e0",
   "metadata": {},
   "outputs": [
    {
     "data": {
      "text/plain": [
       "[1, 2, 3.0, 4, 5, 6.0, 7, 8, 9.0, 10]"
      ]
     },
     "execution_count": 23,
     "metadata": {},
     "output_type": "execute_result"
    }
   ],
   "source": [
    "# [1, 2, 3, 4, 5, 6, 7, 8, 9, 10]\n",
    "#  3의 배수인 경우 실수로 변환\n",
    "a=list(range(1,11))\n",
    "a\n",
    "list(map(lambda x : float(x) if x%3==0 else x,a))"
   ]
  },
  {
   "cell_type": "code",
   "execution_count": 24,
   "id": "94a0ef40",
   "metadata": {},
   "outputs": [
    {
     "data": {
      "text/plain": [
       "['1', 2, 3.0, 4, 5, 6.0, 7, 8, 9.0, 10]"
      ]
     },
     "execution_count": 24,
     "metadata": {},
     "output_type": "execute_result"
    }
   ],
   "source": [
    "# [1, 2, 3, 4, 5, 6, 7, 8, 9, 10]\n",
    "#  3의 배수인 경우 실수로 변환, 1인 경우 \"1\"로 변환\n",
    "list(map(lambda x : float(x) if x%3==0 else str(x) if x==1 else x,a))"
   ]
  },
  {
   "cell_type": "markdown",
   "id": "e9973a8d",
   "metadata": {},
   "source": [
    "## for문을 이용한 경우"
   ]
  },
  {
   "cell_type": "code",
   "execution_count": 25,
   "id": "80aeae45",
   "metadata": {},
   "outputs": [
    {
     "data": {
      "text/plain": [
       "['1', 2, 3.0, 4, 5, 6.0, 7, 8, 9.0, 10]"
      ]
     },
     "execution_count": 25,
     "metadata": {},
     "output_type": "execute_result"
    }
   ],
   "source": [
    "def myfunc3(x):\n",
    "    res=[]\n",
    "    for i in x:\n",
    "        if i%3==0:\n",
    "            res.append(float(i))\n",
    "        elif i==1:\n",
    "            res.append(str(i))\n",
    "        else:\n",
    "            res.append(i)\n",
    "    return res    \n",
    "myfunc3(a)"
   ]
  },
  {
   "cell_type": "markdown",
   "id": "5cdeb301",
   "metadata": {},
   "source": [
    "## 위에 for문을 map함수로 바꾼 경우"
   ]
  },
  {
   "cell_type": "code",
   "execution_count": 26,
   "id": "fba8fa02",
   "metadata": {},
   "outputs": [],
   "source": [
    "def myfunc4(i):\n",
    "        if i%3==0:\n",
    "            return float(i)\n",
    "        elif i==1:\n",
    "            return str(i)\n",
    "        else:\n",
    "            return i"
   ]
  },
  {
   "cell_type": "code",
   "execution_count": 27,
   "id": "cd92b796",
   "metadata": {},
   "outputs": [
    {
     "data": {
      "text/plain": [
       "['1', 2, 3.0, 4, 5, 6.0, 7, 8, 9.0, 10]"
      ]
     },
     "execution_count": 27,
     "metadata": {},
     "output_type": "execute_result"
    }
   ],
   "source": [
    "list(map(myfunc4,a))"
   ]
  },
  {
   "cell_type": "code",
   "execution_count": 28,
   "id": "50efec5b",
   "metadata": {},
   "outputs": [],
   "source": [
    "x=[1,2,3]\n",
    "y=[2,4,6]\n",
    "#[2,8,18]"
   ]
  },
  {
   "cell_type": "code",
   "execution_count": 29,
   "id": "1393d2ca",
   "metadata": {},
   "outputs": [
    {
     "data": {
      "text/plain": [
       "[2, 4, 6]"
      ]
     },
     "execution_count": 29,
     "metadata": {},
     "output_type": "execute_result"
    }
   ],
   "source": [
    "list(map(lambda a:a*2,x))"
   ]
  },
  {
   "cell_type": "code",
   "execution_count": 30,
   "id": "95219c2d",
   "metadata": {},
   "outputs": [
    {
     "data": {
      "text/plain": [
       "[4, 8, 12]"
      ]
     },
     "execution_count": 30,
     "metadata": {},
     "output_type": "execute_result"
    }
   ],
   "source": [
    "list(map(lambda a:a*2,y))"
   ]
  },
  {
   "cell_type": "code",
   "execution_count": 31,
   "id": "e6a032d9",
   "metadata": {},
   "outputs": [
    {
     "data": {
      "text/plain": [
       "[2, 8, 18]"
      ]
     },
     "execution_count": 31,
     "metadata": {},
     "output_type": "execute_result"
    }
   ],
   "source": [
    "list(map(lambda a,b:a*b,x,y)) # 인수가 두개인 경우"
   ]
  },
  {
   "cell_type": "markdown",
   "id": "e6816fb7",
   "metadata": {},
   "source": [
    "# filter\n",
    " - 조건에 부합하는 자료(요소)만 추출하는 것\n",
    " - filter(함수,자료)"
   ]
  },
  {
   "cell_type": "code",
   "execution_count": 32,
   "id": "9b883a0b",
   "metadata": {},
   "outputs": [
    {
     "data": {
      "text/plain": [
       "[1, 2, 3, 4, 5, 6, 7, 8, 9, 10]"
      ]
     },
     "execution_count": 32,
     "metadata": {},
     "output_type": "execute_result"
    }
   ],
   "source": [
    "a=list(range(1,11))\n",
    "a\n",
    "# a에서 5이상 8미만의 데이터만 추출"
   ]
  },
  {
   "cell_type": "code",
   "execution_count": 33,
   "id": "b81fc555",
   "metadata": {},
   "outputs": [
    {
     "name": "stdout",
     "output_type": "stream",
     "text": [
      "5 6 7 "
     ]
    }
   ],
   "source": [
    "for i in range(1,11):\n",
    "    if 5<=i<8:\n",
    "        print(i,end= \" \")"
   ]
  },
  {
   "cell_type": "code",
   "execution_count": 34,
   "id": "f1293d3b",
   "metadata": {},
   "outputs": [],
   "source": [
    "def myfunc(x):\n",
    "    return x>=5 and x<8"
   ]
  },
  {
   "cell_type": "code",
   "execution_count": 35,
   "id": "3cbc6898",
   "metadata": {},
   "outputs": [
    {
     "data": {
      "text/plain": [
       "<filter at 0x21cc44ac8b0>"
      ]
     },
     "execution_count": 35,
     "metadata": {},
     "output_type": "execute_result"
    }
   ],
   "source": [
    "filter(myfunc,a)"
   ]
  },
  {
   "cell_type": "code",
   "execution_count": 36,
   "id": "2be26c5f",
   "metadata": {},
   "outputs": [
    {
     "data": {
      "text/plain": [
       "[5, 6, 7]"
      ]
     },
     "execution_count": 36,
     "metadata": {},
     "output_type": "execute_result"
    }
   ],
   "source": [
    "list(filter(myfunc,a))\n",
    "#myfunc함수에 a를 전달한 다음(a는 x에 전달됨), 조건식이 참인 결과값들을 리턴"
   ]
  },
  {
   "cell_type": "code",
   "execution_count": 37,
   "id": "e75e538b",
   "metadata": {},
   "outputs": [
    {
     "data": {
      "text/plain": [
       "[5, 6, 7]"
      ]
     },
     "execution_count": 37,
     "metadata": {},
     "output_type": "execute_result"
    }
   ],
   "source": [
    "list(filter(lambda x:x>=5 and x<8,a))"
   ]
  },
  {
   "cell_type": "code",
   "execution_count": 38,
   "id": "9b480b26",
   "metadata": {},
   "outputs": [
    {
     "name": "stdout",
     "output_type": "stream",
     "text": [
      "8 7 9 "
     ]
    }
   ],
   "source": [
    "a = [8, 3, 2, 10, 15, 7, 1, 9, 0, 11]\n",
    "# a에서 5초과 10미만 자료만 추출\n",
    "for i in a:\n",
    "    if 5<=i<10:\n",
    "        print(i,end= \" \")"
   ]
  },
  {
   "cell_type": "code",
   "execution_count": 39,
   "id": "b511c668",
   "metadata": {},
   "outputs": [
    {
     "data": {
      "text/plain": [
       "[8, 7, 9]"
      ]
     },
     "execution_count": 39,
     "metadata": {},
     "output_type": "execute_result"
    }
   ],
   "source": [
    "list(filter(lambda x:x>=5 and x<10,a))\n",
    "[i for i in a if i>5 and i<10]\n"
   ]
  },
  {
   "cell_type": "code",
   "execution_count": 40,
   "id": "1deac3b1",
   "metadata": {},
   "outputs": [
    {
     "data": {
      "text/plain": [
       "[8, 7, 9]"
      ]
     },
     "execution_count": 40,
     "metadata": {},
     "output_type": "execute_result"
    }
   ],
   "source": [
    "a = [8, 3, 2, 10, 15, 7, 1, 9, 0, 11]\n",
    "list(filter(lambda x : 5 < x < 10, a))"
   ]
  },
  {
   "cell_type": "markdown",
   "id": "191b4940",
   "metadata": {},
   "source": [
    "# abs"
   ]
  },
  {
   "cell_type": "code",
   "execution_count": 41,
   "id": "db63ddd2",
   "metadata": {},
   "outputs": [
    {
     "data": {
      "text/plain": [
       "True"
      ]
     },
     "execution_count": 41,
     "metadata": {},
     "output_type": "execute_result"
    }
   ],
   "source": [
    "abs(-5)\n",
    "abs(3)\n",
    "all([1,2]) # 모두 참--> 참\n",
    "all([1,2,0])\n",
    "all([]) # 빈 리스트 True"
   ]
  },
  {
   "cell_type": "markdown",
   "id": "f6283d8d",
   "metadata": {},
   "source": [
    "## any : 어느 하나라도 참이면 참"
   ]
  },
  {
   "cell_type": "code",
   "execution_count": 42,
   "id": "19db0aec",
   "metadata": {},
   "outputs": [
    {
     "data": {
      "text/plain": [
       "True"
      ]
     },
     "execution_count": 42,
     "metadata": {},
     "output_type": "execute_result"
    }
   ],
   "source": [
    "any([0]) # 하나라도 참이 있다면 전체가 참이되는 함수\n",
    "any([0,0,1])"
   ]
  },
  {
   "cell_type": "code",
   "execution_count": 43,
   "id": "ce8fa2e0",
   "metadata": {},
   "outputs": [
    {
     "data": {
      "text/plain": [
       "False"
      ]
     },
     "execution_count": 43,
     "metadata": {},
     "output_type": "execute_result"
    }
   ],
   "source": [
    "any([0,\"\"])"
   ]
  },
  {
   "cell_type": "markdown",
   "id": "84bfdbfe",
   "metadata": {},
   "source": [
    "## ord : 문자에 대한 유니코드"
   ]
  },
  {
   "cell_type": "code",
   "execution_count": 44,
   "id": "ff5a3713",
   "metadata": {},
   "outputs": [
    {
     "data": {
      "text/plain": [
       "32"
      ]
     },
     "execution_count": 44,
     "metadata": {},
     "output_type": "execute_result"
    }
   ],
   "source": [
    "ord(\"파\") \n",
    "ord(\" \")"
   ]
  },
  {
   "cell_type": "markdown",
   "id": "b4d0c153",
   "metadata": {},
   "source": [
    "## chr : 유니코드에 대한 문자"
   ]
  },
  {
   "cell_type": "code",
   "execution_count": 45,
   "id": "dcbc82e2",
   "metadata": {},
   "outputs": [
    {
     "data": {
      "text/plain": [
       "'파'"
      ]
     },
     "execution_count": 45,
     "metadata": {},
     "output_type": "execute_result"
    }
   ],
   "source": [
    "chr(54028)"
   ]
  },
  {
   "cell_type": "markdown",
   "id": "bc89fba4",
   "metadata": {},
   "source": [
    "## dir "
   ]
  },
  {
   "cell_type": "code",
   "execution_count": 46,
   "id": "e53e44fd",
   "metadata": {
    "scrolled": true
   },
   "outputs": [
    {
     "data": {
      "text/plain": [
       "['__add__',\n",
       " '__class__',\n",
       " '__class_getitem__',\n",
       " '__contains__',\n",
       " '__delattr__',\n",
       " '__delitem__',\n",
       " '__dir__',\n",
       " '__doc__',\n",
       " '__eq__',\n",
       " '__format__',\n",
       " '__ge__',\n",
       " '__getattribute__',\n",
       " '__getitem__',\n",
       " '__getstate__',\n",
       " '__gt__',\n",
       " '__hash__',\n",
       " '__iadd__',\n",
       " '__imul__',\n",
       " '__init__',\n",
       " '__init_subclass__',\n",
       " '__iter__',\n",
       " '__le__',\n",
       " '__len__',\n",
       " '__lt__',\n",
       " '__mul__',\n",
       " '__ne__',\n",
       " '__new__',\n",
       " '__reduce__',\n",
       " '__reduce_ex__',\n",
       " '__repr__',\n",
       " '__reversed__',\n",
       " '__rmul__',\n",
       " '__setattr__',\n",
       " '__setitem__',\n",
       " '__sizeof__',\n",
       " '__str__',\n",
       " '__subclasshook__',\n",
       " 'append',\n",
       " 'clear',\n",
       " 'copy',\n",
       " 'count',\n",
       " 'extend',\n",
       " 'index',\n",
       " 'insert',\n",
       " 'pop',\n",
       " 'remove',\n",
       " 'reverse',\n",
       " 'sort']"
      ]
     },
     "execution_count": 46,
     "metadata": {},
     "output_type": "execute_result"
    }
   ],
   "source": [
    "dir([1,2])#리스트 자료 구조에서 사용가능한 속성, 함수 목록"
   ]
  },
  {
   "cell_type": "markdown",
   "id": "0ea5a52e",
   "metadata": {},
   "source": [
    "## help함수를 사용 : 함수에 대한 설명필요할때"
   ]
  },
  {
   "cell_type": "code",
   "execution_count": 47,
   "id": "f006df6d",
   "metadata": {},
   "outputs": [
    {
     "name": "stdout",
     "output_type": "stream",
     "text": [
      "Help on built-in function dir in module builtins:\n",
      "\n",
      "dir(...)\n",
      "    dir([object]) -> list of strings\n",
      "    \n",
      "    If called without an argument, return the names in the current scope.\n",
      "    Else, return an alphabetized list of names comprising (some of) the attributes\n",
      "    of the given object, and of attributes reachable from it.\n",
      "    If the object supplies a method named __dir__, it will be used; otherwise\n",
      "    the default dir() logic is used and returns:\n",
      "      for a module object: the module's attributes.\n",
      "      for a class object:  its attributes, and recursively the attributes\n",
      "        of its bases.\n",
      "      for any other object: its attributes, its class's attributes, and\n",
      "        recursively the attributes of its class's base classes.\n",
      "\n"
     ]
    }
   ],
   "source": [
    "help(dir) # help(함수명)"
   ]
  },
  {
   "cell_type": "code",
   "execution_count": 48,
   "id": "05320bbd",
   "metadata": {},
   "outputs": [
    {
     "name": "stdout",
     "output_type": "stream",
     "text": [
      "Help on class filter in module builtins:\n",
      "\n",
      "class filter(object)\n",
      " |  filter(function or None, iterable) --> filter object\n",
      " |  \n",
      " |  Return an iterator yielding those items of iterable for which function(item)\n",
      " |  is true. If function is None, return the items that are true.\n",
      " |  \n",
      " |  Methods defined here:\n",
      " |  \n",
      " |  __getattribute__(self, name, /)\n",
      " |      Return getattr(self, name).\n",
      " |  \n",
      " |  __iter__(self, /)\n",
      " |      Implement iter(self).\n",
      " |  \n",
      " |  __next__(self, /)\n",
      " |      Implement next(self).\n",
      " |  \n",
      " |  __reduce__(...)\n",
      " |      Return state information for pickling.\n",
      " |  \n",
      " |  ----------------------------------------------------------------------\n",
      " |  Static methods defined here:\n",
      " |  \n",
      " |  __new__(*args, **kwargs) from builtins.type\n",
      " |      Create and return a new object.  See help(type) for accurate signature.\n",
      "\n"
     ]
    }
   ],
   "source": [
    "help(filter)"
   ]
  },
  {
   "cell_type": "code",
   "execution_count": 49,
   "id": "05f71f30",
   "metadata": {},
   "outputs": [
    {
     "data": {
      "text/plain": [
       "(1, 3)"
      ]
     },
     "execution_count": 49,
     "metadata": {},
     "output_type": "execute_result"
    }
   ],
   "source": [
    "divmod(8,5)"
   ]
  },
  {
   "cell_type": "code",
   "execution_count": 50,
   "id": "d28ee519",
   "metadata": {},
   "outputs": [
    {
     "data": {
      "text/plain": [
       "1.6"
      ]
     },
     "execution_count": 50,
     "metadata": {},
     "output_type": "execute_result"
    }
   ],
   "source": [
    "8//5\n",
    "8%5\n",
    "8/5"
   ]
  },
  {
   "cell_type": "markdown",
   "id": "47a29865",
   "metadata": {},
   "source": [
    "## enumerate : 인덱스와 각각의 자료가 읽어지며 많이 쓰는 함수다 매우 중요!"
   ]
  },
  {
   "cell_type": "code",
   "execution_count": 51,
   "id": "ca3c7735",
   "metadata": {},
   "outputs": [
    {
     "name": "stdout",
     "output_type": "stream",
     "text": [
      "0 h\n",
      "1 i\n",
      "2 h\n",
      "3 e\n",
      "4 l\n",
      "5 l\n",
      "6 o\n"
     ]
    }
   ],
   "source": [
    "for i, a in enumerate(\"hihello\"):\n",
    "    print(i,a)"
   ]
  },
  {
   "cell_type": "code",
   "execution_count": 52,
   "id": "c966395b",
   "metadata": {},
   "outputs": [
    {
     "name": "stdout",
     "output_type": "stream",
     "text": [
      "0 hi\n",
      "1 hello\n",
      "2 bye\n"
     ]
    }
   ],
   "source": [
    "for i, a in enumerate([\"hi\",\"hello\",\"bye\"]):\n",
    "    print(i,a)"
   ]
  },
  {
   "cell_type": "code",
   "execution_count": 53,
   "id": "86d1d252",
   "metadata": {},
   "outputs": [
    {
     "data": {
      "text/plain": [
       "\"print('hi')\""
      ]
     },
     "execution_count": 53,
     "metadata": {},
     "output_type": "execute_result"
    }
   ],
   "source": [
    "cmd=\"print('hi')\" # hi가 출력되게 할 경우\n",
    "cmd"
   ]
  },
  {
   "cell_type": "markdown",
   "id": "aeac83c8",
   "metadata": {},
   "source": [
    "## eval: 문자열로 표현되어진 식을 실행해주는 함수"
   ]
  },
  {
   "cell_type": "code",
   "execution_count": 54,
   "id": "2c42fb5f",
   "metadata": {},
   "outputs": [
    {
     "name": "stdout",
     "output_type": "stream",
     "text": [
      "hi\n"
     ]
    },
    {
     "data": {
      "text/plain": [
       "3"
      ]
     },
     "execution_count": 54,
     "metadata": {},
     "output_type": "execute_result"
    }
   ],
   "source": [
    "eval(cmd) # 문자열로 표현되어진 식을 실행해주는 함수\n",
    "eval(\"1+2\")"
   ]
  },
  {
   "cell_type": "code",
   "execution_count": 55,
   "id": "acf3fafa",
   "metadata": {},
   "outputs": [],
   "source": [
    "data=[-3,1,0,-5,4]\n",
    "#양수만 출력[1,4]"
   ]
  },
  {
   "cell_type": "code",
   "execution_count": 56,
   "id": "89b514fa",
   "metadata": {},
   "outputs": [
    {
     "data": {
      "text/plain": [
       "[1, 4]"
      ]
     },
     "execution_count": 56,
     "metadata": {},
     "output_type": "execute_result"
    }
   ],
   "source": [
    "data=[-3,1,0,-5,4]\n",
    "list(filter(lambda x :x>0,data))"
   ]
  },
  {
   "cell_type": "code",
   "execution_count": 57,
   "id": "37b4370a",
   "metadata": {},
   "outputs": [
    {
     "data": {
      "text/plain": [
       "[1, 4]"
      ]
     },
     "execution_count": 57,
     "metadata": {},
     "output_type": "execute_result"
    }
   ],
   "source": [
    "data=[-3,1,0,-5,4]\n",
    "res=[]\n",
    "for i in data:\n",
    "    if i>0:\n",
    "        res.append(i)\n",
    "res       "
   ]
  },
  {
   "cell_type": "markdown",
   "id": "5e0aad3f",
   "metadata": {},
   "source": [
    "### def문 복습"
   ]
  },
  {
   "cell_type": "markdown",
   "id": "c3afc443",
   "metadata": {},
   "source": [
    " - 함수는 진짜 매우 중요하니 계속 공부하고 \n",
    " - 특히 람다함수랑 클래스는 많이 공부해서 익히도록 해야함"
   ]
  },
  {
   "cell_type": "code",
   "execution_count": 58,
   "id": "77e891d2",
   "metadata": {},
   "outputs": [],
   "source": [
    "def hello():\n",
    "    print(\"hi\")\n",
    "    return\n",
    "    #return생략되어있다"
   ]
  },
  {
   "cell_type": "code",
   "execution_count": 59,
   "id": "8474f432",
   "metadata": {},
   "outputs": [
    {
     "name": "stdout",
     "output_type": "stream",
     "text": [
      "hi\n"
     ]
    }
   ],
   "source": [
    "hello()"
   ]
  },
  {
   "cell_type": "code",
   "execution_count": 60,
   "id": "0b2d69b7",
   "metadata": {},
   "outputs": [],
   "source": [
    "def hello():\n",
    "    print(\"hi\")\n",
    "    s=1+2\n",
    "    return s\n",
    "    #return생략되어있다"
   ]
  },
  {
   "cell_type": "code",
   "execution_count": 61,
   "id": "e0f70546",
   "metadata": {},
   "outputs": [
    {
     "name": "stdout",
     "output_type": "stream",
     "text": [
      "hi\n"
     ]
    },
    {
     "data": {
      "text/plain": [
       "3"
      ]
     },
     "execution_count": 61,
     "metadata": {},
     "output_type": "execute_result"
    }
   ],
   "source": [
    "hello()"
   ]
  },
  {
   "cell_type": "code",
   "execution_count": 62,
   "id": "4c355ea8",
   "metadata": {},
   "outputs": [
    {
     "name": "stdout",
     "output_type": "stream",
     "text": [
      "перезарядка журнала\n",
      "перезарядка журнала\n",
      "перезарядка журнала\n",
      "перезарядка журнала\n",
      "перезарядка журнала\n"
     ]
    }
   ],
   "source": [
    "def print_coins():\n",
    "    for i in range(5):\n",
    "        print(\"перезарядка журнала\")\n",
    "print_coins()"
   ]
  },
  {
   "cell_type": "code",
   "execution_count": 63,
   "id": "a137dc7a",
   "metadata": {},
   "outputs": [
    {
     "name": "stdout",
     "output_type": "stream",
     "text": [
      "перезарядка журнала\n",
      "перезарядка журнала\n",
      "перезарядка журнала\n",
      "перезарядка журнала\n",
      "перезарядка журнала\n",
      "перезарядка журнала\n",
      "перезарядка журнала\n",
      "перезарядка журнала\n",
      "перезарядка журнала\n",
      "перезарядка журнала\n",
      "\n"
     ]
    }
   ],
   "source": [
    "def print_coins():\n",
    "    return \"перезарядка журнала\\n\"*10\n",
    "print(print_coins())"
   ]
  },
  {
   "cell_type": "code",
   "execution_count": null,
   "id": "a299bdf2",
   "metadata": {},
   "outputs": [],
   "source": [
    "a=input(\"Word: \")\n",
    "print_with_smile=(lambda x:print(x+\":D\"))\n",
    "print_with_smile(a)"
   ]
  },
  {
   "cell_type": "code",
   "execution_count": null,
   "id": "014dcf3e",
   "metadata": {},
   "outputs": [],
   "source": []
  }
 ],
 "metadata": {
  "kernelspec": {
   "display_name": "Python 3 (ipykernel)",
   "language": "python",
   "name": "python3"
  },
  "language_info": {
   "codemirror_mode": {
    "name": "ipython",
    "version": 3
   },
   "file_extension": ".py",
   "mimetype": "text/x-python",
   "name": "python",
   "nbconvert_exporter": "python",
   "pygments_lexer": "ipython3",
   "version": "3.11.4"
  }
 },
 "nbformat": 4,
 "nbformat_minor": 5
}
