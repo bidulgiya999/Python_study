{
 "cells": [
  {
   "cell_type": "markdown",
   "id": "ab49bbaf",
   "metadata": {},
   "source": [
    "import matplotlib as mp\n",
    "import matplotlib.pylab as plt\n",
    "\n",
    "y = [7, 6, 1]\n",
    "x = np.arange(len(y))\n",
    "xlabel = ['A', 'B', 'C']\n",
    "plt.title(\"Bar Chart\")\n",
    "plt.bar(x, y)\n",
    "plt.xticks(x, xlabel)\n",
    "plt.yticks(sorted(y))\n",
    "plt.xlabel(\"ABC\")\n",
    "plt.ylabel(\"낙차\")\n",
    "plt.show()"
   ]
  },
  {
   "cell_type": "code",
   "execution_count": 4,
   "id": "5cdc04bc",
   "metadata": {},
   "outputs": [],
   "source": [
    "gravity=[7,4,2,0,0,6,0,7,0]\n",
    "max_cnt=0"
   ]
  },
  {
   "cell_type": "code",
   "execution_count": 5,
   "id": "8e6f8729",
   "metadata": {},
   "outputs": [],
   "source": [
    "for i in range(len(gravity)-1): # i는 0부터 7까지\n",
    "    cnt = 0\n",
    "    for j in range(i+1,len(gravity)): # i+1 ~ 8 까지\n",
    "        if gravity[i]>gravity[j]:       # 7 기준으로 본다면 낙차는 i는 7 j는 4\n",
    "            cnt += 1\n",
    "        if max_cnt<cnt:\n",
    "            max_cnt=cnt"
   ]
  },
  {
   "cell_type": "code",
   "execution_count": 6,
   "id": "802208ae",
   "metadata": {},
   "outputs": [
    {
     "data": {
      "text/plain": [
       "7"
      ]
     },
     "execution_count": 6,
     "metadata": {},
     "output_type": "execute_result"
    }
   ],
   "source": [
    "max_cnt"
   ]
  },
  {
   "cell_type": "code",
   "execution_count": 7,
   "id": "a3dbd437",
   "metadata": {},
   "outputs": [],
   "source": [
    "import numpy as np"
   ]
  },
  {
   "cell_type": "code",
   "execution_count": 8,
   "id": "58b89522",
   "metadata": {},
   "outputs": [
    {
     "data": {
      "text/plain": [
       "array([[ 0,  1,  0],\n",
       "       [ 1,  2, -2],\n",
       "       [ 6,  3,  2],\n",
       "       [-1,  0, -1],\n",
       "       [ 1,  0,  1]])"
      ]
     },
     "execution_count": 8,
     "metadata": {},
     "output_type": "execute_result"
    }
   ],
   "source": [
    "arr=np.array([[0,1,0],[1,2,-2],[6,3,2],[-1,0,-1],[1,0,1]])\n",
    "arr"
   ]
  },
  {
   "cell_type": "markdown",
   "id": "c85fc3e2",
   "metadata": {},
   "source": [
    "# 전치행렬 : 행과 열이 바뀐것\n",
    "# .T"
   ]
  },
  {
   "cell_type": "code",
   "execution_count": 9,
   "id": "b5211af9",
   "metadata": {},
   "outputs": [
    {
     "data": {
      "text/plain": [
       "array([[ 0,  1,  6, -1,  1],\n",
       "       [ 1,  2,  3,  0,  0],\n",
       "       [ 0, -2,  2, -1,  1]])"
      ]
     },
     "execution_count": 9,
     "metadata": {},
     "output_type": "execute_result"
    }
   ],
   "source": [
    "arr.T"
   ]
  },
  {
   "cell_type": "markdown",
   "id": "7caded91",
   "metadata": {},
   "source": [
    "# dot : 행렬의 곱셉"
   ]
  },
  {
   "cell_type": "code",
   "execution_count": 10,
   "id": "395eab1d",
   "metadata": {},
   "outputs": [
    {
     "data": {
      "text/plain": [
       "array([[ 1,  2,  3,  0,  0],\n",
       "       [ 2,  9,  8,  1, -1],\n",
       "       [ 3,  8, 49, -8,  8],\n",
       "       [ 0,  1, -8,  2, -2],\n",
       "       [ 0, -1,  8, -2,  2]])"
      ]
     },
     "execution_count": 10,
     "metadata": {},
     "output_type": "execute_result"
    }
   ],
   "source": [
    "np.dot(arr,arr.T)"
   ]
  },
  {
   "cell_type": "markdown",
   "id": "ecc26287",
   "metadata": {},
   "source": [
    "# @ : 행렬의 곱셉"
   ]
  },
  {
   "cell_type": "code",
   "execution_count": 11,
   "id": "4b1ac84f",
   "metadata": {},
   "outputs": [
    {
     "data": {
      "text/plain": [
       "array([[ 1,  2,  3,  0,  0],\n",
       "       [ 2,  9,  8,  1, -1],\n",
       "       [ 3,  8, 49, -8,  8],\n",
       "       [ 0,  1, -8,  2, -2],\n",
       "       [ 0, -1,  8, -2,  2]])"
      ]
     },
     "execution_count": 11,
     "metadata": {},
     "output_type": "execute_result"
    }
   ],
   "source": [
    "arr @ arr.T"
   ]
  },
  {
   "cell_type": "markdown",
   "id": "99c37f0b",
   "metadata": {},
   "source": [
    "# 3행 2열, 2행 4열 행렬 생성 (난수 1 ` 10까지)"
   ]
  },
  {
   "cell_type": "code",
   "execution_count": 12,
   "id": "651a3d99",
   "metadata": {},
   "outputs": [
    {
     "data": {
      "text/plain": [
       "array([[ 4,  4],\n",
       "       [ 3, 10],\n",
       "       [ 1,  8]])"
      ]
     },
     "execution_count": 12,
     "metadata": {},
     "output_type": "execute_result"
    }
   ],
   "source": [
    "arr1=np.random.randint(1,11, size=(3,2))\n",
    "arr1"
   ]
  },
  {
   "cell_type": "code",
   "execution_count": 13,
   "id": "ed746edb",
   "metadata": {},
   "outputs": [
    {
     "data": {
      "text/plain": [
       "array([[7, 7, 1, 6],\n",
       "       [6, 5, 8, 1]])"
      ]
     },
     "execution_count": 13,
     "metadata": {},
     "output_type": "execute_result"
    }
   ],
   "source": [
    "arr2=np.random.randint(1,11, size=(2,4))\n",
    "arr2"
   ]
  },
  {
   "cell_type": "code",
   "execution_count": 14,
   "id": "60f4af6e",
   "metadata": {},
   "outputs": [
    {
     "data": {
      "text/plain": [
       "array([[52, 48, 36, 28],\n",
       "       [81, 71, 83, 28],\n",
       "       [55, 47, 65, 14]])"
      ]
     },
     "execution_count": 14,
     "metadata": {},
     "output_type": "execute_result"
    }
   ],
   "source": [
    "arr1 @ arr2"
   ]
  },
  {
   "cell_type": "code",
   "execution_count": 15,
   "id": "84d7f30c",
   "metadata": {},
   "outputs": [
    {
     "data": {
      "text/plain": [
       "array([[52, 48, 36, 28],\n",
       "       [81, 71, 83, 28],\n",
       "       [55, 47, 65, 14]])"
      ]
     },
     "execution_count": 15,
     "metadata": {},
     "output_type": "execute_result"
    }
   ],
   "source": [
    "np.dot(arr1,arr2)"
   ]
  },
  {
   "cell_type": "markdown",
   "id": "dd418f7d",
   "metadata": {},
   "source": [
    "# 선형대수학"
   ]
  },
  {
   "cell_type": "markdown",
   "id": "1a439730",
   "metadata": {},
   "source": [
    "# 벡터 "
   ]
  },
  {
   "cell_type": "code",
   "execution_count": 16,
   "id": "e44364dc",
   "metadata": {},
   "outputs": [
    {
     "data": {
      "text/plain": [
       "\"\\n9월 6일 : 사과-5, 배-2,딸기-1\\n9월 7일 : 바난-3,딸기-2,배-1\\n\\n'''\\n         사과(200)  배(100)  딸기(300)  바나나(500)\\n9월 6일   5             2     1           0\\n9월 7일   0             1     2           3\\n\\n(5,2,1,0)     200       =    5*200 + 2*100 + 1*300 + 0*500 = 1500\\n(0,1,2,3)     100\\n           @  300\\n(2,3,1,0)     500\\n\\n\\n0 0 0 ...200 210 255...\\n0 255 210\\n\\n\""
      ]
     },
     "execution_count": 16,
     "metadata": {},
     "output_type": "execute_result"
    }
   ],
   "source": [
    "\"\"\"\n",
    "9월 6일 : 사과-5, 배-2,딸기-1\n",
    "9월 7일 : 바난-3,딸기-2,배-1\n",
    "\n",
    "'''\n",
    "         사과(200)  배(100)  딸기(300)  바나나(500)\n",
    "9월 6일   5             2     1           0\n",
    "9월 7일   0             1     2           3\n",
    "\n",
    "(5,2,1,0)     200       =    5*200 + 2*100 + 1*300 + 0*500 = 1500\n",
    "(0,1,2,3)     100\n",
    "           @  300\n",
    "(2,3,1,0)     500\n",
    "\n",
    "\n",
    "0 0 0 ...200 210 255...\n",
    "0 255 210\n",
    "\n",
    "\"\"\""
   ]
  },
  {
   "cell_type": "markdown",
   "id": "69821c0e",
   "metadata": {},
   "source": [
    "## mean : 평균 구하는 함수"
   ]
  },
  {
   "cell_type": "code",
   "execution_count": 17,
   "id": "a0f4e89d",
   "metadata": {},
   "outputs": [
    {
     "data": {
      "text/plain": [
       "array([[ 1.15217287, -0.53043153, -1.13121204, -1.46709833],\n",
       "       [-0.70067438, -0.34677303,  0.79921217,  0.51554177],\n",
       "       [ 1.69678921,  1.71059252, -0.37434294, -0.0699068 ],\n",
       "       [ 0.04179366,  0.52409388, -0.47985796,  1.12290748]])"
      ]
     },
     "execution_count": 17,
     "metadata": {},
     "output_type": "execute_result"
    }
   ],
   "source": [
    "samples=np.random.standard_normal(size=(4,4))\n",
    "samples"
   ]
  },
  {
   "cell_type": "code",
   "execution_count": 18,
   "id": "0c7d4c42",
   "metadata": {},
   "outputs": [
    {
     "data": {
      "text/plain": [
       "0.15392540956778494"
      ]
     },
     "execution_count": 18,
     "metadata": {},
     "output_type": "execute_result"
    }
   ],
   "source": [
    "np.mean(samples)"
   ]
  },
  {
   "cell_type": "code",
   "execution_count": 19,
   "id": "dffc0ef7",
   "metadata": {},
   "outputs": [
    {
     "data": {
      "text/plain": [
       "0.9319118497033088"
      ]
     },
     "execution_count": 19,
     "metadata": {},
     "output_type": "execute_result"
    }
   ],
   "source": [
    "np.std(samples)"
   ]
  },
  {
   "cell_type": "code",
   "execution_count": 20,
   "id": "51a233ce",
   "metadata": {},
   "outputs": [],
   "source": [
    "xarr = np.array([1.1, 1.2, 1.3, 1.4, 1.5])\n",
    "yarr = np.array([2.1, 2.2, 2.3, 2.4, 2.5])\n",
    "cond = np.array([True,False,True,True,False])"
   ]
  },
  {
   "cell_type": "code",
   "execution_count": 21,
   "id": "4574aaf8",
   "metadata": {},
   "outputs": [
    {
     "data": {
      "text/plain": [
       "array([1.1, 0. , 1.3, 1.4, 0. ])"
      ]
     },
     "execution_count": 21,
     "metadata": {},
     "output_type": "execute_result"
    }
   ],
   "source": [
    "(xarr*cond)"
   ]
  },
  {
   "cell_type": "code",
   "execution_count": 22,
   "id": "9c67c592",
   "metadata": {},
   "outputs": [
    {
     "data": {
      "text/plain": [
       "array([0. , 2.2, 0. , 0. , 2.5])"
      ]
     },
     "execution_count": 22,
     "metadata": {},
     "output_type": "execute_result"
    }
   ],
   "source": [
    "(yarr*~cond)"
   ]
  },
  {
   "cell_type": "code",
   "execution_count": 23,
   "id": "e0e5cc99",
   "metadata": {},
   "outputs": [
    {
     "data": {
      "text/plain": [
       "array([1.1, 2.2, 1.3, 1.4, 2.5])"
      ]
     },
     "execution_count": 23,
     "metadata": {},
     "output_type": "execute_result"
    }
   ],
   "source": [
    "(xarr*cond)+(yarr*~cond)"
   ]
  },
  {
   "cell_type": "code",
   "execution_count": 24,
   "id": "714973c2",
   "metadata": {},
   "outputs": [],
   "source": [
    "xarr = np.array([1.1, 1.2, 1.3, 1.4, 1.5])\n",
    "yarr = np.array([2.1, 2.2, 2.3, 2.4, 2.5])\n",
    "cond = np.array([True,False,True,True,False])"
   ]
  },
  {
   "cell_type": "code",
   "execution_count": 25,
   "id": "d5ac6a9d",
   "metadata": {},
   "outputs": [
    {
     "data": {
      "text/plain": [
       "[1.1, 2.2, 1.3, 1.4, 2.5]"
      ]
     },
     "execution_count": 25,
     "metadata": {},
     "output_type": "execute_result"
    }
   ],
   "source": [
    "[(x if c else y) for x,y,c in zip(xarr,yarr,cond)]"
   ]
  },
  {
   "cell_type": "markdown",
   "id": "38921bb7",
   "metadata": {},
   "source": [
    "#  where"
   ]
  },
  {
   "cell_type": "code",
   "execution_count": 26,
   "id": "db26d103",
   "metadata": {},
   "outputs": [
    {
     "data": {
      "text/plain": [
       "array('참입니다', dtype='<U5')"
      ]
     },
     "execution_count": 26,
     "metadata": {},
     "output_type": "execute_result"
    }
   ],
   "source": [
    "# np.where(조건,참,거짓)\n",
    "np.where(True, \"참입니다\",\"거짓입니다\")"
   ]
  },
  {
   "cell_type": "code",
   "execution_count": 27,
   "id": "dbdd4bc7",
   "metadata": {},
   "outputs": [
    {
     "data": {
      "text/plain": [
       "array([1.1, 2.2, 1.3, 1.4, 2.5])"
      ]
     },
     "execution_count": 27,
     "metadata": {},
     "output_type": "execute_result"
    }
   ],
   "source": [
    "np.where(cond,xarr,yarr)"
   ]
  },
  {
   "cell_type": "code",
   "execution_count": 28,
   "id": "60967d95",
   "metadata": {},
   "outputs": [
    {
     "data": {
      "text/plain": [
       "array([[-1.28219746,  0.25379736,  0.56592997,  0.01117917],\n",
       "       [ 0.16261901, -0.14112839, -1.26208962, -0.38264866],\n",
       "       [ 1.22590376,  1.26569088,  0.54569039, -0.98168992],\n",
       "       [-0.8655921 ,  0.39239697, -0.92664304, -1.46852975]])"
      ]
     },
     "execution_count": 28,
     "metadata": {},
     "output_type": "execute_result"
    }
   ],
   "source": [
    "arr=np.random.standard_normal((4,4))\n",
    "arr"
   ]
  },
  {
   "cell_type": "code",
   "execution_count": 29,
   "id": "eb435d89",
   "metadata": {},
   "outputs": [
    {
     "data": {
      "text/plain": [
       "array([[0.        , 0.25379736, 0.56592997, 0.01117917],\n",
       "       [0.16261901, 0.        , 0.        , 0.        ],\n",
       "       [1.22590376, 1.26569088, 0.54569039, 0.        ],\n",
       "       [0.        , 0.39239697, 0.        , 0.        ]])"
      ]
     },
     "execution_count": 29,
     "metadata": {},
     "output_type": "execute_result"
    }
   ],
   "source": [
    "np.where(arr<0,0,arr)"
   ]
  },
  {
   "cell_type": "markdown",
   "id": "487a11b0",
   "metadata": {},
   "source": [
    "# 데이터프레임"
   ]
  },
  {
   "cell_type": "code",
   "execution_count": 30,
   "id": "970e12ba",
   "metadata": {},
   "outputs": [
    {
     "data": {
      "text/html": [
       "<div>\n",
       "<style scoped>\n",
       "    .dataframe tbody tr th:only-of-type {\n",
       "        vertical-align: middle;\n",
       "    }\n",
       "\n",
       "    .dataframe tbody tr th {\n",
       "        vertical-align: top;\n",
       "    }\n",
       "\n",
       "    .dataframe thead th {\n",
       "        text-align: right;\n",
       "    }\n",
       "</style>\n",
       "<table border=\"1\" class=\"dataframe\">\n",
       "  <thead>\n",
       "    <tr style=\"text-align: right;\">\n",
       "      <th></th>\n",
       "      <th>제품</th>\n",
       "      <th>수량</th>\n",
       "      <th>제조일시</th>\n",
       "    </tr>\n",
       "  </thead>\n",
       "  <tbody>\n",
       "    <tr>\n",
       "      <th>0</th>\n",
       "      <td>milk</td>\n",
       "      <td>3</td>\n",
       "      <td>2020-01-01 01:00:00</td>\n",
       "    </tr>\n",
       "    <tr>\n",
       "      <th>1</th>\n",
       "      <td>juice</td>\n",
       "      <td>5</td>\n",
       "      <td>2019-12-30 15:01:00</td>\n",
       "    </tr>\n",
       "    <tr>\n",
       "      <th>2</th>\n",
       "      <td>bread</td>\n",
       "      <td>10</td>\n",
       "      <td>2019-12-31 00:00:00</td>\n",
       "    </tr>\n",
       "    <tr>\n",
       "      <th>3</th>\n",
       "      <td>icecream</td>\n",
       "      <td>2</td>\n",
       "      <td>2020-01-02 02:03:01</td>\n",
       "    </tr>\n",
       "  </tbody>\n",
       "</table>\n",
       "</div>"
      ],
      "text/plain": [
       "         제품  수량                제조일시\n",
       "0      milk   3 2020-01-01 01:00:00\n",
       "1     juice   5 2019-12-30 15:01:00\n",
       "2     bread  10 2019-12-31 00:00:00\n",
       "3  icecream   2 2020-01-02 02:03:01"
      ]
     },
     "execution_count": 30,
     "metadata": {},
     "output_type": "execute_result"
    }
   ],
   "source": [
    "import pandas as pd\n",
    "import numpy as np\n",
    "\n",
    "lst_A = {\"제품\":['milk','juice','bread','icecream'],\n",
    "         \"수량\":[3,5,10,2],\n",
    "         \"제조일시\":[\"2020-01-01 01:00\",\"2019-12-30 15:01:00\",\"2019-12-31 00:00:00\", \"2020-01-02 02:03:01\"]\n",
    "        }\n",
    "df = pd.DataFrame(lst_A)\n",
    "df\n",
    "df['제조일시'] = pd.to_datetime(df[\"제조일시\"])\n",
    "df"
   ]
  },
  {
   "cell_type": "code",
   "execution_count": 31,
   "id": "594e9c9f",
   "metadata": {},
   "outputs": [],
   "source": [
    "df[\"초과여부\"]=np.where(df[\"수량\"]<5,\"적정\",\"초과\")"
   ]
  },
  {
   "cell_type": "code",
   "execution_count": 32,
   "id": "995b81fe",
   "metadata": {},
   "outputs": [
    {
     "data": {
      "text/plain": [
       "0     True\n",
       "1    False\n",
       "2    False\n",
       "3     True\n",
       "Name: 수량, dtype: bool"
      ]
     },
     "execution_count": 32,
     "metadata": {},
     "output_type": "execute_result"
    }
   ],
   "source": [
    "df[\"수량\"]<5"
   ]
  },
  {
   "cell_type": "code",
   "execution_count": 33,
   "id": "5c4ae62c",
   "metadata": {},
   "outputs": [
    {
     "data": {
      "text/html": [
       "<div>\n",
       "<style scoped>\n",
       "    .dataframe tbody tr th:only-of-type {\n",
       "        vertical-align: middle;\n",
       "    }\n",
       "\n",
       "    .dataframe tbody tr th {\n",
       "        vertical-align: top;\n",
       "    }\n",
       "\n",
       "    .dataframe thead th {\n",
       "        text-align: right;\n",
       "    }\n",
       "</style>\n",
       "<table border=\"1\" class=\"dataframe\">\n",
       "  <thead>\n",
       "    <tr style=\"text-align: right;\">\n",
       "      <th></th>\n",
       "      <th>제품</th>\n",
       "      <th>수량</th>\n",
       "      <th>제조일시</th>\n",
       "      <th>초과여부</th>\n",
       "    </tr>\n",
       "  </thead>\n",
       "  <tbody>\n",
       "    <tr>\n",
       "      <th>0</th>\n",
       "      <td>milk</td>\n",
       "      <td>3</td>\n",
       "      <td>2020-01-01 01:00:00</td>\n",
       "      <td>적정</td>\n",
       "    </tr>\n",
       "    <tr>\n",
       "      <th>1</th>\n",
       "      <td>juice</td>\n",
       "      <td>5</td>\n",
       "      <td>2019-12-30 15:01:00</td>\n",
       "      <td>초과</td>\n",
       "    </tr>\n",
       "    <tr>\n",
       "      <th>2</th>\n",
       "      <td>bread</td>\n",
       "      <td>10</td>\n",
       "      <td>2019-12-31 00:00:00</td>\n",
       "      <td>초과</td>\n",
       "    </tr>\n",
       "    <tr>\n",
       "      <th>3</th>\n",
       "      <td>icecream</td>\n",
       "      <td>2</td>\n",
       "      <td>2020-01-02 02:03:01</td>\n",
       "      <td>적정</td>\n",
       "    </tr>\n",
       "  </tbody>\n",
       "</table>\n",
       "</div>"
      ],
      "text/plain": [
       "         제품  수량                제조일시 초과여부\n",
       "0      milk   3 2020-01-01 01:00:00   적정\n",
       "1     juice   5 2019-12-30 15:01:00   초과\n",
       "2     bread  10 2019-12-31 00:00:00   초과\n",
       "3  icecream   2 2020-01-02 02:03:01   적정"
      ]
     },
     "execution_count": 33,
     "metadata": {},
     "output_type": "execute_result"
    }
   ],
   "source": [
    "df"
   ]
  },
  {
   "cell_type": "code",
   "execution_count": 34,
   "id": "40db337f",
   "metadata": {},
   "outputs": [],
   "source": [
    "df['제품종류']=np.where((df[\"제품\"]==\"juice\")|(df[\"제품\"]==\"milk\"),\"음료\",\"간식\")"
   ]
  },
  {
   "cell_type": "code",
   "execution_count": 35,
   "id": "0c82234c",
   "metadata": {},
   "outputs": [
    {
     "data": {
      "text/html": [
       "<div>\n",
       "<style scoped>\n",
       "    .dataframe tbody tr th:only-of-type {\n",
       "        vertical-align: middle;\n",
       "    }\n",
       "\n",
       "    .dataframe tbody tr th {\n",
       "        vertical-align: top;\n",
       "    }\n",
       "\n",
       "    .dataframe thead th {\n",
       "        text-align: right;\n",
       "    }\n",
       "</style>\n",
       "<table border=\"1\" class=\"dataframe\">\n",
       "  <thead>\n",
       "    <tr style=\"text-align: right;\">\n",
       "      <th></th>\n",
       "      <th>제품</th>\n",
       "      <th>수량</th>\n",
       "      <th>제조일시</th>\n",
       "      <th>초과여부</th>\n",
       "      <th>제품종류</th>\n",
       "    </tr>\n",
       "  </thead>\n",
       "  <tbody>\n",
       "    <tr>\n",
       "      <th>0</th>\n",
       "      <td>milk</td>\n",
       "      <td>3</td>\n",
       "      <td>2020-01-01 01:00:00</td>\n",
       "      <td>적정</td>\n",
       "      <td>음료</td>\n",
       "    </tr>\n",
       "    <tr>\n",
       "      <th>1</th>\n",
       "      <td>juice</td>\n",
       "      <td>5</td>\n",
       "      <td>2019-12-30 15:01:00</td>\n",
       "      <td>초과</td>\n",
       "      <td>음료</td>\n",
       "    </tr>\n",
       "    <tr>\n",
       "      <th>2</th>\n",
       "      <td>bread</td>\n",
       "      <td>10</td>\n",
       "      <td>2019-12-31 00:00:00</td>\n",
       "      <td>초과</td>\n",
       "      <td>간식</td>\n",
       "    </tr>\n",
       "    <tr>\n",
       "      <th>3</th>\n",
       "      <td>icecream</td>\n",
       "      <td>2</td>\n",
       "      <td>2020-01-02 02:03:01</td>\n",
       "      <td>적정</td>\n",
       "      <td>간식</td>\n",
       "    </tr>\n",
       "  </tbody>\n",
       "</table>\n",
       "</div>"
      ],
      "text/plain": [
       "         제품  수량                제조일시 초과여부 제품종류\n",
       "0      milk   3 2020-01-01 01:00:00   적정   음료\n",
       "1     juice   5 2019-12-30 15:01:00   초과   음료\n",
       "2     bread  10 2019-12-31 00:00:00   초과   간식\n",
       "3  icecream   2 2020-01-02 02:03:01   적정   간식"
      ]
     },
     "execution_count": 35,
     "metadata": {},
     "output_type": "execute_result"
    }
   ],
   "source": [
    "df"
   ]
  },
  {
   "cell_type": "code",
   "execution_count": 36,
   "id": "60bbbeb1",
   "metadata": {},
   "outputs": [
    {
     "data": {
      "text/plain": [
       "-0.18045696361709448"
      ]
     },
     "execution_count": 36,
     "metadata": {},
     "output_type": "execute_result"
    }
   ],
   "source": [
    "np.mean(arr)"
   ]
  },
  {
   "cell_type": "code",
   "execution_count": 37,
   "id": "d2f71476",
   "metadata": {},
   "outputs": [
    {
     "data": {
      "text/plain": [
       "-0.18045696361709448"
      ]
     },
     "execution_count": 37,
     "metadata": {},
     "output_type": "execute_result"
    }
   ],
   "source": [
    "arr.mean()"
   ]
  },
  {
   "cell_type": "code",
   "execution_count": 38,
   "id": "c4ca2f56",
   "metadata": {},
   "outputs": [
    {
     "data": {
      "text/plain": [
       "-2.8873114178735118"
      ]
     },
     "execution_count": 38,
     "metadata": {},
     "output_type": "execute_result"
    }
   ],
   "source": [
    "np.sum(arr)"
   ]
  },
  {
   "cell_type": "code",
   "execution_count": 39,
   "id": "beaaa04a",
   "metadata": {},
   "outputs": [
    {
     "data": {
      "text/plain": [
       "-2.8873114178735118"
      ]
     },
     "execution_count": 39,
     "metadata": {},
     "output_type": "execute_result"
    }
   ],
   "source": [
    "arr.sum()"
   ]
  },
  {
   "cell_type": "code",
   "execution_count": 40,
   "id": "a6f01480",
   "metadata": {},
   "outputs": [
    {
     "data": {
      "text/plain": [
       "array([[-1.28219746,  0.25379736,  0.56592997,  0.01117917],\n",
       "       [ 0.16261901, -0.14112839, -1.26208962, -0.38264866],\n",
       "       [ 1.22590376,  1.26569088,  0.54569039, -0.98168992],\n",
       "       [-0.8655921 ,  0.39239697, -0.92664304, -1.46852975]])"
      ]
     },
     "execution_count": 40,
     "metadata": {},
     "output_type": "execute_result"
    }
   ],
   "source": [
    "arr"
   ]
  },
  {
   "cell_type": "markdown",
   "id": "a7c1bb4b",
   "metadata": {},
   "source": [
    "# cumsum : 누적합"
   ]
  },
  {
   "cell_type": "code",
   "execution_count": 41,
   "id": "8b7e6c91",
   "metadata": {},
   "outputs": [
    {
     "data": {
      "text/plain": [
       "array([10, 21, 33, 46, 60])"
      ]
     },
     "execution_count": 41,
     "metadata": {},
     "output_type": "execute_result"
    }
   ],
   "source": [
    "arr=np.arange(10,15)\n",
    "arr.cumsum()"
   ]
  },
  {
   "cell_type": "code",
   "execution_count": 42,
   "id": "2f8e26cb",
   "metadata": {},
   "outputs": [
    {
     "data": {
      "text/plain": [
       "array([[10, 11],\n",
       "       [12, 13],\n",
       "       [14, 15]])"
      ]
     },
     "execution_count": 42,
     "metadata": {},
     "output_type": "execute_result"
    }
   ],
   "source": [
    "arr=np.arange(10,16).reshape(3,2)\n",
    "arr"
   ]
  },
  {
   "cell_type": "code",
   "execution_count": 43,
   "id": "6d64094b",
   "metadata": {},
   "outputs": [
    {
     "data": {
      "text/plain": [
       "array([[10, 11],\n",
       "       [22, 24],\n",
       "       [36, 39]])"
      ]
     },
     "execution_count": 43,
     "metadata": {},
     "output_type": "execute_result"
    }
   ],
   "source": [
    "arr.cumsum(axis=0)"
   ]
  },
  {
   "cell_type": "code",
   "execution_count": 44,
   "id": "a787e115",
   "metadata": {},
   "outputs": [
    {
     "data": {
      "text/plain": [
       "array([[10, 21],\n",
       "       [12, 25],\n",
       "       [14, 29]])"
      ]
     },
     "execution_count": 44,
     "metadata": {},
     "output_type": "execute_result"
    }
   ],
   "source": [
    "arr.cumsum(axis=1)"
   ]
  },
  {
   "cell_type": "code",
   "execution_count": 45,
   "id": "b82d80e3",
   "metadata": {},
   "outputs": [
    {
     "data": {
      "text/plain": [
       "[[10, 21], [12, 25], [14, 29]]"
      ]
     },
     "execution_count": 45,
     "metadata": {},
     "output_type": "execute_result"
    }
   ],
   "source": [
    "a=[[10, 21],[12, 25],[14, 29]]\n",
    "a\n",
    "#sum(a) # 사용안됨"
   ]
  },
  {
   "cell_type": "code",
   "execution_count": 46,
   "id": "0be543c3",
   "metadata": {},
   "outputs": [
    {
     "data": {
      "text/plain": [
       "75"
      ]
     },
     "execution_count": 46,
     "metadata": {},
     "output_type": "execute_result"
    }
   ],
   "source": [
    "a=[[10, 11],[12, 13],[14, 15]]\n",
    "a\n",
    "s=0\n",
    "for i in a:\n",
    "    for j in i:\n",
    "        s+=j\n",
    "s        "
   ]
  },
  {
   "cell_type": "code",
   "execution_count": 47,
   "id": "155f6060",
   "metadata": {},
   "outputs": [
    {
     "data": {
      "text/plain": [
       "75"
      ]
     },
     "execution_count": 47,
     "metadata": {},
     "output_type": "execute_result"
    }
   ],
   "source": [
    "arr.sum()"
   ]
  },
  {
   "cell_type": "code",
   "execution_count": 48,
   "id": "30272ccd",
   "metadata": {},
   "outputs": [
    {
     "data": {
      "text/plain": [
       "42"
      ]
     },
     "execution_count": 48,
     "metadata": {},
     "output_type": "execute_result"
    }
   ],
   "source": [
    "a=[[10, 11],[12, 13],[14, 15]]\n",
    "a\n",
    "s=0\n",
    "for i in a:\n",
    "    for j in i:\n",
    "        if j>=13:\n",
    "            s+=j\n",
    "s    "
   ]
  },
  {
   "cell_type": "code",
   "execution_count": 49,
   "id": "1ca680d9",
   "metadata": {},
   "outputs": [
    {
     "data": {
      "text/plain": [
       "array([[False, False],\n",
       "       [False,  True],\n",
       "       [ True,  True]])"
      ]
     },
     "execution_count": 49,
     "metadata": {},
     "output_type": "execute_result"
    }
   ],
   "source": [
    "arr.sum()\n",
    "arr>=13"
   ]
  },
  {
   "cell_type": "code",
   "execution_count": 50,
   "id": "a72427ff",
   "metadata": {},
   "outputs": [
    {
     "data": {
      "text/plain": [
       "3"
      ]
     },
     "execution_count": 50,
     "metadata": {},
     "output_type": "execute_result"
    }
   ],
   "source": [
    "arr.sum()\n",
    "(arr>=13).sum()"
   ]
  },
  {
   "cell_type": "code",
   "execution_count": 51,
   "id": "6ca03909",
   "metadata": {},
   "outputs": [
    {
     "data": {
      "text/plain": [
       "42"
      ]
     },
     "execution_count": 51,
     "metadata": {},
     "output_type": "execute_result"
    }
   ],
   "source": [
    "arr.sum()\n",
    "arr[arr>=13].sum()"
   ]
  },
  {
   "cell_type": "code",
   "execution_count": 52,
   "id": "67928b40",
   "metadata": {},
   "outputs": [
    {
     "data": {
      "text/plain": [
       "array([[10, 11],\n",
       "       [12, 13],\n",
       "       [14, 15]])"
      ]
     },
     "execution_count": 52,
     "metadata": {},
     "output_type": "execute_result"
    }
   ],
   "source": [
    "arr"
   ]
  },
  {
   "cell_type": "code",
   "execution_count": 53,
   "id": "08f6fab2",
   "metadata": {},
   "outputs": [
    {
     "data": {
      "text/plain": [
       "array([14, 15])"
      ]
     },
     "execution_count": 53,
     "metadata": {},
     "output_type": "execute_result"
    }
   ],
   "source": [
    "arr[1]\n",
    "arr[0]\n",
    "arr[2]"
   ]
  },
  {
   "cell_type": "code",
   "execution_count": 54,
   "id": "eeb43ef4",
   "metadata": {},
   "outputs": [
    {
     "data": {
      "text/plain": [
       "array([[12, 13],\n",
       "       [10, 11],\n",
       "       [14, 15]])"
      ]
     },
     "execution_count": 54,
     "metadata": {},
     "output_type": "execute_result"
    }
   ],
   "source": [
    "brr=arr[[1,0,2]]\n",
    "brr"
   ]
  },
  {
   "cell_type": "markdown",
   "id": "5c15c0a6",
   "metadata": {},
   "source": [
    "# 행과 열 오름차순"
   ]
  },
  {
   "cell_type": "code",
   "execution_count": 55,
   "id": "280a7551",
   "metadata": {},
   "outputs": [
    {
     "data": {
      "text/plain": [
       "array([[10, 11],\n",
       "       [12, 13],\n",
       "       [14, 15]])"
      ]
     },
     "execution_count": 55,
     "metadata": {},
     "output_type": "execute_result"
    }
   ],
   "source": [
    "brr.sort(axis=0)\n",
    "brr"
   ]
  },
  {
   "cell_type": "code",
   "execution_count": 56,
   "id": "01c2c5e8",
   "metadata": {},
   "outputs": [
    {
     "data": {
      "text/plain": [
       "array([[10, 11],\n",
       "       [12, 13],\n",
       "       [14, 15]])"
      ]
     },
     "execution_count": 56,
     "metadata": {},
     "output_type": "execute_result"
    }
   ],
   "source": [
    "brr.sort(axis=1)\n",
    "brr"
   ]
  },
  {
   "cell_type": "markdown",
   "id": "534c1c81",
   "metadata": {},
   "source": [
    "# unique : 데이터에서 중복값 제거"
   ]
  },
  {
   "cell_type": "code",
   "execution_count": 57,
   "id": "a44c3307",
   "metadata": {},
   "outputs": [
    {
     "data": {
      "text/plain": [
       "array(['Bob', 'Joe', 'Will'], dtype='<U4')"
      ]
     },
     "execution_count": 57,
     "metadata": {},
     "output_type": "execute_result"
    }
   ],
   "source": [
    "names=np.array([\"Bob\",\"Will\",\"Joe\",\"Bob\",\"Will\",\"Joe\",\"Joe\"])\n",
    "np.unique(names)"
   ]
  },
  {
   "cell_type": "code",
   "execution_count": 58,
   "id": "219b2413",
   "metadata": {},
   "outputs": [
    {
     "data": {
      "text/plain": [
       "array([1, 2, 3, 4])"
      ]
     },
     "execution_count": 58,
     "metadata": {},
     "output_type": "execute_result"
    }
   ],
   "source": [
    "ints=np.array([3,3,3,2,2,1,1,4,4,])\n",
    "np.unique(ints)"
   ]
  },
  {
   "cell_type": "code",
   "execution_count": 59,
   "id": "66a0f452",
   "metadata": {},
   "outputs": [
    {
     "data": {
      "text/plain": [
       "{'Bob', 'Joe', 'Will'}"
      ]
     },
     "execution_count": 59,
     "metadata": {},
     "output_type": "execute_result"
    }
   ],
   "source": [
    "set(names)              # set자료형 구조에도 중괄호가 사용됨"
   ]
  },
  {
   "cell_type": "markdown",
   "id": "1212faa9",
   "metadata": {},
   "source": [
    "# 난수생성"
   ]
  },
  {
   "cell_type": "code",
   "execution_count": 60,
   "id": "aa535f1a",
   "metadata": {},
   "outputs": [
    {
     "data": {
      "text/plain": [
       "array([0.82185505, 0.02874265, 0.40769321])"
      ]
     },
     "execution_count": 60,
     "metadata": {},
     "output_type": "execute_result"
    }
   ],
   "source": [
    "np.random.rand(3)"
   ]
  },
  {
   "cell_type": "markdown",
   "id": "1a9756ce",
   "metadata": {},
   "source": [
    "# seed : 동기화(같은 난수가 나오게 됨)"
   ]
  },
  {
   "cell_type": "code",
   "execution_count": 61,
   "id": "dd196cd7",
   "metadata": {},
   "outputs": [],
   "source": [
    "np.random.seed(20230907)"
   ]
  },
  {
   "cell_type": "code",
   "execution_count": 62,
   "id": "22a398d1",
   "metadata": {},
   "outputs": [
    {
     "data": {
      "text/plain": [
       "array([0.64824332, 0.27289441, 0.9663242 ])"
      ]
     },
     "execution_count": 62,
     "metadata": {},
     "output_type": "execute_result"
    }
   ],
   "source": [
    "np.random.rand(3)"
   ]
  },
  {
   "cell_type": "code",
   "execution_count": 63,
   "id": "4e15345d",
   "metadata": {},
   "outputs": [
    {
     "data": {
      "text/plain": [
       "array([0, 1, 2, 3, 4, 5, 6, 7, 8, 9])"
      ]
     },
     "execution_count": 63,
     "metadata": {},
     "output_type": "execute_result"
    }
   ],
   "source": [
    "x=np.arange(10)\n",
    "x"
   ]
  },
  {
   "cell_type": "markdown",
   "id": "ebbd787c",
   "metadata": {},
   "source": [
    "# shuffle : 데이터를 무작위로 섞는것"
   ]
  },
  {
   "cell_type": "code",
   "execution_count": 64,
   "id": "d7f6159a",
   "metadata": {},
   "outputs": [],
   "source": [
    "np.random.seed(20230907)"
   ]
  },
  {
   "cell_type": "code",
   "execution_count": 65,
   "id": "5dfa761d",
   "metadata": {},
   "outputs": [
    {
     "data": {
      "text/plain": [
       "array([2, 5, 3, 4, 1, 0, 6, 8, 7, 9])"
      ]
     },
     "execution_count": 65,
     "metadata": {},
     "output_type": "execute_result"
    }
   ],
   "source": [
    "np.random.shuffle(x)\n",
    "x"
   ]
  },
  {
   "cell_type": "markdown",
   "id": "c718bc4c",
   "metadata": {},
   "source": [
    "# choice : range,arange랑 같은 뜻"
   ]
  },
  {
   "cell_type": "code",
   "execution_count": 71,
   "id": "00c07539",
   "metadata": {},
   "outputs": [
    {
     "data": {
      "text/plain": [
       "3"
      ]
     },
     "execution_count": 71,
     "metadata": {},
     "output_type": "execute_result"
    }
   ],
   "source": [
    "np.random.choice(5)"
   ]
  },
  {
   "cell_type": "code",
   "execution_count": 72,
   "id": "d479a615",
   "metadata": {},
   "outputs": [
    {
     "data": {
      "text/plain": [
       "array([4, 2, 3])"
      ]
     },
     "execution_count": 72,
     "metadata": {},
     "output_type": "execute_result"
    }
   ],
   "source": [
    "np.random.choice(5,3)"
   ]
  },
  {
   "cell_type": "markdown",
   "id": "4b02941a",
   "metadata": {},
   "source": [
    "# replace\n",
    " - replace=False는 replace하지 말라는 뜻\n",
    " - replace=True는 replace가 허용"
   ]
  },
  {
   "cell_type": "code",
   "execution_count": 68,
   "id": "e78ef172",
   "metadata": {},
   "outputs": [
    {
     "data": {
      "text/plain": [
       "array([4, 3, 2])"
      ]
     },
     "execution_count": 68,
     "metadata": {},
     "output_type": "execute_result"
    }
   ],
   "source": [
    "np.random.choice(5,3,replace=False) # replace히자 말라는거 즉 중복된 값이 나오지 않는다"
   ]
  },
  {
   "cell_type": "markdown",
   "id": "aa31dc27",
   "metadata": {},
   "source": [
    "- np.random.choice(5,10,replace=False)  # 이건 오류가 나옴\n",
    "- np.random.choice(5, 10, replace=False)가 오류를 발생시키는 이유는 replace=False를 사용하면서 5개의 고유한 숫자를 10번 무작위로 선택하려고 하기 때문입니다. 그러나 0부터 4까지의 5개의 고유한 숫자만 사용 가능하기 때문에 중복되지 않는 10개의 숫자를 생성할 수 없습니다. 이렇게 코드를 실행하면 다음과 같은 ValueError가 발생할 것입니다:"
   ]
  },
  {
   "cell_type": "code",
   "execution_count": 69,
   "id": "2a86403c",
   "metadata": {},
   "outputs": [
    {
     "data": {
      "text/plain": [
       "array([2, 2, 1, 2, 2, 0, 1, 0, 2, 4])"
      ]
     },
     "execution_count": 69,
     "metadata": {},
     "output_type": "execute_result"
    }
   ],
   "source": [
    "np.random.choice(5,10,replace=True) "
   ]
  },
  {
   "cell_type": "markdown",
   "id": "a0dba3ce",
   "metadata": {},
   "source": [
    "# replace와 choice를 이용한 로또 문제"
   ]
  },
  {
   "cell_type": "code",
   "execution_count": 70,
   "id": "a9cd5c00",
   "metadata": {},
   "outputs": [
    {
     "data": {
      "text/plain": [
       "array([25, 30, 34,  3, 44, 24])"
      ]
     },
     "execution_count": 70,
     "metadata": {},
     "output_type": "execute_result"
    }
   ],
   "source": [
    "np.random.choice(45,6,replace=False)+1            # 범위는 1부터 44까지 "
   ]
  },
  {
   "cell_type": "code",
   "execution_count": null,
   "id": "968d94ff",
   "metadata": {},
   "outputs": [],
   "source": []
  },
  {
   "cell_type": "code",
   "execution_count": 75,
   "id": "85a13d6d",
   "metadata": {},
   "outputs": [
    {
     "data": {
      "text/plain": [
       "array([1, 0, 4])"
      ]
     },
     "execution_count": 75,
     "metadata": {},
     "output_type": "execute_result"
    }
   ],
   "source": [
    "np.random.choice(5,3,replace=False)"
   ]
  },
  {
   "cell_type": "code",
   "execution_count": null,
   "id": "2d417078",
   "metadata": {},
   "outputs": [],
   "source": []
  }
 ],
 "metadata": {
  "kernelspec": {
   "display_name": "Python 3 (ipykernel)",
   "language": "python",
   "name": "python3"
  },
  "language_info": {
   "codemirror_mode": {
    "name": "ipython",
    "version": 3
   },
   "file_extension": ".py",
   "mimetype": "text/x-python",
   "name": "python",
   "nbconvert_exporter": "python",
   "pygments_lexer": "ipython3",
   "version": "3.11.4"
  }
 },
 "nbformat": 4,
 "nbformat_minor": 5
}
